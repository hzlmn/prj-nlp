{
 "cells": [
  {
   "cell_type": "markdown",
   "metadata": {},
   "source": [
    "# Baseline for English version"
   ]
  },
  {
   "cell_type": "code",
   "execution_count": 1,
   "metadata": {},
   "outputs": [],
   "source": [
    "import pandas as pd\n",
    "import numpy as np\n",
    "from sklearn.model_selection import train_test_split\n",
    "\n",
    "DATA_DIR = '/Users/admin/edu/NLP/practical_NLP_course/data/'\n",
    "BLOGS_PREP_EN_FILE = 'blog_authors_preped.csv.gzip'"
   ]
  },
  {
   "cell_type": "markdown",
   "metadata": {},
   "source": [
    "Now, we can split df to train and test"
   ]
  },
  {
   "cell_type": "code",
   "execution_count": 2,
   "metadata": {},
   "outputs": [],
   "source": [
    "data = pd.read_csv(DATA_DIR+BLOGS_PREP_EN_FILE, compression='gzip')"
   ]
  },
  {
   "cell_type": "code",
   "execution_count": 4,
   "metadata": {},
   "outputs": [],
   "source": [
    "all_classes = data['age+sex'].drop_duplicates().tolist()"
   ]
  },
  {
   "cell_type": "code",
   "execution_count": 3,
   "metadata": {},
   "outputs": [],
   "source": [
    "\n",
    "# X_train, X_test, y_train, y_test = train_test_split(data[['text', 'word_count', 'char_length']],\n",
    "#                                                     data['age+sex'],\n",
    "#                                                     test_size=0.2,\n",
    "#                                                     random_state=249)"
   ]
  },
  {
   "cell_type": "raw",
   "metadata": {},
   "source": [
    "For baseline I choosed a common Bag of Words, Count vectorizer and NaiveBayes classificator for several classes"
   ]
  },
  {
   "cell_type": "code",
   "execution_count": 5,
   "metadata": {},
   "outputs": [],
   "source": [
    "from sklearn.feature_extraction.text import CountVectorizer\n",
    "\n",
    "# bow_transformer = CountVectorizer().fit(X_train.text)\n",
    "# how many unique words in the comments\n",
    "# len(bow_transformer.vocabulary_)"
   ]
  },
  {
   "cell_type": "code",
   "execution_count": 5,
   "metadata": {},
   "outputs": [],
   "source": [
    "# feature_mapping = bow_transformer.get_feature_names()"
   ]
  },
  {
   "cell_type": "markdown",
   "metadata": {},
   "source": [
    "lets clean a text before apply the model: delete links, convert all numbers to 999, remove some useless punctuation, and letters which occurs in the word more than 6 times."
   ]
  },
  {
   "cell_type": "code",
   "execution_count": 6,
   "metadata": {},
   "outputs": [],
   "source": [
    "import re\n",
    "\n",
    "def clean_text(text):\n",
    "    text = re.sub(r'(?:https?://|www\\.)[^\\s]+', '', text)\n",
    "    text = re.sub(r'[0-9]+', ' 999 ', text)\n",
    "    text = re.sub(r'[\\s_]+', ' ', text)\n",
    "    text = re.sub(r'(\\w)\\1{3,}', r'\\1', text)\n",
    "    if len(text) > 20:\n",
    "        text = text[:20]\n",
    "    return text.strip()"
   ]
  },
  {
   "cell_type": "code",
   "execution_count": 7,
   "metadata": {},
   "outputs": [],
   "source": [
    "data['text_cleaned'] = data['text'].apply(clean_text)\n",
    "data.drop(['text'], axis=1, inplace=True)"
   ]
  },
  {
   "cell_type": "code",
   "execution_count": 13,
   "metadata": {},
   "outputs": [
    {
     "data": {
      "text/plain": [
       "8082"
      ]
     },
     "execution_count": 13,
     "metadata": {},
     "output_type": "execute_result"
    }
   ],
   "source": [
    "X_train, X_test, y_train, y_test = train_test_split(data[['text_cleaned', 'word_count', 'char_length']],\n",
    "                                                    data['age+sex'],\n",
    "                                                    test_size=0.25,\n",
    "                                                    random_state=249)\n",
    "\n",
    "bow_transformer = CountVectorizer(min_df=8).fit(X_train.text_cleaned)\n",
    "len(bow_transformer.vocabulary_)"
   ]
  },
  {
   "cell_type": "code",
   "execution_count": 14,
   "metadata": {},
   "outputs": [
    {
     "data": {
      "text/plain": [
       "['99',\n",
       " '999',\n",
       " 'aa',\n",
       " 'aaaah',\n",
       " 'aaah',\n",
       " 'aaahhh',\n",
       " 'aaargh',\n",
       " 'aah',\n",
       " 'aargh',\n",
       " 'aaron',\n",
       " 'ab',\n",
       " 'abby',\n",
       " 'abc',\n",
       " 'abcnews',\n",
       " 'abe',\n",
       " 'ability',\n",
       " 'abit',\n",
       " 'abl',\n",
       " 'able',\n",
       " 'abo',\n",
       " 'aboard',\n",
       " 'abortion',\n",
       " 'abou',\n",
       " 'about',\n",
       " 'abov',\n",
       " 'above',\n",
       " 'abs',\n",
       " 'absence',\n",
       " 'abso',\n",
       " 'absol']"
      ]
     },
     "execution_count": 14,
     "metadata": {},
     "output_type": "execute_result"
    }
   ],
   "source": [
    "feature_mapping = bow_transformer.get_feature_names()\n",
    "feature_mapping[:30]"
   ]
  },
  {
   "cell_type": "code",
   "execution_count": 15,
   "metadata": {},
   "outputs": [],
   "source": [
    "X_text = bow_transformer.transform(X_train['text_cleaned'])"
   ]
  },
  {
   "cell_type": "code",
   "execution_count": 16,
   "metadata": {},
   "outputs": [],
   "source": [
    "X_text_bow = pd.DataFrame(X_text.todense(), columns=feature_mapping, index=X_train.index)"
   ]
  },
  {
   "cell_type": "code",
   "execution_count": 12,
   "metadata": {},
   "outputs": [],
   "source": [
    "# X_train_basline = pd.concat([X_text_bow, X_train[['word_count', 'char_length']]], axis=1, join=\"inner\")"
   ]
  },
  {
   "cell_type": "markdown",
   "metadata": {},
   "source": [
    "cross validation to choose the best alpha based on the accuracy and f1 score for the models:"
   ]
  },
  {
   "cell_type": "code",
   "execution_count": 17,
   "metadata": {},
   "outputs": [
    {
     "data": {
      "text/plain": [
       "GridSearchCV(cv=4, error_score='raise',\n",
       "       estimator=MultinomialNB(alpha=1.0, class_prior=None, fit_prior=True),\n",
       "       fit_params=None, iid=True, n_jobs=8,\n",
       "       param_grid={'alpha': [0.001, 0.01, 0.1, 1.0]},\n",
       "       pre_dispatch='2*n_jobs', refit=False, return_train_score=False,\n",
       "       scoring=['precision_macro', 'recall_macro', 'f1_macro', 'accuracy'],\n",
       "       verbose=0)"
      ]
     },
     "execution_count": 17,
     "metadata": {},
     "output_type": "execute_result"
    }
   ],
   "source": [
    "from sklearn.model_selection import GridSearchCV\n",
    "from sklearn.naive_bayes import MultinomialNB\n",
    "\n",
    "scoring = ['precision_macro', 'recall_macro', 'f1_macro', 'accuracy']\n",
    "\n",
    "parameters = {'alpha': [0.001, 0.01, 0.1, 1.0]}\n",
    "clf_temp = GridSearchCV(MultinomialNB(), parameters, cv=4, return_train_score=False, n_jobs=8, \n",
    "                        scoring=scoring, refit=False)\n",
    "clf_temp.fit(X_text_bow, y_train)"
   ]
  },
  {
   "cell_type": "code",
   "execution_count": 18,
   "metadata": {},
   "outputs": [
    {
     "data": {
      "text/html": [
       "<div>\n",
       "<style>\n",
       "    .dataframe thead tr:only-child th {\n",
       "        text-align: right;\n",
       "    }\n",
       "\n",
       "    .dataframe thead th {\n",
       "        text-align: left;\n",
       "    }\n",
       "\n",
       "    .dataframe tbody tr th {\n",
       "        vertical-align: top;\n",
       "    }\n",
       "</style>\n",
       "<table border=\"1\" class=\"dataframe\">\n",
       "  <thead>\n",
       "    <tr style=\"text-align: right;\">\n",
       "      <th></th>\n",
       "      <th>alpha</th>\n",
       "      <th>mean_test_accuracy</th>\n",
       "      <th>mean_test_f1</th>\n",
       "      <th>mean_test_precision</th>\n",
       "      <th>mean_test_recall</th>\n",
       "      <th>rank_test_accuracy</th>\n",
       "      <th>rank_test_f1</th>\n",
       "      <th>rank_test_precision</th>\n",
       "      <th>rank_test_recall</th>\n",
       "    </tr>\n",
       "  </thead>\n",
       "  <tbody>\n",
       "    <tr>\n",
       "      <th>0</th>\n",
       "      <td>0.001</td>\n",
       "      <td>0.265445</td>\n",
       "      <td>0.254698</td>\n",
       "      <td>0.257718</td>\n",
       "      <td>0.260827</td>\n",
       "      <td>3</td>\n",
       "      <td>2</td>\n",
       "      <td>4</td>\n",
       "      <td>3</td>\n",
       "    </tr>\n",
       "    <tr>\n",
       "      <th>1</th>\n",
       "      <td>0.010</td>\n",
       "      <td>0.265445</td>\n",
       "      <td>0.254693</td>\n",
       "      <td>0.257721</td>\n",
       "      <td>0.260826</td>\n",
       "      <td>3</td>\n",
       "      <td>3</td>\n",
       "      <td>3</td>\n",
       "      <td>4</td>\n",
       "    </tr>\n",
       "    <tr>\n",
       "      <th>2</th>\n",
       "      <td>0.100</td>\n",
       "      <td>0.265573</td>\n",
       "      <td>0.254720</td>\n",
       "      <td>0.257871</td>\n",
       "      <td>0.260923</td>\n",
       "      <td>2</td>\n",
       "      <td>1</td>\n",
       "      <td>2</td>\n",
       "      <td>2</td>\n",
       "    </tr>\n",
       "    <tr>\n",
       "      <th>3</th>\n",
       "      <td>1.000</td>\n",
       "      <td>0.266137</td>\n",
       "      <td>0.254211</td>\n",
       "      <td>0.258363</td>\n",
       "      <td>0.261189</td>\n",
       "      <td>1</td>\n",
       "      <td>4</td>\n",
       "      <td>1</td>\n",
       "      <td>1</td>\n",
       "    </tr>\n",
       "  </tbody>\n",
       "</table>\n",
       "</div>"
      ],
      "text/plain": [
       "   alpha  mean_test_accuracy  mean_test_f1  mean_test_precision  \\\n",
       "0  0.001            0.265445      0.254698             0.257718   \n",
       "1  0.010            0.265445      0.254693             0.257721   \n",
       "2  0.100            0.265573      0.254720             0.257871   \n",
       "3  1.000            0.266137      0.254211             0.258363   \n",
       "\n",
       "   mean_test_recall  rank_test_accuracy  rank_test_f1  rank_test_precision  \\\n",
       "0          0.260827                   3             2                    4   \n",
       "1          0.260826                   3             3                    3   \n",
       "2          0.260923                   2             1                    2   \n",
       "3          0.261189                   1             4                    1   \n",
       "\n",
       "   rank_test_recall  \n",
       "0                 3  \n",
       "1                 4  \n",
       "2                 2  \n",
       "3                 1  "
      ]
     },
     "execution_count": 18,
     "metadata": {},
     "output_type": "execute_result"
    }
   ],
   "source": [
    "clf_temp_data = {re.sub('_macro','',k):v for k, v in clf_temp.cv_results_.items() if k.startswith('mean_test') or k.startswith('rank_')}\n",
    "clf_temp_data['alpha'] = [0.001, 0.01, 0.1, 1.0]\n",
    "pd.DataFrame(clf_temp_data)"
   ]
  },
  {
   "cell_type": "markdown",
   "metadata": {},
   "source": [
    "So let's choose alpha to 0.1 because the F1 score is the better in this case"
   ]
  },
  {
   "cell_type": "code",
   "execution_count": 19,
   "metadata": {},
   "outputs": [],
   "source": [
    "model = MultinomialNB(alpha=0.1)\n",
    "model.fit(X_text_bow, y_train)\n",
    "predictions = model.predict(bow_transformer.transform(X_test['text_cleaned']))"
   ]
  },
  {
   "cell_type": "markdown",
   "metadata": {},
   "source": [
    "Get the most valuable words for the model"
   ]
  },
  {
   "cell_type": "code",
   "execution_count": 22,
   "metadata": {},
   "outputs": [
    {
     "name": "stdout",
     "output_type": "stream",
     "text": [
      "(12.0, 17.0]male: last, okay, no, hello, like, ve, oh, its, on, nbsp, went, th, at, for, up, had, not, wow, are, know, we, day, all, been, im, that, got, me, ok, what, in, of, am, have, and, just, hey, it, you, this, was, well, 999, today, urllink, to, is, my, so, the\n",
      "\n",
      "(25.0, 48.0]male: an, nbsp, yeah, im, hello, as, has, back, went, now, are, know, th, had, at, not, on, up, ve, here, we, me, for, day, all, been, that, am, ok, what, got, have, and, in, hey, of, just, you, it, was, so, today, this, 999, my, well, to, is, urllink, the\n",
      "\n",
      "(12.0, 17.0]female: don, night, nbsp, has, went, there, can, no, be, one, day, know, an, at, all, here, got, last, not, th, are, ok, me, on, had, we, ve, for, that, what, been, today, am, just, and, well, in, have, of, was, you, 999, this, it, is, my, to, so, urllink, the\n",
      "\n",
      "(17.0, 25.0]female: now, up, there, be, if, know, from, has, new, had, one, as, me, last, are, day, at, ok, not, all, th, an, here, got, we, what, am, ve, that, on, been, for, today, have, and, in, just, was, you, well, of, 999, it, so, this, my, is, to, the, urllink\n",
      "\n",
      "(17.0, 25.0]male: there, do, if, nbsp, went, has, one, can, be, from, an, know, last, th, all, at, got, me, are, here, not, ok, had, day, ve, that, for, what, on, been, we, today, am, just, well, and, have, was, in, you, of, so, this, it, 999, is, my, to, urllink, the\n",
      "\n",
      "(25.0, 48.0]female: like, some, know, me, be, if, ok, last, has, day, all, new, there, got, as, had, one, at, are, not, th, from, what, an, am, ve, here, been, today, that, for, we, on, and, have, just, was, well, so, you, in, of, my, it, 999, this, is, to, the, urllink\n",
      "\n"
     ]
    }
   ],
   "source": [
    "for i, class_label in enumerate(all_classes):\n",
    "    top30 = np.argsort(model.coef_[i])[-50:]\n",
    "    print(\"%s: %s\" % (class_label, \", \".join(feature_mapping[x] for x in top30 if x < len(feature_mapping))))\n",
    "    print()"
   ]
  },
  {
   "cell_type": "markdown",
   "metadata": {},
   "source": [
    "### Evalutaion\n",
    "\n",
    "To evaluate the model I used several metrics: Precision, Recall, F1 score and ROC AUC metrics.\n",
    "As the model is multilabel classification, I used option average 'weighted' and 'macro'. First option calculates metrics for each label, and find their average, weighted by support (the number of true instances for each label). Second one calculates metrics for each label, and find their unweighted mean"
   ]
  },
  {
   "cell_type": "code",
   "execution_count": 24,
   "metadata": {},
   "outputs": [
    {
     "name": "stdout",
     "output_type": "stream",
     "text": [
      "Accuracy: 0.266502748756\n",
      "\n",
      "Precision weighted: 0.259487442233\n",
      "Recall weighted: 0.266502748756\n",
      "F1 score weighted: 0.257564999179\n",
      "\n",
      "Precision macro: 0.258010451244\n",
      "Recall macro: 0.261512294872\n",
      "F1 score macro: 0.254103233134\n"
     ]
    }
   ],
   "source": [
    "from sklearn.metrics import accuracy_score, precision_score, recall_score, confusion_matrix, precision_recall_fscore_support, f1_score, roc_auc_score, roc_curve, auc\n",
    "\n",
    "print('Accuracy:', accuracy_score(y_test, predictions))\n",
    "print()\n",
    "print('Precision weighted:', precision_score(y_test, predictions, average='weighted'))\n",
    "print('Recall weighted:', recall_score(y_test, predictions, average='weighted'))\n",
    "print('F1 score weighted:', f1_score(y_test, predictions, average='weighted'))\n",
    "print()\n",
    "print('Precision macro:', precision_score(y_test, predictions, average='macro'))\n",
    "print('Recall macro:', recall_score(y_test, predictions, average='macro'))\n",
    "print('F1 score macro:', f1_score(y_test, predictions, average='macro'))"
   ]
  },
  {
   "cell_type": "code",
   "execution_count": 26,
   "metadata": {},
   "outputs": [
    {
     "data": {
      "text/html": [
       "<div>\n",
       "<style>\n",
       "    .dataframe thead tr:only-child th {\n",
       "        text-align: right;\n",
       "    }\n",
       "\n",
       "    .dataframe thead th {\n",
       "        text-align: left;\n",
       "    }\n",
       "\n",
       "    .dataframe tbody tr th {\n",
       "        vertical-align: top;\n",
       "    }\n",
       "</style>\n",
       "<table border=\"1\" class=\"dataframe\">\n",
       "  <thead>\n",
       "    <tr style=\"text-align: right;\">\n",
       "      <th></th>\n",
       "      <th>(12.0, 17.0]male</th>\n",
       "      <th>(25.0, 48.0]male</th>\n",
       "      <th>(12.0, 17.0]female</th>\n",
       "      <th>(17.0, 25.0]female</th>\n",
       "      <th>(17.0, 25.0]male</th>\n",
       "      <th>(25.0, 48.0]female</th>\n",
       "    </tr>\n",
       "  </thead>\n",
       "  <tbody>\n",
       "    <tr>\n",
       "      <th>(12.0, 17.0]male</th>\n",
       "      <td>5852</td>\n",
       "      <td>3481</td>\n",
       "      <td>6258</td>\n",
       "      <td>3107</td>\n",
       "      <td>1605</td>\n",
       "      <td>1556</td>\n",
       "    </tr>\n",
       "    <tr>\n",
       "      <th>(25.0, 48.0]male</th>\n",
       "      <td>2641</td>\n",
       "      <td>7298</td>\n",
       "      <td>2615</td>\n",
       "      <td>3446</td>\n",
       "      <td>1995</td>\n",
       "      <td>2077</td>\n",
       "    </tr>\n",
       "    <tr>\n",
       "      <th>(12.0, 17.0]female</th>\n",
       "      <td>4404</td>\n",
       "      <td>2403</td>\n",
       "      <td>8924</td>\n",
       "      <td>3486</td>\n",
       "      <td>1162</td>\n",
       "      <td>1615</td>\n",
       "    </tr>\n",
       "    <tr>\n",
       "      <th>(17.0, 25.0]female</th>\n",
       "      <td>3109</td>\n",
       "      <td>4133</td>\n",
       "      <td>4407</td>\n",
       "      <td>5308</td>\n",
       "      <td>1818</td>\n",
       "      <td>2391</td>\n",
       "    </tr>\n",
       "    <tr>\n",
       "      <th>(17.0, 25.0]male</th>\n",
       "      <td>3109</td>\n",
       "      <td>4890</td>\n",
       "      <td>3134</td>\n",
       "      <td>3552</td>\n",
       "      <td>2377</td>\n",
       "      <td>1809</td>\n",
       "    </tr>\n",
       "    <tr>\n",
       "      <th>(25.0, 48.0]female</th>\n",
       "      <td>2422</td>\n",
       "      <td>4214</td>\n",
       "      <td>3288</td>\n",
       "      <td>4007</td>\n",
       "      <td>1660</td>\n",
       "      <td>2866</td>\n",
       "    </tr>\n",
       "  </tbody>\n",
       "</table>\n",
       "</div>"
      ],
      "text/plain": [
       "                    (12.0, 17.0]male  (25.0, 48.0]male  (12.0, 17.0]female  \\\n",
       "(12.0, 17.0]male                5852              3481                6258   \n",
       "(25.0, 48.0]male                2641              7298                2615   \n",
       "(12.0, 17.0]female              4404              2403                8924   \n",
       "(17.0, 25.0]female              3109              4133                4407   \n",
       "(17.0, 25.0]male                3109              4890                3134   \n",
       "(25.0, 48.0]female              2422              4214                3288   \n",
       "\n",
       "                    (17.0, 25.0]female  (17.0, 25.0]male  (25.0, 48.0]female  \n",
       "(12.0, 17.0]male                  3107              1605                1556  \n",
       "(25.0, 48.0]male                  3446              1995                2077  \n",
       "(12.0, 17.0]female                3486              1162                1615  \n",
       "(17.0, 25.0]female                5308              1818                2391  \n",
       "(17.0, 25.0]male                  3552              2377                1809  \n",
       "(25.0, 48.0]female                4007              1660                2866  "
      ]
     },
     "execution_count": 26,
     "metadata": {},
     "output_type": "execute_result"
    }
   ],
   "source": [
    "conf_matrix_temp = confusion_matrix(y_test, predictions, labels=all_classes)\n",
    "conf_matrix_baseline = pd.DataFrame(conf_matrix_temp, columns=all_classes, index=all_classes)\n",
    "conf_matrix_baseline"
   ]
  },
  {
   "cell_type": "code",
   "execution_count": 27,
   "metadata": {},
   "outputs": [
    {
     "data": {
      "text/html": [
       "<div>\n",
       "<style>\n",
       "    .dataframe thead tr:only-child th {\n",
       "        text-align: right;\n",
       "    }\n",
       "\n",
       "    .dataframe thead th {\n",
       "        text-align: left;\n",
       "    }\n",
       "\n",
       "    .dataframe tbody tr th {\n",
       "        vertical-align: top;\n",
       "    }\n",
       "</style>\n",
       "<table border=\"1\" class=\"dataframe\">\n",
       "  <thead>\n",
       "    <tr style=\"text-align: right;\">\n",
       "      <th></th>\n",
       "      <th>(12.0, 17.0]male</th>\n",
       "      <th>(25.0, 48.0]male</th>\n",
       "      <th>(12.0, 17.0]female</th>\n",
       "      <th>(17.0, 25.0]female</th>\n",
       "      <th>(17.0, 25.0]male</th>\n",
       "      <th>(25.0, 48.0]female</th>\n",
       "    </tr>\n",
       "  </thead>\n",
       "  <tbody>\n",
       "    <tr>\n",
       "      <th>precision</th>\n",
       "      <td>0.271718</td>\n",
       "      <td>0.276241</td>\n",
       "      <td>0.311745</td>\n",
       "      <td>0.231730</td>\n",
       "      <td>0.223886</td>\n",
       "      <td>0.232743</td>\n",
       "    </tr>\n",
       "    <tr>\n",
       "      <th>recall</th>\n",
       "      <td>0.267716</td>\n",
       "      <td>0.363591</td>\n",
       "      <td>0.405747</td>\n",
       "      <td>0.250780</td>\n",
       "      <td>0.125960</td>\n",
       "      <td>0.155280</td>\n",
       "    </tr>\n",
       "    <tr>\n",
       "      <th>f1</th>\n",
       "      <td>0.269702</td>\n",
       "      <td>0.313953</td>\n",
       "      <td>0.352588</td>\n",
       "      <td>0.240879</td>\n",
       "      <td>0.161218</td>\n",
       "      <td>0.186279</td>\n",
       "    </tr>\n",
       "    <tr>\n",
       "      <th>total</th>\n",
       "      <td>21859.000000</td>\n",
       "      <td>20072.000000</td>\n",
       "      <td>21994.000000</td>\n",
       "      <td>21166.000000</td>\n",
       "      <td>18871.000000</td>\n",
       "      <td>18457.000000</td>\n",
       "    </tr>\n",
       "  </tbody>\n",
       "</table>\n",
       "</div>"
      ],
      "text/plain": [
       "           (12.0, 17.0]male  (25.0, 48.0]male  (12.0, 17.0]female  \\\n",
       "precision          0.271718          0.276241            0.311745   \n",
       "recall             0.267716          0.363591            0.405747   \n",
       "f1                 0.269702          0.313953            0.352588   \n",
       "total          21859.000000      20072.000000        21994.000000   \n",
       "\n",
       "           (17.0, 25.0]female  (17.0, 25.0]male  (25.0, 48.0]female  \n",
       "precision            0.231730          0.223886            0.232743  \n",
       "recall               0.250780          0.125960            0.155280  \n",
       "f1                   0.240879          0.161218            0.186279  \n",
       "total            21166.000000      18871.000000        18457.000000  "
      ]
     },
     "execution_count": 27,
     "metadata": {},
     "output_type": "execute_result"
    }
   ],
   "source": [
    "supp_matrix_temp = [list(x) for x in precision_recall_fscore_support(y_test, predictions, labels=all_classes)]\n",
    "supp_matrix_baseline = pd.DataFrame(supp_matrix_temp, columns=all_classes, \n",
    "                                    index=['precision', 'recall', 'f1', 'total'])\n",
    "supp_matrix_baseline"
   ]
  },
  {
   "cell_type": "code",
   "execution_count": 29,
   "metadata": {},
   "outputs": [
    {
     "name": "stderr",
     "output_type": "stream",
     "text": [
      "/Library/Frameworks/Python.framework/Versions/3.6/lib/python3.6/site-packages/sklearn/metrics/ranking.py:571: UndefinedMetricWarning: No positive samples in y_true, true positive value should be meaningless\n",
      "  UndefinedMetricWarning)\n"
     ]
    }
   ],
   "source": [
    "from sklearn.preprocessing import label_binarize\n",
    "\n",
    "y_bin = label_binarize(y_test, classes=all_classes)\n",
    "y_pr_bin = label_binarize(predictions, classes=all_classes)\n",
    "\n",
    "\n",
    "# Compute ROC curve and ROC area for each class\n",
    "fpr = dict()\n",
    "tpr = dict()\n",
    "roc_auc = dict()\n",
    "for i in range(6):\n",
    "    fpr[i], tpr[i], _ = roc_curve(y_bin[:, i], y_pr_bin[:, i])\n",
    "    roc_auc[i] = auc(fpr[i], tpr[i])\n",
    "\n",
    "# Compute micro-average ROC curve and ROC area\n",
    "fpr[\"micro\"], tpr[\"micro\"], _ = roc_curve(y_bin.ravel(), y_pr_bin.ravel(), pos_label=2)\n",
    "roc_auc[\"micro\"] = auc(fpr[\"micro\"], tpr[\"micro\"])"
   ]
  },
  {
   "cell_type": "code",
   "execution_count": 31,
   "metadata": {},
   "outputs": [
    {
     "data": {
      "image/png": "[encoded data removed]",
      "text/plain": [
       "<Figure size 432x288 with 1 Axes>"
      ]
     },
     "metadata": {},
     "output_type": "display_data"
    }
   ],
   "source": [
    "import matplotlib.pyplot as plt\n",
    "\n",
    "plt.figure()\n",
    "lw = 2\n",
    "plt.plot(fpr[2], tpr[2], color='darkorange',\n",
    "         lw=lw, label='ROC curve (area = %0.2f)' % roc_auc[2])\n",
    "plt.plot([0, 1], [0, 1], color='navy', lw=lw, linestyle='--')\n",
    "plt.xlim([0.0, 1.0])\n",
    "plt.ylim([0.0, 1.05])\n",
    "plt.xlabel('False Positive Rate')\n",
    "plt.ylabel('True Positive Rate')\n",
    "plt.title('Receiver operating characteristic example')\n",
    "plt.legend(loc=\"lower right\")\n",
    "plt.show()"
   ]
  },
  {
   "cell_type": "code",
   "execution_count": 32,
   "metadata": {},
   "outputs": [
    {
     "data": {
      "image/png": "[encoded data removed]",
      "text/plain": [
       "<Figure size 432x288 with 1 Axes>"
      ]
     },
     "metadata": {},
     "output_type": "display_data"
    }
   ],
   "source": [
    "import numpy as np\n",
    "from scipy import interp\n",
    "from itertools import cycle\n",
    "\n",
    "n_classes = 6\n",
    "\n",
    "# Compute macro-average ROC curve and ROC area\n",
    "\n",
    "# First aggregate all false positive rates\n",
    "all_fpr = np.unique(np.concatenate([fpr[i] for i in range(n_classes)]))\n",
    "\n",
    "# Then interpolate all ROC curves at this points\n",
    "mean_tpr = np.zeros_like(all_fpr)\n",
    "for i in range(n_classes):\n",
    "    mean_tpr += interp(all_fpr, fpr[i], tpr[i])\n",
    "\n",
    "# Finally average it and compute AUC\n",
    "mean_tpr /= n_classes\n",
    "\n",
    "fpr[\"macro\"] = all_fpr\n",
    "tpr[\"macro\"] = mean_tpr\n",
    "roc_auc[\"macro\"] = auc(fpr[\"macro\"], tpr[\"macro\"])\n",
    "\n",
    "# Plot all ROC curves\n",
    "plt.figure()\n",
    "plt.plot(fpr[\"micro\"], tpr[\"micro\"],\n",
    "         label='micro-average ROC curve (area = {0:0.2f})'\n",
    "               ''.format(roc_auc[\"micro\"]),\n",
    "         color='deeppink', linestyle=':', linewidth=4)\n",
    "\n",
    "plt.plot(fpr[\"macro\"], tpr[\"macro\"],\n",
    "         label='macro-average ROC curve (area = {0:0.2f})'\n",
    "               ''.format(roc_auc[\"macro\"]),\n",
    "         color='navy', linestyle=':', linewidth=4)\n",
    "\n",
    "colors = cycle(['aqua', 'darkorange', 'cornflowerblue'])\n",
    "for i, color in zip(range(n_classes), colors):\n",
    "    plt.plot(fpr[i], tpr[i], color=color, lw=lw,\n",
    "             label='ROC curve of class {0} (area = {1:0.2f})'\n",
    "             ''.format(i, roc_auc[i]))\n",
    "\n",
    "plt.plot([0, 1], [0, 1], 'k--', lw=lw)\n",
    "plt.xlim([0.0, 1.0])\n",
    "plt.ylim([0.0, 1.05])\n",
    "plt.xlabel('False Positive Rate')\n",
    "plt.ylabel('True Positive Rate')\n",
    "plt.title('Some extension of Receiver operating characteristic to multi-class')\n",
    "plt.legend(loc=\"lower right\")\n",
    "plt.show()"
   ]
  },
  {
   "cell_type": "markdown",
   "metadata": {},
   "source": [
    "# Conclusion"
   ]
  },
  {
   "cell_type": "markdown",
   "metadata": {},
   "source": [
    "The approach bases on BOW is bad for this task, so I will try iteratevly generate new features and add it to the model."
   ]
  },
  {
   "cell_type": "code",
   "execution_count": null,
   "metadata": {},
   "outputs": [],
   "source": []
  }
 ],
 "metadata": {
  "kernelspec": {
   "display_name": "Python 3",
   "language": "python",
   "name": "python3"
  },
  "language_info": {
   "codemirror_mode": {
    "name": "ipython",
    "version": 3
   },
   "file_extension": ".py",
   "mimetype": "text/x-python",
   "name": "python",
   "nbconvert_exporter": "python",
   "pygments_lexer": "ipython3",
   "version": "3.6.1"
  }
 },
 "nbformat": 4,
 "nbformat_minor": 2
}
