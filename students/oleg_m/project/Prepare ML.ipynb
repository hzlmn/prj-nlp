{
 "cells": [
  {
   "cell_type": "code",
   "execution_count": 1,
   "metadata": {},
   "outputs": [],
   "source": [
    "from collections import Counter\n",
    "import pandas as pd\n",
    "import re\n",
    "import numpy as np"
   ]
  },
  {
   "cell_type": "markdown",
   "metadata": {},
   "source": [
    "Read generated features files to pandas"
   ]
  },
  {
   "cell_type": "code",
   "execution_count": 2,
   "metadata": {},
   "outputs": [],
   "source": [
    "DATA_DIR = '/Users/admin/edu/NLP/practical_NLP_course/data/'\n",
    "BLOGS_PREP_EN_FILE = 'sample_all.tsv'"
   ]
  },
  {
   "cell_type": "code",
   "execution_count": 3,
   "metadata": {},
   "outputs": [],
   "source": [
    "header = ['sent_cnt', 'token_cnt', 'word_cnt', 'title_cnt', 'caps_cnt', 'number_cnt', 'smiles_cnt', 'punct_cnt', \n",
    "          'uniq_cnt', 'words_len', 'big_word_cnt', 'animate_prons', 'first_person_pron', 'reflexive_prons', \n",
    "          'accent_punct', 'uncertain_word', 'filler_word', 'notional_pos', 'functional_pos', 'syllables',\n",
    "          'word_freq', 'informal', 'complex_dep', 'pejorative',\n",
    "          'punct_rate', 'punct_sent_rate', 'token_per_sent', 'word_rate', 'uniq_rate', 'title_rate', 'caps_rate',\n",
    "          'verb_rate', 'adj_rate', 'pron_rate', 'noun_rate', 'adv_rate', 'det_rate', 'conj_rate', 'unkn_rate',\n",
    "          'words_len_rate', 'big_words_rate', 'animate_rate', 'first_rate', 'reflexive_rate', 'accent_punct_rate',\n",
    "          'notional_pos_rate', 'functional_pos_rate', 'syllables_rate', 'word_freq_rate', 'informal_rate',\n",
    "          'complex_dep_rate', 'pejorative_rate',\n",
    "          'PUNCT', 'SYM', 'X ', 'ADJ', 'VERB', 'CONJ', 'NUM', 'DET', 'ADV', 'ADP', 'NOUN', \n",
    "          'PROPN', 'PART', 'PRON', 'INTJ', 'pos_corpus', 'text',\n",
    "          'age', 'label']"
   ]
  },
  {
   "cell_type": "code",
   "execution_count": 4,
   "metadata": {},
   "outputs": [],
   "source": [
    "data = pd.read_csv(DATA_DIR+BLOGS_PREP_EN_FILE, encoding='utf-8', sep='\\t', header=None, names=header)"
   ]
  },
  {
   "cell_type": "code",
   "execution_count": 5,
   "metadata": {},
   "outputs": [],
   "source": [
    "data['func_notion_pos'] = data['functional_pos'] / data['notional_pos']\n",
    "data['func_notion_pos'].fillna(0.0, inplace=True)\n",
    "data['func_notion_pos'].replace([np.inf, -np.inf], [0.0, 0.0], inplace=True)"
   ]
  },
  {
   "cell_type": "code",
   "execution_count": 6,
   "metadata": {},
   "outputs": [],
   "source": [
    "data['age'] = data['age'].astype(int)"
   ]
  },
  {
   "cell_type": "code",
   "execution_count": 7,
   "metadata": {},
   "outputs": [],
   "source": [
    "def age_group(row):\n",
    "    if row['age'] < 18:\n",
    "        if row['label'][-1] == 'F':\n",
    "            return '17F'\n",
    "        elif row['label'][-1] == 'M':\n",
    "            return '17M'\n",
    "    elif row['age'] < 30:\n",
    "        if row['label'][-1] == 'F':\n",
    "            return '27F'\n",
    "        elif row['label'][-1] == 'M':\n",
    "            return '27M'\n",
    "    else:\n",
    "        if row['label'][-1] == 'F':\n",
    "            return '47F'\n",
    "        elif row['label'][-1] == 'M':\n",
    "            return '47M'"
   ]
  },
  {
   "cell_type": "code",
   "execution_count": 8,
   "metadata": {},
   "outputs": [
    {
     "data": {
      "text/plain": [
       "27F    98978\n",
       "27M    93163\n",
       "17F    77203\n",
       "17M    77199\n",
       "47M    34792\n",
       "47F    31714\n",
       "Name: Y, dtype: int64"
      ]
     },
     "execution_count": 8,
     "metadata": {},
     "output_type": "execute_result"
    }
   ],
   "source": [
    "data['Y'] = data.apply(age_group, axis=1)\n",
    "data['Y'].value_counts()"
   ]
  },
  {
   "cell_type": "markdown",
   "metadata": {},
   "source": [
    "As we can see from the described data we have to normalize count columns to have better data for the input model if we are going to use Linear Models"
   ]
  },
  {
   "cell_type": "code",
   "execution_count": 9,
   "metadata": {},
   "outputs": [
    {
     "data": {
      "text/plain": [
       "['PUNCT',\n",
       " 'SYM',\n",
       " 'X ',\n",
       " 'ADJ',\n",
       " 'VERB',\n",
       " 'CONJ',\n",
       " 'NUM',\n",
       " 'DET',\n",
       " 'ADV',\n",
       " 'ADP',\n",
       " 'NOUN',\n",
       " 'PROPN',\n",
       " 'PART',\n",
       " 'PRON',\n",
       " 'INTJ',\n",
       " 'age',\n",
       " 'label',\n",
       " 'pos_corpus',\n",
       " 'text',\n",
       " 'Y']"
      ]
     },
     "execution_count": 9,
     "metadata": {},
     "output_type": "execute_result"
    }
   ],
   "source": [
    "pos_cols = ['PUNCT', 'SYM', 'X ', 'ADJ', 'VERB', 'CONJ', 'NUM', 'DET', 'ADV', 'ADP', 'NOUN', \n",
    "            'PROPN', 'PART', 'PRON', 'INTJ']\n",
    "exclude_cols = pos_cols + ['age', 'label', 'pos_corpus', 'text', 'Y']\n",
    "exclude_cols"
   ]
  },
  {
   "cell_type": "code",
   "execution_count": 10,
   "metadata": {},
   "outputs": [],
   "source": [
    "from sklearn.model_selection import train_test_split\n",
    "\n",
    "X_train, X_test, y_train, y_test = train_test_split(data.drop(['age', 'label', 'Y'] , axis=1),\n",
    "                                                    data['Y'],\n",
    "                                                    test_size=0.25,\n",
    "                                                    random_state=42)"
   ]
  },
  {
   "cell_type": "code",
   "execution_count": 11,
   "metadata": {},
   "outputs": [
    {
     "data": {
      "text/html": [
       "<div>\n",
       "<style>\n",
       "    .dataframe thead tr:only-child th {\n",
       "        text-align: right;\n",
       "    }\n",
       "\n",
       "    .dataframe thead th {\n",
       "        text-align: left;\n",
       "    }\n",
       "\n",
       "    .dataframe tbody tr th {\n",
       "        vertical-align: top;\n",
       "    }\n",
       "</style>\n",
       "<table border=\"1\" class=\"dataframe\">\n",
       "  <thead>\n",
       "    <tr style=\"text-align: right;\">\n",
       "      <th></th>\n",
       "      <th>sent_cnt</th>\n",
       "      <th>token_cnt</th>\n",
       "      <th>word_cnt</th>\n",
       "      <th>title_cnt</th>\n",
       "      <th>caps_cnt</th>\n",
       "      <th>number_cnt</th>\n",
       "      <th>smiles_cnt</th>\n",
       "      <th>punct_cnt</th>\n",
       "      <th>uniq_cnt</th>\n",
       "      <th>words_len</th>\n",
       "      <th>...</th>\n",
       "      <th>ADV</th>\n",
       "      <th>ADP</th>\n",
       "      <th>NOUN</th>\n",
       "      <th>PROPN</th>\n",
       "      <th>PART</th>\n",
       "      <th>PRON</th>\n",
       "      <th>INTJ</th>\n",
       "      <th>pos_corpus</th>\n",
       "      <th>text</th>\n",
       "      <th>func_notion_pos</th>\n",
       "    </tr>\n",
       "  </thead>\n",
       "  <tbody>\n",
       "    <tr>\n",
       "      <th>7155</th>\n",
       "      <td>43</td>\n",
       "      <td>741</td>\n",
       "      <td>628</td>\n",
       "      <td>0</td>\n",
       "      <td>4</td>\n",
       "      <td>4</td>\n",
       "      <td>0</td>\n",
       "      <td>91</td>\n",
       "      <td>236</td>\n",
       "      <td>2351</td>\n",
       "      <td>...</td>\n",
       "      <td>81</td>\n",
       "      <td>51</td>\n",
       "      <td>92</td>\n",
       "      <td>5</td>\n",
       "      <td>27</td>\n",
       "      <td>92</td>\n",
       "      <td>3</td>\n",
       "      <td>START PRON VERB ADJ SYM ADJ END START PRON VER...</td>\n",
       "      <td>im angry/depressed   i have lots o...</td>\n",
       "      <td>0.313283</td>\n",
       "    </tr>\n",
       "    <tr>\n",
       "      <th>82360</th>\n",
       "      <td>20</td>\n",
       "      <td>254</td>\n",
       "      <td>203</td>\n",
       "      <td>36</td>\n",
       "      <td>9</td>\n",
       "      <td>0</td>\n",
       "      <td>0</td>\n",
       "      <td>41</td>\n",
       "      <td>134</td>\n",
       "      <td>898</td>\n",
       "      <td>...</td>\n",
       "      <td>13</td>\n",
       "      <td>21</td>\n",
       "      <td>39</td>\n",
       "      <td>17</td>\n",
       "      <td>14</td>\n",
       "      <td>14</td>\n",
       "      <td>0</td>\n",
       "      <td>START PRON VERB ADJ PUNCT END START PRON VERB ...</td>\n",
       "      <td>It's late. I'm reading Chomsky's blog o...</td>\n",
       "      <td>0.362319</td>\n",
       "    </tr>\n",
       "    <tr>\n",
       "      <th>248528</th>\n",
       "      <td>2</td>\n",
       "      <td>47</td>\n",
       "      <td>41</td>\n",
       "      <td>5</td>\n",
       "      <td>3</td>\n",
       "      <td>0</td>\n",
       "      <td>0</td>\n",
       "      <td>6</td>\n",
       "      <td>33</td>\n",
       "      <td>149</td>\n",
       "      <td>...</td>\n",
       "      <td>5</td>\n",
       "      <td>4</td>\n",
       "      <td>9</td>\n",
       "      <td>0</td>\n",
       "      <td>2</td>\n",
       "      <td>3</td>\n",
       "      <td>0</td>\n",
       "      <td>START ADV ADP ADJ ADJ NOUN ADP NOUN PUNCT PRON...</td>\n",
       "      <td>Just for my own sense of pride, I want ...</td>\n",
       "      <td>0.285714</td>\n",
       "    </tr>\n",
       "    <tr>\n",
       "      <th>258801</th>\n",
       "      <td>3</td>\n",
       "      <td>33</td>\n",
       "      <td>23</td>\n",
       "      <td>0</td>\n",
       "      <td>1</td>\n",
       "      <td>0</td>\n",
       "      <td>0</td>\n",
       "      <td>6</td>\n",
       "      <td>22</td>\n",
       "      <td>101</td>\n",
       "      <td>...</td>\n",
       "      <td>2</td>\n",
       "      <td>2</td>\n",
       "      <td>6</td>\n",
       "      <td>0</td>\n",
       "      <td>0</td>\n",
       "      <td>1</td>\n",
       "      <td>0</td>\n",
       "      <td>START X PUNCT VERB PUNCT PUNCT VERB ADJ NOUN N...</td>\n",
       "      <td>ahahaha, guess what!!...changed m...</td>\n",
       "      <td>0.312500</td>\n",
       "    </tr>\n",
       "    <tr>\n",
       "      <th>173840</th>\n",
       "      <td>1</td>\n",
       "      <td>13</td>\n",
       "      <td>12</td>\n",
       "      <td>1</td>\n",
       "      <td>0</td>\n",
       "      <td>0</td>\n",
       "      <td>0</td>\n",
       "      <td>0</td>\n",
       "      <td>11</td>\n",
       "      <td>47</td>\n",
       "      <td>...</td>\n",
       "      <td>2</td>\n",
       "      <td>0</td>\n",
       "      <td>0</td>\n",
       "      <td>1</td>\n",
       "      <td>0</td>\n",
       "      <td>1</td>\n",
       "      <td>0</td>\n",
       "      <td>START VERB PROPN VERB DET ADJ ADJ ADV VERB ADV...</td>\n",
       "      <td>urlLink    Ed seems a little smug here...</td>\n",
       "      <td>0.100000</td>\n",
       "    </tr>\n",
       "  </tbody>\n",
       "</table>\n",
       "<p>5 rows × 70 columns</p>\n",
       "</div>"
      ],
      "text/plain": [
       "        sent_cnt  token_cnt  word_cnt  title_cnt  caps_cnt  number_cnt  \\\n",
       "7155          43        741       628          0         4           4   \n",
       "82360         20        254       203         36         9           0   \n",
       "248528         2         47        41          5         3           0   \n",
       "258801         3         33        23          0         1           0   \n",
       "173840         1         13        12          1         0           0   \n",
       "\n",
       "        smiles_cnt  punct_cnt  uniq_cnt  words_len       ...         ADV  ADP  \\\n",
       "7155             0         91       236       2351       ...          81   51   \n",
       "82360            0         41       134        898       ...          13   21   \n",
       "248528           0          6        33        149       ...           5    4   \n",
       "258801           0          6        22        101       ...           2    2   \n",
       "173840           0          0        11         47       ...           2    0   \n",
       "\n",
       "        NOUN  PROPN  PART  PRON  INTJ  \\\n",
       "7155      92      5    27    92     3   \n",
       "82360     39     17    14    14     0   \n",
       "248528     9      0     2     3     0   \n",
       "258801     6      0     0     1     0   \n",
       "173840     0      1     0     1     0   \n",
       "\n",
       "                                               pos_corpus  \\\n",
       "7155    START PRON VERB ADJ SYM ADJ END START PRON VER...   \n",
       "82360   START PRON VERB ADJ PUNCT END START PRON VERB ...   \n",
       "248528  START ADV ADP ADJ ADJ NOUN ADP NOUN PUNCT PRON...   \n",
       "258801  START X PUNCT VERB PUNCT PUNCT VERB ADJ NOUN N...   \n",
       "173840  START VERB PROPN VERB DET ADJ ADJ ADV VERB ADV...   \n",
       "\n",
       "                                                     text  func_notion_pos  \n",
       "7155                im angry/depressed   i have lots o...         0.313283  \n",
       "82360          It's late. I'm reading Chomsky's blog o...         0.362319  \n",
       "248528         Just for my own sense of pride, I want ...         0.285714  \n",
       "258801               ahahaha, guess what!!...changed m...         0.312500  \n",
       "173840          urlLink    Ed seems a little smug here...         0.100000  \n",
       "\n",
       "[5 rows x 70 columns]"
      ]
     },
     "execution_count": 11,
     "metadata": {},
     "output_type": "execute_result"
    }
   ],
   "source": [
    "X_train.head()"
   ]
  },
  {
   "cell_type": "markdown",
   "metadata": {},
   "source": [
    "#### POS vectorizing"
   ]
  },
  {
   "cell_type": "code",
   "execution_count": 12,
   "metadata": {},
   "outputs": [
    {
     "data": {
      "text/plain": [
       "274"
      ]
     },
     "execution_count": 12,
     "metadata": {},
     "output_type": "execute_result"
    }
   ],
   "source": [
    "from sklearn.feature_extraction.text import CountVectorizer, TfidfVectorizer\n",
    "\n",
    "# bow_pos = CountVectorizer(ngram_range=(2,2)).fit(X_train['pos_corpus'])\n",
    "# print(len(bow_pos.vocabulary_))\n",
    "tf_idf = TfidfVectorizer(ngram_range=(1,2)).fit(X_train['pos_corpus'])\n",
    "len(tf_idf.vocabulary_)"
   ]
  },
  {
   "cell_type": "code",
   "execution_count": 13,
   "metadata": {},
   "outputs": [],
   "source": [
    "pos_mapping = tf_idf.get_feature_names()"
   ]
  },
  {
   "cell_type": "code",
   "execution_count": 14,
   "metadata": {},
   "outputs": [],
   "source": [
    "from sklearn.ensemble import RandomForestClassifier, GradientBoostingClassifier\n",
    "from sklearn.tree import DecisionTreeClassifier\n",
    "from sklearn.model_selection import cross_val_score"
   ]
  },
  {
   "cell_type": "markdown",
   "metadata": {},
   "source": [
    "#### Model w\\o pos"
   ]
  },
  {
   "cell_type": "code",
   "execution_count": 20,
   "metadata": {},
   "outputs": [
    {
     "data": {
      "text/plain": [
       "0.3610111183999227"
      ]
     },
     "execution_count": 20,
     "metadata": {},
     "output_type": "execute_result"
    }
   ],
   "source": [
    "clf_rf = RandomForestClassifier(n_estimators=1000, max_depth=12, min_samples_split=100, random_state=42, n_jobs=8)\n",
    "scores_rf = cross_val_score(clf_rf, X_train.drop(exclude_cols, axis=1, errors='ignore'), y_train)\n",
    "scores_rf.mean()"
   ]
  },
  {
   "cell_type": "markdown",
   "metadata": {},
   "source": [
    "#### Model only pos 2-grams"
   ]
  },
  {
   "cell_type": "code",
   "execution_count": 15,
   "metadata": {},
   "outputs": [],
   "source": [
    "X_train_pos = pd.DataFrame(tf_idf.transform(X_train['pos_corpus']).todense(),\n",
    "                           columns=pos_mapping, index=X_train.index)"
   ]
  },
  {
   "cell_type": "code",
   "execution_count": 16,
   "metadata": {},
   "outputs": [],
   "source": [
    "X_test_pos = pd.DataFrame(tf_idf.transform(X_test['pos_corpus']).todense(),\n",
    "                          columns=pos_mapping, index=X_test.index)"
   ]
  },
  {
   "cell_type": "code",
   "execution_count": 22,
   "metadata": {},
   "outputs": [
    {
     "data": {
      "text/plain": [
       "0.3570208650699214"
      ]
     },
     "execution_count": 22,
     "metadata": {},
     "output_type": "execute_result"
    }
   ],
   "source": [
    "clf_rf = RandomForestClassifier(n_estimators=1000, max_depth=12, min_samples_split=100, random_state=42, n_jobs=8)\n",
    "scores_rf = cross_val_score(clf_rf, X_train_pos, y_train)\n",
    "scores_rf.mean()"
   ]
  },
  {
   "cell_type": "code",
   "execution_count": 17,
   "metadata": {},
   "outputs": [
    {
     "data": {
      "text/plain": [
       "RandomForestClassifier(bootstrap=True, class_weight=None, criterion='gini',\n",
       "            max_depth=12, max_features='auto', max_leaf_nodes=None,\n",
       "            min_impurity_decrease=0.0, min_impurity_split=None,\n",
       "            min_samples_leaf=1, min_samples_split=100,\n",
       "            min_weight_fraction_leaf=0.0, n_estimators=1000, n_jobs=8,\n",
       "            oob_score=False, random_state=42, verbose=0, warm_start=False)"
      ]
     },
     "execution_count": 17,
     "metadata": {},
     "output_type": "execute_result"
    }
   ],
   "source": [
    "clf_rf = RandomForestClassifier(n_estimators=1000, max_depth=12, min_samples_split=100, random_state=42, n_jobs=8)\n",
    "clf_rf.fit(X_train_pos, y_train)"
   ]
  },
  {
   "cell_type": "code",
   "execution_count": 18,
   "metadata": {},
   "outputs": [],
   "source": [
    "predictions_pos = clf_rf.predict_proba(X_train_pos)"
   ]
  },
  {
   "cell_type": "code",
   "execution_count": 19,
   "metadata": {},
   "outputs": [],
   "source": [
    "X_test_pos_pred = clf_rf.predict_proba(X_test_pos)"
   ]
  },
  {
   "cell_type": "code",
   "execution_count": 20,
   "metadata": {},
   "outputs": [
    {
     "data": {
      "text/plain": [
       "array(['17F', '17M', '27F', '27M', '47F', '47M'], dtype=object)"
      ]
     },
     "execution_count": 20,
     "metadata": {},
     "output_type": "execute_result"
    }
   ],
   "source": [
    "clf_rf.classes_"
   ]
  },
  {
   "cell_type": "code",
   "execution_count": 21,
   "metadata": {},
   "outputs": [],
   "source": [
    "train_pos_pred = pd.DataFrame(predictions_pos,\n",
    "                              columns=['17F_pos', '17M_pos', '25F_pos', '25M_pos', '48F_pos', '48M_pos'],\n",
    "                              index=X_train.index)"
   ]
  },
  {
   "cell_type": "code",
   "execution_count": 22,
   "metadata": {},
   "outputs": [],
   "source": [
    "test_pos_pred = pd.DataFrame(X_test_pos_pred,\n",
    "                             columns=['17F_pos', '17M_pos', '27F_pos', '27M_pos', '47F_pos', '47M_pos'],\n",
    "                             index=X_test.index)"
   ]
  },
  {
   "cell_type": "markdown",
   "metadata": {},
   "source": [
    "#### Model only unigrams"
   ]
  },
  {
   "cell_type": "code",
   "execution_count": 23,
   "metadata": {},
   "outputs": [
    {
     "data": {
      "text/plain": [
       "2674"
      ]
     },
     "execution_count": 23,
     "metadata": {},
     "output_type": "execute_result"
    }
   ],
   "source": [
    "tf_idf_uni = TfidfVectorizer(min_df=0.005).fit(X_train['text'])\n",
    "uni_mapping = tf_idf_uni.get_feature_names()\n",
    "len(tf_idf_uni.vocabulary_)"
   ]
  },
  {
   "cell_type": "code",
   "execution_count": 24,
   "metadata": {},
   "outputs": [],
   "source": [
    "X_train_uni = pd.DataFrame(tf_idf_uni.transform(X_train['text']).todense(),\n",
    "                           columns=uni_mapping, index=X_train.index)"
   ]
  },
  {
   "cell_type": "code",
   "execution_count": 25,
   "metadata": {},
   "outputs": [],
   "source": [
    "X_test_uni = pd.DataFrame(tf_idf_uni.transform(X_test['text']).todense(),\n",
    "                           columns=uni_mapping, index=X_test.index)"
   ]
  },
  {
   "cell_type": "code",
   "execution_count": 26,
   "metadata": {},
   "outputs": [
    {
     "data": {
      "text/plain": [
       "(309786, 2674)"
      ]
     },
     "execution_count": 26,
     "metadata": {},
     "output_type": "execute_result"
    }
   ],
   "source": [
    "X_train_uni.shape"
   ]
  },
  {
   "cell_type": "code",
   "execution_count": 29,
   "metadata": {},
   "outputs": [
    {
     "data": {
      "text/plain": [
       "0.3643750590943384"
      ]
     },
     "execution_count": 29,
     "metadata": {},
     "output_type": "execute_result"
    }
   ],
   "source": [
    "clf_rf_uni = RandomForestClassifier(n_estimators=1000, max_depth=12, min_samples_split=100, random_state=42, n_jobs=8)\n",
    "scores_rf = cross_val_score(clf_rf_uni, X_train_uni, y_train)\n",
    "scores_rf.mean()"
   ]
  },
  {
   "cell_type": "code",
   "execution_count": 27,
   "metadata": {},
   "outputs": [
    {
     "data": {
      "text/plain": [
       "RandomForestClassifier(bootstrap=True, class_weight=None, criterion='gini',\n",
       "            max_depth=12, max_features='auto', max_leaf_nodes=None,\n",
       "            min_impurity_decrease=0.0, min_impurity_split=None,\n",
       "            min_samples_leaf=1, min_samples_split=100,\n",
       "            min_weight_fraction_leaf=0.0, n_estimators=1000, n_jobs=8,\n",
       "            oob_score=False, random_state=42, verbose=0, warm_start=False)"
      ]
     },
     "execution_count": 27,
     "metadata": {},
     "output_type": "execute_result"
    }
   ],
   "source": [
    "clf_rf_uni = RandomForestClassifier(n_estimators=1000, max_depth=12, min_samples_split=100, random_state=42, n_jobs=8)\n",
    "clf_rf_uni.fit(X_train_uni, y_train)"
   ]
  },
  {
   "cell_type": "code",
   "execution_count": 28,
   "metadata": {},
   "outputs": [],
   "source": [
    "predictions_uni = clf_rf_uni.predict_proba(X_train_uni)\n",
    "\n",
    "test_predictions_uni = clf_rf_uni.predict_proba(X_test_uni)"
   ]
  },
  {
   "cell_type": "code",
   "execution_count": 29,
   "metadata": {},
   "outputs": [
    {
     "data": {
      "text/plain": [
       "array(['17F', '17M', '27F', '27M', '47F', '47M'], dtype=object)"
      ]
     },
     "execution_count": 29,
     "metadata": {},
     "output_type": "execute_result"
    }
   ],
   "source": [
    "clf_rf_uni.classes_"
   ]
  },
  {
   "cell_type": "code",
   "execution_count": 30,
   "metadata": {},
   "outputs": [],
   "source": [
    "train_uni_pred = pd.DataFrame(predictions_uni,\n",
    "                              columns=['17F_uni', '17M_uni', '25F_uni', '25M_uni', '48F_uni', '48M_uni'],\n",
    "                              index=X_train.index)"
   ]
  },
  {
   "cell_type": "code",
   "execution_count": 31,
   "metadata": {},
   "outputs": [],
   "source": [
    "test_uni_pred = pd.DataFrame(test_predictions_uni,\n",
    "                             columns=['17F_uni', '17M_uni', '27F_uni', '27M_uni', '47F_uni', '47M_uni'],\n",
    "                             index=X_test.index)"
   ]
  },
  {
   "cell_type": "markdown",
   "metadata": {},
   "source": [
    "#### Add pos vect to the model"
   ]
  },
  {
   "cell_type": "code",
   "execution_count": 32,
   "metadata": {},
   "outputs": [
    {
     "data": {
      "text/plain": [
       "(309786, 59)"
      ]
     },
     "execution_count": 32,
     "metadata": {},
     "output_type": "execute_result"
    }
   ],
   "source": [
    "# X_train_pr = pd.concat([X_train.drop(['pos_corpus', 'text'], axis=1), train_pos_pred], axis=1, join=\"inner\")\n",
    "X_train_pr = pd.concat([X_train.drop(exclude_cols, axis=1, errors='ignore'), train_pos_pred], axis=1, join=\"inner\")\n",
    "X_train_pr.shape"
   ]
  },
  {
   "cell_type": "code",
   "execution_count": 38,
   "metadata": {},
   "outputs": [
    {
     "data": {
      "text/plain": [
       "0.49737697103851747"
      ]
     },
     "execution_count": 38,
     "metadata": {},
     "output_type": "execute_result"
    }
   ],
   "source": [
    "clf_rf_pos = RandomForestClassifier(n_estimators=1000, max_depth=12, min_samples_split=100, random_state=42, n_jobs=8)\n",
    "scores_rf = cross_val_score(clf_rf_pos, X_train_pr, y_train)\n",
    "scores_rf.mean()"
   ]
  },
  {
   "cell_type": "markdown",
   "metadata": {},
   "source": [
    "#### Add uni vect to the model"
   ]
  },
  {
   "cell_type": "code",
   "execution_count": 33,
   "metadata": {},
   "outputs": [
    {
     "data": {
      "text/plain": [
       "(309786, 65)"
      ]
     },
     "execution_count": 33,
     "metadata": {},
     "output_type": "execute_result"
    }
   ],
   "source": [
    "X_train_uni_pr = pd.concat([X_train_pr, train_uni_pred], axis=1, join=\"inner\")\n",
    "X_train_uni_pr.shape"
   ]
  },
  {
   "cell_type": "code",
   "execution_count": 40,
   "metadata": {},
   "outputs": [
    {
     "data": {
      "text/plain": [
       "0.5157785966641901"
      ]
     },
     "execution_count": 40,
     "metadata": {},
     "output_type": "execute_result"
    }
   ],
   "source": [
    "clf_rf_uni = RandomForestClassifier(n_estimators=1000, max_depth=12, min_samples_split=100, random_state=42, n_jobs=6)\n",
    "scores_rf2 = cross_val_score(clf_rf_uni, X_train_uni, y_train)\n",
    "scores_rf2.mean()"
   ]
  },
  {
   "cell_type": "code",
   "execution_count": 60,
   "metadata": {},
   "outputs": [
    {
     "data": {
      "text/plain": [
       "RandomForestClassifier(bootstrap=True, class_weight=None, criterion='gini',\n",
       "            max_depth=18, max_features='auto', max_leaf_nodes=None,\n",
       "            min_impurity_decrease=0.0, min_impurity_split=None,\n",
       "            min_samples_leaf=1, min_samples_split=3,\n",
       "            min_weight_fraction_leaf=0.0, n_estimators=1000, n_jobs=6,\n",
       "            oob_score=False, random_state=42, verbose=0, warm_start=False)"
      ]
     },
     "execution_count": 60,
     "metadata": {},
     "output_type": "execute_result"
    }
   ],
   "source": [
    "clf_rf_uni = RandomForestClassifier(n_estimators=1000, max_depth=18, min_samples_split=3, random_state=42, n_jobs=6)\n",
    "clf_rf_uni.fit(X_train_uni_pr, y_train)"
   ]
  },
  {
   "cell_type": "markdown",
   "metadata": {},
   "source": [
    "### Test"
   ]
  },
  {
   "cell_type": "code",
   "execution_count": 59,
   "metadata": {},
   "outputs": [
    {
     "data": {
      "text/plain": [
       "(103263, 65)"
      ]
     },
     "execution_count": 59,
     "metadata": {},
     "output_type": "execute_result"
    }
   ],
   "source": [
    "X_test_all.shape"
   ]
  },
  {
   "cell_type": "code",
   "execution_count": 36,
   "metadata": {},
   "outputs": [],
   "source": [
    "# X_test_features = X_test.drop(['pos_corpus', 'text'], axis=1)\n",
    "X_test_all = pd.concat([X_test.drop(exclude_cols, axis=1, errors='ignore'), test_pos_pred, test_uni_pred],\n",
    "                       axis=1, \n",
    "                       join=\"inner\")"
   ]
  },
  {
   "cell_type": "code",
   "execution_count": 61,
   "metadata": {},
   "outputs": [],
   "source": [
    "predictions_rf = clf_rf_uni.predict(X_test_all)"
   ]
  },
  {
   "cell_type": "code",
   "execution_count": 62,
   "metadata": {},
   "outputs": [],
   "source": [
    "from sklearn.metrics import accuracy_score, precision_score, recall_score, confusion_matrix, precision_recall_fscore_support, f1_score, roc_auc_score, roc_curve, auc"
   ]
  },
  {
   "cell_type": "code",
   "execution_count": 63,
   "metadata": {},
   "outputs": [
    {
     "data": {
      "text/html": [
       "<div>\n",
       "<style>\n",
       "    .dataframe thead tr:only-child th {\n",
       "        text-align: right;\n",
       "    }\n",
       "\n",
       "    .dataframe thead th {\n",
       "        text-align: left;\n",
       "    }\n",
       "\n",
       "    .dataframe tbody tr th {\n",
       "        vertical-align: top;\n",
       "    }\n",
       "</style>\n",
       "<table border=\"1\" class=\"dataframe\">\n",
       "  <thead>\n",
       "    <tr style=\"text-align: right;\">\n",
       "      <th></th>\n",
       "      <th>preds</th>\n",
       "      <th>y_test</th>\n",
       "    </tr>\n",
       "  </thead>\n",
       "  <tbody>\n",
       "    <tr>\n",
       "      <th>43576</th>\n",
       "      <td>17M</td>\n",
       "      <td>27F</td>\n",
       "    </tr>\n",
       "    <tr>\n",
       "      <th>320170</th>\n",
       "      <td>27F</td>\n",
       "      <td>47F</td>\n",
       "    </tr>\n",
       "    <tr>\n",
       "      <th>258827</th>\n",
       "      <td>27M</td>\n",
       "      <td>17M</td>\n",
       "    </tr>\n",
       "    <tr>\n",
       "      <th>274995</th>\n",
       "      <td>47M</td>\n",
       "      <td>27M</td>\n",
       "    </tr>\n",
       "    <tr>\n",
       "      <th>373046</th>\n",
       "      <td>27F</td>\n",
       "      <td>27F</td>\n",
       "    </tr>\n",
       "    <tr>\n",
       "      <th>160163</th>\n",
       "      <td>27M</td>\n",
       "      <td>27M</td>\n",
       "    </tr>\n",
       "    <tr>\n",
       "      <th>176029</th>\n",
       "      <td>27M</td>\n",
       "      <td>27M</td>\n",
       "    </tr>\n",
       "    <tr>\n",
       "      <th>394581</th>\n",
       "      <td>27M</td>\n",
       "      <td>27M</td>\n",
       "    </tr>\n",
       "    <tr>\n",
       "      <th>358779</th>\n",
       "      <td>27F</td>\n",
       "      <td>47M</td>\n",
       "    </tr>\n",
       "    <tr>\n",
       "      <th>235555</th>\n",
       "      <td>17M</td>\n",
       "      <td>17M</td>\n",
       "    </tr>\n",
       "  </tbody>\n",
       "</table>\n",
       "</div>"
      ],
      "text/plain": [
       "       preds y_test\n",
       "43576    17M    27F\n",
       "320170   27F    47F\n",
       "258827   27M    17M\n",
       "274995   47M    27M\n",
       "373046   27F    27F\n",
       "160163   27M    27M\n",
       "176029   27M    27M\n",
       "394581   27M    27M\n",
       "358779   27F    47M\n",
       "235555   17M    17M"
      ]
     },
     "execution_count": 63,
     "metadata": {},
     "output_type": "execute_result"
    }
   ],
   "source": [
    "pd.DataFrame({'y_test': y_test, 'preds': predictions_rf}).head(10)"
   ]
  },
  {
   "cell_type": "code",
   "execution_count": 64,
   "metadata": {},
   "outputs": [
    {
     "name": "stdout",
     "output_type": "stream",
     "text": [
      "Accuracy: 0.4097692300243069\n",
      "\n",
      "Precision weighted: 0.4093272214587101\n",
      "Recall weighted: 0.4097692300243069\n",
      "F1 score weighted: 0.39052816585772593\n",
      "\n",
      "Precision macro: 0.403536030692528\n",
      "Recall macro: 0.3421790669795714\n",
      "F1 score macro: 0.3405916942529408\n"
     ]
    }
   ],
   "source": [
    "print('Accuracy:', accuracy_score(y_test, predictions_rf))\n",
    "print()\n",
    "print('Precision weighted:', precision_score(y_test, predictions_rf, average='weighted'))\n",
    "print('Recall weighted:', recall_score(y_test, predictions_rf, average='weighted'))\n",
    "print('F1 score weighted:', f1_score(y_test, predictions_rf, average='weighted'))\n",
    "print()\n",
    "print('Precision macro:', precision_score(y_test, predictions_rf, average='macro'))\n",
    "print('Recall macro:', recall_score(y_test, predictions_rf, average='macro'))\n",
    "print('F1 score macro:', f1_score(y_test, predictions_rf, average='macro'))"
   ]
  },
  {
   "cell_type": "code",
   "execution_count": 65,
   "metadata": {},
   "outputs": [],
   "source": [
    "labels = ['17F', '17M', '27F', '27M', '47F', '47M']\n",
    "# labels = ['17', '27', '47']\n",
    "conf_matrix_temp = confusion_matrix(y_test, predictions_rf, labels=labels)\n",
    "conf_matrix_rf = pd.DataFrame(conf_matrix_temp, columns=labels, index=labels)"
   ]
  },
  {
   "cell_type": "code",
   "execution_count": 66,
   "metadata": {},
   "outputs": [
    {
     "data": {
      "text/html": [
       "<div>\n",
       "<style>\n",
       "    .dataframe thead tr:only-child th {\n",
       "        text-align: right;\n",
       "    }\n",
       "\n",
       "    .dataframe thead th {\n",
       "        text-align: left;\n",
       "    }\n",
       "\n",
       "    .dataframe tbody tr th {\n",
       "        vertical-align: top;\n",
       "    }\n",
       "</style>\n",
       "<table border=\"1\" class=\"dataframe\">\n",
       "  <thead>\n",
       "    <tr style=\"text-align: right;\">\n",
       "      <th></th>\n",
       "      <th>17F</th>\n",
       "      <th>17M</th>\n",
       "      <th>27F</th>\n",
       "      <th>27M</th>\n",
       "      <th>47F</th>\n",
       "      <th>47M</th>\n",
       "    </tr>\n",
       "  </thead>\n",
       "  <tbody>\n",
       "    <tr>\n",
       "      <th>17F</th>\n",
       "      <td>10351</td>\n",
       "      <td>3147</td>\n",
       "      <td>3799</td>\n",
       "      <td>1808</td>\n",
       "      <td>40</td>\n",
       "      <td>77</td>\n",
       "    </tr>\n",
       "    <tr>\n",
       "      <th>17M</th>\n",
       "      <td>4617</td>\n",
       "      <td>6181</td>\n",
       "      <td>3736</td>\n",
       "      <td>4405</td>\n",
       "      <td>74</td>\n",
       "      <td>256</td>\n",
       "    </tr>\n",
       "    <tr>\n",
       "      <th>27F</th>\n",
       "      <td>3009</td>\n",
       "      <td>1969</td>\n",
       "      <td>12706</td>\n",
       "      <td>6325</td>\n",
       "      <td>287</td>\n",
       "      <td>416</td>\n",
       "    </tr>\n",
       "    <tr>\n",
       "      <th>27M</th>\n",
       "      <td>1416</td>\n",
       "      <td>2290</td>\n",
       "      <td>6971</td>\n",
       "      <td>11473</td>\n",
       "      <td>182</td>\n",
       "      <td>981</td>\n",
       "    </tr>\n",
       "    <tr>\n",
       "      <th>47F</th>\n",
       "      <td>528</td>\n",
       "      <td>458</td>\n",
       "      <td>3716</td>\n",
       "      <td>2447</td>\n",
       "      <td>456</td>\n",
       "      <td>314</td>\n",
       "    </tr>\n",
       "    <tr>\n",
       "      <th>47M</th>\n",
       "      <td>272</td>\n",
       "      <td>445</td>\n",
       "      <td>2285</td>\n",
       "      <td>4483</td>\n",
       "      <td>196</td>\n",
       "      <td>1147</td>\n",
       "    </tr>\n",
       "  </tbody>\n",
       "</table>\n",
       "</div>"
      ],
      "text/plain": [
       "       17F   17M    27F    27M  47F   47M\n",
       "17F  10351  3147   3799   1808   40    77\n",
       "17M   4617  6181   3736   4405   74   256\n",
       "27F   3009  1969  12706   6325  287   416\n",
       "27M   1416  2290   6971  11473  182   981\n",
       "47F    528   458   3716   2447  456   314\n",
       "47M    272   445   2285   4483  196  1147"
      ]
     },
     "execution_count": 66,
     "metadata": {},
     "output_type": "execute_result"
    }
   ],
   "source": [
    "conf_matrix_rf"
   ]
  },
  {
   "cell_type": "code",
   "execution_count": 67,
   "metadata": {},
   "outputs": [],
   "source": [
    "supp_matrix_temp = [list(x) for x in precision_recall_fscore_support(y_test, predictions_rf, labels=labels)]\n",
    "supp_matrix_rf = pd.DataFrame(supp_matrix_temp,\n",
    "                              columns=labels, \n",
    "                              index=['precision', 'recall', 'f1', 'total'])"
   ]
  },
  {
   "cell_type": "code",
   "execution_count": 68,
   "metadata": {},
   "outputs": [
    {
     "data": {
      "text/html": [
       "<div>\n",
       "<style>\n",
       "    .dataframe thead tr:only-child th {\n",
       "        text-align: right;\n",
       "    }\n",
       "\n",
       "    .dataframe thead th {\n",
       "        text-align: left;\n",
       "    }\n",
       "\n",
       "    .dataframe tbody tr th {\n",
       "        vertical-align: top;\n",
       "    }\n",
       "</style>\n",
       "<table border=\"1\" class=\"dataframe\">\n",
       "  <thead>\n",
       "    <tr style=\"text-align: right;\">\n",
       "      <th></th>\n",
       "      <th>17F</th>\n",
       "      <th>17M</th>\n",
       "      <th>27F</th>\n",
       "      <th>27M</th>\n",
       "      <th>47F</th>\n",
       "      <th>47M</th>\n",
       "    </tr>\n",
       "  </thead>\n",
       "  <tbody>\n",
       "    <tr>\n",
       "      <th>precision</th>\n",
       "      <td>0.512603</td>\n",
       "      <td>0.426570</td>\n",
       "      <td>0.382561</td>\n",
       "      <td>0.370802</td>\n",
       "      <td>0.369231</td>\n",
       "      <td>0.359448</td>\n",
       "    </tr>\n",
       "    <tr>\n",
       "      <th>recall</th>\n",
       "      <td>0.538498</td>\n",
       "      <td>0.320774</td>\n",
       "      <td>0.514163</td>\n",
       "      <td>0.492129</td>\n",
       "      <td>0.057583</td>\n",
       "      <td>0.129928</td>\n",
       "    </tr>\n",
       "    <tr>\n",
       "      <th>f1</th>\n",
       "      <td>0.525232</td>\n",
       "      <td>0.366184</td>\n",
       "      <td>0.438705</td>\n",
       "      <td>0.422937</td>\n",
       "      <td>0.099629</td>\n",
       "      <td>0.190864</td>\n",
       "    </tr>\n",
       "    <tr>\n",
       "      <th>total</th>\n",
       "      <td>19222.000000</td>\n",
       "      <td>19269.000000</td>\n",
       "      <td>24712.000000</td>\n",
       "      <td>23313.000000</td>\n",
       "      <td>7919.000000</td>\n",
       "      <td>8828.000000</td>\n",
       "    </tr>\n",
       "  </tbody>\n",
       "</table>\n",
       "</div>"
      ],
      "text/plain": [
       "                    17F           17M           27F           27M  \\\n",
       "precision      0.512603      0.426570      0.382561      0.370802   \n",
       "recall         0.538498      0.320774      0.514163      0.492129   \n",
       "f1             0.525232      0.366184      0.438705      0.422937   \n",
       "total      19222.000000  19269.000000  24712.000000  23313.000000   \n",
       "\n",
       "                   47F          47M  \n",
       "precision     0.369231     0.359448  \n",
       "recall        0.057583     0.129928  \n",
       "f1            0.099629     0.190864  \n",
       "total      7919.000000  8828.000000  "
      ]
     },
     "execution_count": 68,
     "metadata": {},
     "output_type": "execute_result"
    }
   ],
   "source": [
    "supp_matrix_rf"
   ]
  },
  {
   "cell_type": "code",
   "execution_count": 69,
   "metadata": {},
   "outputs": [
    {
     "name": "stderr",
     "output_type": "stream",
     "text": [
      "/Library/Frameworks/Python.framework/Versions/3.6/lib/python3.6/site-packages/sklearn/metrics/ranking.py:571: UndefinedMetricWarning: No positive samples in y_true, true positive value should be meaningless\n",
      "  UndefinedMetricWarning)\n"
     ]
    }
   ],
   "source": [
    "from sklearn.preprocessing import label_binarize\n",
    "\n",
    "y_bin = label_binarize(y_test, classes=labels)\n",
    "y_pr_bin = label_binarize(predictions_rf, classes=labels)\n",
    "\n",
    "\n",
    "# Compute ROC curve and ROC area for each class\n",
    "fpr = dict()\n",
    "tpr = dict()\n",
    "roc_auc = dict()\n",
    "for i in range(6):\n",
    "    fpr[i], tpr[i], _ = roc_curve(y_bin[:, i], y_pr_bin[:, i])\n",
    "    roc_auc[i] = auc(fpr[i], tpr[i])\n",
    "\n",
    "# Compute micro-average ROC curve and ROC area\n",
    "fpr[\"micro\"], tpr[\"micro\"], _ = roc_curve(y_bin.ravel(), y_pr_bin.ravel(), pos_label=2)\n",
    "roc_auc[\"micro\"] = auc(fpr[\"micro\"], tpr[\"micro\"])"
   ]
  },
  {
   "cell_type": "code",
   "execution_count": 70,
   "metadata": {},
   "outputs": [
    {
     "data": {
      "image/png": "[encoded data removed]",
      "text/plain": [
       "<Figure size 576x432 with 1 Axes>"
      ]
     },
     "metadata": {},
     "output_type": "display_data"
    }
   ],
   "source": [
    "import matplotlib.pyplot as plt\n",
    "\n",
    "plt.figure(figsize=(8, 6))\n",
    "lw = 2\n",
    "plt.plot(fpr[2], tpr[2], color='darkorange',\n",
    "         lw=lw, label='ROC curve (area = %0.2f)' % roc_auc[2])\n",
    "plt.plot([0, 1], [0, 1], color='navy', lw=lw, linestyle='--')\n",
    "plt.xlim([0.0, 1.0])\n",
    "plt.ylim([0.0, 1.05])\n",
    "plt.xlabel('False Positive Rate')\n",
    "plt.ylabel('True Positive Rate')\n",
    "plt.title('Receiver operating characteristic example')\n",
    "plt.legend(loc=\"lower right\")\n",
    "plt.show()"
   ]
  },
  {
   "cell_type": "code",
   "execution_count": 71,
   "metadata": {},
   "outputs": [
    {
     "data": {
      "image/png": "[encoded data removed]",
      "text/plain": [
       "<Figure size 576x432 with 1 Axes>"
      ]
     },
     "metadata": {},
     "output_type": "display_data"
    }
   ],
   "source": [
    "import numpy as np\n",
    "from scipy import interp\n",
    "from itertools import cycle\n",
    "\n",
    "n_classes = 6\n",
    "\n",
    "# Compute macro-average ROC curve and ROC area\n",
    "\n",
    "# First aggregate all false positive rates\n",
    "all_fpr = np.unique(np.concatenate([fpr[i] for i in range(n_classes)]))\n",
    "\n",
    "# Then interpolate all ROC curves at this points\n",
    "mean_tpr = np.zeros_like(all_fpr)\n",
    "for i in range(n_classes):\n",
    "    mean_tpr += interp(all_fpr, fpr[i], tpr[i])\n",
    "\n",
    "# Finally average it and compute AUC\n",
    "mean_tpr /= n_classes\n",
    "\n",
    "fpr[\"macro\"] = all_fpr\n",
    "tpr[\"macro\"] = mean_tpr\n",
    "roc_auc[\"macro\"] = auc(fpr[\"macro\"], tpr[\"macro\"])\n",
    "\n",
    "# Plot all ROC curves\n",
    "plt.figure(figsize=(8, 6))\n",
    "plt.plot(fpr[\"micro\"], tpr[\"micro\"],\n",
    "         label='micro-average ROC curve (area = {0:0.2f})'\n",
    "               ''.format(roc_auc[\"micro\"]),\n",
    "         color='deeppink', linestyle=':', linewidth=4)\n",
    "\n",
    "plt.plot(fpr[\"macro\"], tpr[\"macro\"],\n",
    "         label='macro-average ROC curve (area = {0:0.2f})'\n",
    "               ''.format(roc_auc[\"macro\"]),\n",
    "         color='navy', linestyle=':', linewidth=4)\n",
    "\n",
    "colors = cycle(['aqua', 'darkorange', 'cornflowerblue'])\n",
    "for i, color in zip(range(n_classes), colors):\n",
    "    plt.plot(fpr[i], tpr[i], color=color, lw=lw,\n",
    "             label='ROC curve of class {0} (area = {1:0.2f})'\n",
    "             ''.format(i, roc_auc[i]))\n",
    "\n",
    "plt.plot([0, 1], [0, 1], 'k--', lw=lw)\n",
    "plt.xlim([0.0, 1.0])\n",
    "plt.ylim([0.0, 1.05])\n",
    "plt.xlabel('False Positive Rate')\n",
    "plt.ylabel('True Positive Rate')\n",
    "plt.title('Some extension of Receiver operating characteristic to multi-class')\n",
    "plt.legend(loc=\"lower right\")\n",
    "plt.show()"
   ]
  },
  {
   "cell_type": "code",
   "execution_count": 72,
   "metadata": {},
   "outputs": [],
   "source": [
    "importances = clf_rf_uni.feature_importances_"
   ]
  },
  {
   "cell_type": "code",
   "execution_count": 74,
   "metadata": {},
   "outputs": [],
   "source": [
    "std = np.std([tree.feature_importances_ for tree in clf_rf_uni.estimators_],\n",
    "             axis=0)\n",
    "indices = np.argsort(importances)[::-1]"
   ]
  },
  {
   "cell_type": "code",
   "execution_count": 80,
   "metadata": {},
   "outputs": [],
   "source": [
    "columns = list(X_train_uni_pr.columns)"
   ]
  },
  {
   "cell_type": "code",
   "execution_count": 89,
   "metadata": {},
   "outputs": [
    {
     "data": {
      "text/plain": [
       "['17M_pos',\n",
       " '25M_pos',\n",
       " '17M_uni',\n",
       " '25F_pos',\n",
       " '17F_pos',\n",
       " '17F_uni',\n",
       " '25F_uni',\n",
       " '48F_pos',\n",
       " '48M_pos',\n",
       " '48F_uni',\n",
       " '25M_uni',\n",
       " '48M_uni',\n",
       " 'pron_rate',\n",
       " 'noun_rate',\n",
       " 'det_rate',\n",
       " 'words_len_rate',\n",
       " 'token_per_sent',\n",
       " 'title_rate',\n",
       " 'word_freq_rate',\n",
       " 'big_words_rate',\n",
       " 'syllables_rate',\n",
       " 'verb_rate',\n",
       " 'word_rate',\n",
       " 'uniq_rate',\n",
       " 'functional_pos_rate',\n",
       " 'conj_rate',\n",
       " 'adv_rate',\n",
       " 'punct_rate',\n",
       " 'adj_rate',\n",
       " 'notional_pos_rate',\n",
       " 'word_freq',\n",
       " 'func_notion_pos',\n",
       " 'accent_punct_rate',\n",
       " 'complex_dep_rate',\n",
       " 'punct_sent_rate',\n",
       " 'caps_rate',\n",
       " 'words_len',\n",
       " 'title_cnt',\n",
       " 'syllables',\n",
       " 'uniq_cnt',\n",
       " 'animate_rate',\n",
       " 'first_rate',\n",
       " 'token_cnt',\n",
       " 'word_cnt',\n",
       " 'notional_pos',\n",
       " 'first_person_pron',\n",
       " 'animate_prons',\n",
       " 'functional_pos',\n",
       " 'big_word_cnt',\n",
       " 'punct_cnt',\n",
       " 'accent_punct',\n",
       " 'caps_cnt',\n",
       " 'complex_dep',\n",
       " 'sent_cnt',\n",
       " 'filler_word',\n",
       " 'pejorative_rate',\n",
       " 'number_cnt',\n",
       " 'unkn_rate',\n",
       " 'reflexive_rate',\n",
       " 'informal_rate',\n",
       " 'pejorative',\n",
       " 'uncertain_word',\n",
       " 'informal',\n",
       " 'reflexive_prons',\n",
       " 'smiles_cnt']"
      ]
     },
     "execution_count": 89,
     "metadata": {},
     "output_type": "execute_result"
    }
   ],
   "source": [
    "[columns[x] for x in indices]"
   ]
  },
  {
   "cell_type": "code",
   "execution_count": 84,
   "metadata": {},
   "outputs": [
    {
     "name": "stdout",
     "output_type": "stream",
     "text": [
      "Feature ranking:\n",
      "1. feature 54 (0.063600)\n",
      "2. feature 56 (0.061007)\n",
      "3. feature 60 (0.055460)\n",
      "4. feature 55 (0.053828)\n",
      "5. feature 53 (0.048144)\n",
      "6. feature 59 (0.048024)\n",
      "7. feature 61 (0.044807)\n",
      "8. feature 57 (0.044015)\n",
      "9. feature 58 (0.039953)\n",
      "10. feature 63 (0.039399)\n",
      "11. feature 62 (0.039277)\n",
      "12. feature 64 (0.027295)\n",
      "13. feature 33 (0.016911)\n",
      "14. feature 34 (0.013408)\n",
      "15. feature 36 (0.013193)\n",
      "16. feature 39 (0.012527)\n",
      "17. feature 26 (0.012484)\n",
      "18. feature 29 (0.012351)\n",
      "19. feature 48 (0.012294)\n",
      "20. feature 40 (0.011640)\n",
      "21. feature 47 (0.011635)\n",
      "22. feature 31 (0.011497)\n",
      "23. feature 27 (0.010852)\n",
      "24. feature 28 (0.010811)\n",
      "25. feature 46 (0.010697)\n",
      "26. feature 37 (0.010640)\n",
      "27. feature 35 (0.010480)\n",
      "28. feature 24 (0.010445)\n",
      "29. feature 32 (0.010344)\n",
      "30. feature 45 (0.010205)\n",
      "31. feature 20 (0.010072)\n",
      "32. feature 52 (0.009982)\n",
      "33. feature 44 (0.009507)\n",
      "34. feature 50 (0.009490)\n",
      "35. feature 25 (0.009481)\n",
      "36. feature 30 (0.009228)\n",
      "37. feature 9 (0.008602)\n",
      "38. feature 3 (0.008545)\n",
      "39. feature 19 (0.008128)\n",
      "40. feature 8 (0.008077)\n",
      "41. feature 41 (0.008061)\n",
      "42. feature 42 (0.007995)\n",
      "43. feature 1 (0.007830)\n",
      "44. feature 2 (0.007764)\n",
      "45. feature 17 (0.007591)\n",
      "46. feature 12 (0.007589)\n",
      "47. feature 11 (0.007292)\n",
      "48. feature 18 (0.007137)\n",
      "49. feature 10 (0.007060)\n",
      "50. feature 7 (0.007038)\n",
      "51. feature 14 (0.006557)\n",
      "52. feature 4 (0.006544)\n",
      "53. feature 22 (0.006302)\n",
      "54. feature 0 (0.006126)\n",
      "55. feature 16 (0.005410)\n",
      "56. feature 51 (0.004737)\n",
      "57. feature 5 (0.003934)\n",
      "58. feature 38 (0.002939)\n",
      "59. feature 43 (0.002893)\n",
      "60. feature 49 (0.002854)\n",
      "61. feature 23 (0.002509)\n",
      "62. feature 15 (0.001827)\n",
      "63. feature 21 (0.001759)\n",
      "64. feature 13 (0.001527)\n",
      "65. feature 6 (0.000388)\n"
     ]
    }
   ],
   "source": [
    "\n",
    "# Print the feature ranking\n",
    "print(\"Feature ranking:\")\n",
    "\n",
    "for f in range(X_train_uni_pr.shape[1]):\n",
    "    print(\"%d. feature %d (%f)\" % (f + 1, indices[f], importances[indices[f]]))"
   ]
  },
  {
   "cell_type": "markdown",
   "metadata": {},
   "source": [
    "### Other Ideas"
   ]
  },
  {
   "cell_type": "markdown",
   "metadata": {},
   "source": [
    "Separate prediction of gender and age"
   ]
  },
  {
   "cell_type": "code",
   "execution_count": 110,
   "metadata": {},
   "outputs": [],
   "source": [
    "y_train_age = y_train.str.slice(0,2)\n",
    "y_train_gen = y_train.str.slice(-1)\n",
    "\n",
    "y_test_age = y_test.str.slice(0,2)\n",
    "y_test_gen = y_test.str.slice(-1)"
   ]
  },
  {
   "cell_type": "code",
   "execution_count": 115,
   "metadata": {},
   "outputs": [
    {
     "data": {
      "text/plain": [
       "RandomForestClassifier(bootstrap=True, class_weight=None, criterion='gini',\n",
       "            max_depth=12, max_features='auto', max_leaf_nodes=None,\n",
       "            min_impurity_decrease=0.0, min_impurity_split=None,\n",
       "            min_samples_leaf=1, min_samples_split=100,\n",
       "            min_weight_fraction_leaf=0.0, n_estimators=1000, n_jobs=6,\n",
       "            oob_score=False, random_state=42, verbose=0, warm_start=False)"
      ]
     },
     "execution_count": 115,
     "metadata": {},
     "output_type": "execute_result"
    }
   ],
   "source": [
    "clf_rf_age = RandomForestClassifier(n_estimators=1000, max_depth=12, min_samples_split=100, random_state=42, n_jobs=6)\n",
    "clf_rf_age.fit(X_train_uni_pr, y_train_age)"
   ]
  },
  {
   "cell_type": "code",
   "execution_count": 116,
   "metadata": {},
   "outputs": [
    {
     "data": {
      "text/plain": [
       "RandomForestClassifier(bootstrap=True, class_weight=None, criterion='gini',\n",
       "            max_depth=12, max_features='auto', max_leaf_nodes=None,\n",
       "            min_impurity_decrease=0.0, min_impurity_split=None,\n",
       "            min_samples_leaf=1, min_samples_split=100,\n",
       "            min_weight_fraction_leaf=0.0, n_estimators=1000, n_jobs=6,\n",
       "            oob_score=False, random_state=42, verbose=0, warm_start=False)"
      ]
     },
     "execution_count": 116,
     "metadata": {},
     "output_type": "execute_result"
    }
   ],
   "source": [
    "clf_rf_gen = RandomForestClassifier(n_estimators=1000, max_depth=12, min_samples_split=100, random_state=42, n_jobs=6)\n",
    "clf_rf_gen.fit(X_train_uni_pr, y_train_gen)"
   ]
  },
  {
   "cell_type": "code",
   "execution_count": 121,
   "metadata": {},
   "outputs": [],
   "source": [
    "pred_age = clf_rf_age.predict(X_test_all)\n",
    "pred_gen = clf_rf_gen.predict(X_test_all)\n",
    "pred_age_gen = pred_age + pred_gen"
   ]
  },
  {
   "cell_type": "code",
   "execution_count": 122,
   "metadata": {},
   "outputs": [
    {
     "data": {
      "text/html": [
       "<div>\n",
       "<style>\n",
       "    .dataframe thead tr:only-child th {\n",
       "        text-align: right;\n",
       "    }\n",
       "\n",
       "    .dataframe thead th {\n",
       "        text-align: left;\n",
       "    }\n",
       "\n",
       "    .dataframe tbody tr th {\n",
       "        vertical-align: top;\n",
       "    }\n",
       "</style>\n",
       "<table border=\"1\" class=\"dataframe\">\n",
       "  <thead>\n",
       "    <tr style=\"text-align: right;\">\n",
       "      <th></th>\n",
       "      <th>preds</th>\n",
       "      <th>y_test</th>\n",
       "    </tr>\n",
       "  </thead>\n",
       "  <tbody>\n",
       "    <tr>\n",
       "      <th>3157</th>\n",
       "      <td>27M</td>\n",
       "      <td>27F</td>\n",
       "    </tr>\n",
       "    <tr>\n",
       "      <th>353190</th>\n",
       "      <td>27F</td>\n",
       "      <td>17F</td>\n",
       "    </tr>\n",
       "    <tr>\n",
       "      <th>389333</th>\n",
       "      <td>27M</td>\n",
       "      <td>47M</td>\n",
       "    </tr>\n",
       "    <tr>\n",
       "      <th>132350</th>\n",
       "      <td>27M</td>\n",
       "      <td>17M</td>\n",
       "    </tr>\n",
       "    <tr>\n",
       "      <th>407384</th>\n",
       "      <td>17F</td>\n",
       "      <td>17F</td>\n",
       "    </tr>\n",
       "    <tr>\n",
       "      <th>310543</th>\n",
       "      <td>27F</td>\n",
       "      <td>47M</td>\n",
       "    </tr>\n",
       "    <tr>\n",
       "      <th>402626</th>\n",
       "      <td>17M</td>\n",
       "      <td>17F</td>\n",
       "    </tr>\n",
       "    <tr>\n",
       "      <th>266429</th>\n",
       "      <td>17F</td>\n",
       "      <td>27F</td>\n",
       "    </tr>\n",
       "    <tr>\n",
       "      <th>189039</th>\n",
       "      <td>17F</td>\n",
       "      <td>47M</td>\n",
       "    </tr>\n",
       "    <tr>\n",
       "      <th>80838</th>\n",
       "      <td>17M</td>\n",
       "      <td>27M</td>\n",
       "    </tr>\n",
       "    <tr>\n",
       "      <th>119070</th>\n",
       "      <td>17F</td>\n",
       "      <td>17F</td>\n",
       "    </tr>\n",
       "    <tr>\n",
       "      <th>304607</th>\n",
       "      <td>17M</td>\n",
       "      <td>27M</td>\n",
       "    </tr>\n",
       "    <tr>\n",
       "      <th>143776</th>\n",
       "      <td>27F</td>\n",
       "      <td>17M</td>\n",
       "    </tr>\n",
       "    <tr>\n",
       "      <th>287686</th>\n",
       "      <td>17F</td>\n",
       "      <td>17M</td>\n",
       "    </tr>\n",
       "    <tr>\n",
       "      <th>294160</th>\n",
       "      <td>17F</td>\n",
       "      <td>17M</td>\n",
       "    </tr>\n",
       "  </tbody>\n",
       "</table>\n",
       "</div>"
      ],
      "text/plain": [
       "       preds y_test\n",
       "3157     27M    27F\n",
       "353190   27F    17F\n",
       "389333   27M    47M\n",
       "132350   27M    17M\n",
       "407384   17F    17F\n",
       "310543   27F    47M\n",
       "402626   17M    17F\n",
       "266429   17F    27F\n",
       "189039   17F    47M\n",
       "80838    17M    27M\n",
       "119070   17F    17F\n",
       "304607   17M    27M\n",
       "143776   27F    17M\n",
       "287686   17F    17M\n",
       "294160   17F    17M"
      ]
     },
     "execution_count": 122,
     "metadata": {},
     "output_type": "execute_result"
    }
   ],
   "source": [
    "pd.DataFrame({'y_test': y_test, 'preds': pred_age_gen}).head(15)"
   ]
  },
  {
   "cell_type": "code",
   "execution_count": 123,
   "metadata": {},
   "outputs": [
    {
     "name": "stdout",
     "output_type": "stream",
     "text": [
      "Accuracy: 0.4022972920621392\n",
      "\n",
      "Precision weighted: 0.4227483887635134\n",
      "Recall weighted: 0.4022972920621392\n",
      "F1 score weighted: 0.3722055411456491\n",
      "\n",
      "Precision macro: 0.43650615352695205\n",
      "Recall macro: 0.3260688523448488\n",
      "F1 score macro: 0.312842671249971\n"
     ]
    }
   ],
   "source": [
    "print('Accuracy:', accuracy_score(y_test, pred_age_gen))\n",
    "print()\n",
    "print('Precision weighted:', precision_score(y_test, pred_age_gen, average='weighted'))\n",
    "print('Recall weighted:', recall_score(y_test, pred_age_gen, average='weighted'))\n",
    "print('F1 score weighted:', f1_score(y_test, pred_age_gen, average='weighted'))\n",
    "print()\n",
    "print('Precision macro:', precision_score(y_test, pred_age_gen, average='macro'))\n",
    "print('Recall macro:', recall_score(y_test, pred_age_gen, average='macro'))\n",
    "print('F1 score macro:', f1_score(y_test, pred_age_gen, average='macro'))"
   ]
  },
  {
   "cell_type": "code",
   "execution_count": 124,
   "metadata": {},
   "outputs": [
    {
     "data": {
      "text/html": [
       "<div>\n",
       "<style>\n",
       "    .dataframe thead tr:only-child th {\n",
       "        text-align: right;\n",
       "    }\n",
       "\n",
       "    .dataframe thead th {\n",
       "        text-align: left;\n",
       "    }\n",
       "\n",
       "    .dataframe tbody tr th {\n",
       "        vertical-align: top;\n",
       "    }\n",
       "</style>\n",
       "<table border=\"1\" class=\"dataframe\">\n",
       "  <thead>\n",
       "    <tr style=\"text-align: right;\">\n",
       "      <th></th>\n",
       "      <th>17F</th>\n",
       "      <th>17M</th>\n",
       "      <th>27F</th>\n",
       "      <th>27M</th>\n",
       "      <th>47F</th>\n",
       "      <th>47M</th>\n",
       "    </tr>\n",
       "  </thead>\n",
       "  <tbody>\n",
       "    <tr>\n",
       "      <th>17F</th>\n",
       "      <td>10582</td>\n",
       "      <td>2701</td>\n",
       "      <td>3599</td>\n",
       "      <td>2336</td>\n",
       "      <td>14</td>\n",
       "      <td>35</td>\n",
       "    </tr>\n",
       "    <tr>\n",
       "      <th>17M</th>\n",
       "      <td>5247</td>\n",
       "      <td>4953</td>\n",
       "      <td>3355</td>\n",
       "      <td>5670</td>\n",
       "      <td>11</td>\n",
       "      <td>119</td>\n",
       "    </tr>\n",
       "    <tr>\n",
       "      <th>27F</th>\n",
       "      <td>3353</td>\n",
       "      <td>1304</td>\n",
       "      <td>11864</td>\n",
       "      <td>8082</td>\n",
       "      <td>48</td>\n",
       "      <td>191</td>\n",
       "    </tr>\n",
       "    <tr>\n",
       "      <th>27M</th>\n",
       "      <td>1643</td>\n",
       "      <td>1580</td>\n",
       "      <td>6026</td>\n",
       "      <td>13302</td>\n",
       "      <td>38</td>\n",
       "      <td>514</td>\n",
       "    </tr>\n",
       "    <tr>\n",
       "      <th>47F</th>\n",
       "      <td>565</td>\n",
       "      <td>232</td>\n",
       "      <td>3670</td>\n",
       "      <td>3074</td>\n",
       "      <td>193</td>\n",
       "      <td>203</td>\n",
       "    </tr>\n",
       "    <tr>\n",
       "      <th>47M</th>\n",
       "      <td>284</td>\n",
       "      <td>241</td>\n",
       "      <td>1903</td>\n",
       "      <td>5638</td>\n",
       "      <td>38</td>\n",
       "      <td>644</td>\n",
       "    </tr>\n",
       "  </tbody>\n",
       "</table>\n",
       "</div>"
      ],
      "text/plain": [
       "       17F   17M    27F    27M  47F  47M\n",
       "17F  10582  2701   3599   2336   14   35\n",
       "17M   5247  4953   3355   5670   11  119\n",
       "27F   3353  1304  11864   8082   48  191\n",
       "27M   1643  1580   6026  13302   38  514\n",
       "47F    565   232   3670   3074  193  203\n",
       "47M    284   241   1903   5638   38  644"
      ]
     },
     "execution_count": 124,
     "metadata": {},
     "output_type": "execute_result"
    }
   ],
   "source": [
    "conf_matrix_temp = confusion_matrix(y_test, pred_age_gen, labels=labels)\n",
    "conf_matrix_ag = pd.DataFrame(conf_matrix_temp, columns=labels, index=labels)\n",
    "conf_matrix_ag"
   ]
  },
  {
   "cell_type": "code",
   "execution_count": 125,
   "metadata": {},
   "outputs": [
    {
     "data": {
      "text/html": [
       "<div>\n",
       "<style>\n",
       "    .dataframe thead tr:only-child th {\n",
       "        text-align: right;\n",
       "    }\n",
       "\n",
       "    .dataframe thead th {\n",
       "        text-align: left;\n",
       "    }\n",
       "\n",
       "    .dataframe tbody tr th {\n",
       "        vertical-align: top;\n",
       "    }\n",
       "</style>\n",
       "<table border=\"1\" class=\"dataframe\">\n",
       "  <thead>\n",
       "    <tr style=\"text-align: right;\">\n",
       "      <th></th>\n",
       "      <th>17F</th>\n",
       "      <th>17M</th>\n",
       "      <th>27F</th>\n",
       "      <th>27M</th>\n",
       "      <th>47F</th>\n",
       "      <th>47M</th>\n",
       "    </tr>\n",
       "  </thead>\n",
       "  <tbody>\n",
       "    <tr>\n",
       "      <th>17F</th>\n",
       "      <td>10044</td>\n",
       "      <td>3030</td>\n",
       "      <td>4089</td>\n",
       "      <td>2041</td>\n",
       "      <td>10</td>\n",
       "      <td>53</td>\n",
       "    </tr>\n",
       "    <tr>\n",
       "      <th>17M</th>\n",
       "      <td>4413</td>\n",
       "      <td>5749</td>\n",
       "      <td>4127</td>\n",
       "      <td>4885</td>\n",
       "      <td>30</td>\n",
       "      <td>151</td>\n",
       "    </tr>\n",
       "    <tr>\n",
       "      <th>27F</th>\n",
       "      <td>2904</td>\n",
       "      <td>1722</td>\n",
       "      <td>13010</td>\n",
       "      <td>6867</td>\n",
       "      <td>89</td>\n",
       "      <td>250</td>\n",
       "    </tr>\n",
       "    <tr>\n",
       "      <th>27M</th>\n",
       "      <td>1321</td>\n",
       "      <td>1987</td>\n",
       "      <td>7099</td>\n",
       "      <td>11981</td>\n",
       "      <td>58</td>\n",
       "      <td>657</td>\n",
       "    </tr>\n",
       "    <tr>\n",
       "      <th>47F</th>\n",
       "      <td>484</td>\n",
       "      <td>345</td>\n",
       "      <td>3968</td>\n",
       "      <td>2662</td>\n",
       "      <td>250</td>\n",
       "      <td>228</td>\n",
       "    </tr>\n",
       "    <tr>\n",
       "      <th>47M</th>\n",
       "      <td>226</td>\n",
       "      <td>325</td>\n",
       "      <td>2276</td>\n",
       "      <td>5061</td>\n",
       "      <td>59</td>\n",
       "      <td>801</td>\n",
       "    </tr>\n",
       "  </tbody>\n",
       "</table>\n",
       "</div>"
      ],
      "text/plain": [
       "       17F   17M    27F    27M  47F  47M\n",
       "17F  10044  3030   4089   2041   10   53\n",
       "17M   4413  5749   4127   4885   30  151\n",
       "27F   2904  1722  13010   6867   89  250\n",
       "27M   1321  1987   7099  11981   58  657\n",
       "47F    484   345   3968   2662  250  228\n",
       "47M    226   325   2276   5061   59  801"
      ]
     },
     "execution_count": 125,
     "metadata": {},
     "output_type": "execute_result"
    }
   ],
   "source": [
    "conf_matrix_rf"
   ]
  },
  {
   "cell_type": "code",
   "execution_count": 126,
   "metadata": {},
   "outputs": [
    {
     "data": {
      "text/html": [
       "<div>\n",
       "<style>\n",
       "    .dataframe thead tr:only-child th {\n",
       "        text-align: right;\n",
       "    }\n",
       "\n",
       "    .dataframe thead th {\n",
       "        text-align: left;\n",
       "    }\n",
       "\n",
       "    .dataframe tbody tr th {\n",
       "        vertical-align: top;\n",
       "    }\n",
       "</style>\n",
       "<table border=\"1\" class=\"dataframe\">\n",
       "  <thead>\n",
       "    <tr style=\"text-align: right;\">\n",
       "      <th></th>\n",
       "      <th>17F</th>\n",
       "      <th>17M</th>\n",
       "      <th>27F</th>\n",
       "      <th>27M</th>\n",
       "      <th>47F</th>\n",
       "      <th>47M</th>\n",
       "    </tr>\n",
       "  </thead>\n",
       "  <tbody>\n",
       "    <tr>\n",
       "      <th>precision</th>\n",
       "      <td>0.488235</td>\n",
       "      <td>0.449823</td>\n",
       "      <td>0.390045</td>\n",
       "      <td>0.349116</td>\n",
       "      <td>0.564327</td>\n",
       "      <td>0.377491</td>\n",
       "    </tr>\n",
       "    <tr>\n",
       "      <th>recall</th>\n",
       "      <td>0.549229</td>\n",
       "      <td>0.255903</td>\n",
       "      <td>0.477578</td>\n",
       "      <td>0.575769</td>\n",
       "      <td>0.024316</td>\n",
       "      <td>0.073617</td>\n",
       "    </tr>\n",
       "    <tr>\n",
       "      <th>f1</th>\n",
       "      <td>0.516939</td>\n",
       "      <td>0.326220</td>\n",
       "      <td>0.429396</td>\n",
       "      <td>0.434670</td>\n",
       "      <td>0.046624</td>\n",
       "      <td>0.123206</td>\n",
       "    </tr>\n",
       "    <tr>\n",
       "      <th>total</th>\n",
       "      <td>19267.000000</td>\n",
       "      <td>19355.000000</td>\n",
       "      <td>24842.000000</td>\n",
       "      <td>23103.000000</td>\n",
       "      <td>7937.000000</td>\n",
       "      <td>8748.000000</td>\n",
       "    </tr>\n",
       "  </tbody>\n",
       "</table>\n",
       "</div>"
      ],
      "text/plain": [
       "                    17F           17M           27F           27M  \\\n",
       "precision      0.488235      0.449823      0.390045      0.349116   \n",
       "recall         0.549229      0.255903      0.477578      0.575769   \n",
       "f1             0.516939      0.326220      0.429396      0.434670   \n",
       "total      19267.000000  19355.000000  24842.000000  23103.000000   \n",
       "\n",
       "                   47F          47M  \n",
       "precision     0.564327     0.377491  \n",
       "recall        0.024316     0.073617  \n",
       "f1            0.046624     0.123206  \n",
       "total      7937.000000  8748.000000  "
      ]
     },
     "execution_count": 126,
     "metadata": {},
     "output_type": "execute_result"
    }
   ],
   "source": [
    "supp_matrix_temp = [list(x) for x in precision_recall_fscore_support(y_test, pred_age_gen, labels=labels)]\n",
    "supp_matrix_ag = pd.DataFrame(supp_matrix_temp,\n",
    "                              columns=labels, \n",
    "                              index=['precision', 'recall', 'f1', 'total'])\n",
    "supp_matrix_ag"
   ]
  },
  {
   "cell_type": "code",
   "execution_count": 127,
   "metadata": {},
   "outputs": [
    {
     "data": {
      "text/html": [
       "<div>\n",
       "<style>\n",
       "    .dataframe thead tr:only-child th {\n",
       "        text-align: right;\n",
       "    }\n",
       "\n",
       "    .dataframe thead th {\n",
       "        text-align: left;\n",
       "    }\n",
       "\n",
       "    .dataframe tbody tr th {\n",
       "        vertical-align: top;\n",
       "    }\n",
       "</style>\n",
       "<table border=\"1\" class=\"dataframe\">\n",
       "  <thead>\n",
       "    <tr style=\"text-align: right;\">\n",
       "      <th></th>\n",
       "      <th>17F</th>\n",
       "      <th>17M</th>\n",
       "      <th>27F</th>\n",
       "      <th>27M</th>\n",
       "      <th>47F</th>\n",
       "      <th>47M</th>\n",
       "    </tr>\n",
       "  </thead>\n",
       "  <tbody>\n",
       "    <tr>\n",
       "      <th>precision</th>\n",
       "      <td>0.517946</td>\n",
       "      <td>0.436921</td>\n",
       "      <td>0.376349</td>\n",
       "      <td>0.357674</td>\n",
       "      <td>0.504032</td>\n",
       "      <td>0.374299</td>\n",
       "    </tr>\n",
       "    <tr>\n",
       "      <th>recall</th>\n",
       "      <td>0.521306</td>\n",
       "      <td>0.297029</td>\n",
       "      <td>0.523710</td>\n",
       "      <td>0.518591</td>\n",
       "      <td>0.031498</td>\n",
       "      <td>0.091564</td>\n",
       "    </tr>\n",
       "    <tr>\n",
       "      <th>f1</th>\n",
       "      <td>0.519620</td>\n",
       "      <td>0.353643</td>\n",
       "      <td>0.437966</td>\n",
       "      <td>0.423357</td>\n",
       "      <td>0.059291</td>\n",
       "      <td>0.147134</td>\n",
       "    </tr>\n",
       "    <tr>\n",
       "      <th>total</th>\n",
       "      <td>19267.000000</td>\n",
       "      <td>19355.000000</td>\n",
       "      <td>24842.000000</td>\n",
       "      <td>23103.000000</td>\n",
       "      <td>7937.000000</td>\n",
       "      <td>8748.000000</td>\n",
       "    </tr>\n",
       "  </tbody>\n",
       "</table>\n",
       "</div>"
      ],
      "text/plain": [
       "                    17F           17M           27F           27M  \\\n",
       "precision      0.517946      0.436921      0.376349      0.357674   \n",
       "recall         0.521306      0.297029      0.523710      0.518591   \n",
       "f1             0.519620      0.353643      0.437966      0.423357   \n",
       "total      19267.000000  19355.000000  24842.000000  23103.000000   \n",
       "\n",
       "                   47F          47M  \n",
       "precision     0.504032     0.374299  \n",
       "recall        0.031498     0.091564  \n",
       "f1            0.059291     0.147134  \n",
       "total      7937.000000  8748.000000  "
      ]
     },
     "execution_count": 127,
     "metadata": {},
     "output_type": "execute_result"
    }
   ],
   "source": [
    "supp_matrix_lr"
   ]
  },
  {
   "cell_type": "markdown",
   "metadata": {},
   "source": [
    "### Balance data"
   ]
  },
  {
   "cell_type": "code",
   "execution_count": 37,
   "metadata": {},
   "outputs": [
    {
     "data": {
      "text/plain": [
       "27F    74266\n",
       "27M    69850\n",
       "17F    57981\n",
       "17M    57930\n",
       "47M    25964\n",
       "47F    23795\n",
       "Name: Y, dtype: int64"
      ]
     },
     "execution_count": 37,
     "metadata": {},
     "output_type": "execute_result"
    }
   ],
   "source": [
    "y_train.value_counts()"
   ]
  },
  {
   "cell_type": "code",
   "execution_count": 38,
   "metadata": {},
   "outputs": [],
   "source": [
    "# y_train.groupby('Y').cumcount()\n",
    "y_train_c = pd.DataFrame(y_train)\n",
    "y_train_c['cum'] = y_train_c.groupby('Y').cumcount()\n",
    "y_train_cut = y_train_c[y_train_c['cum'] < 27000]\n",
    "# y_train_cut.drop('cum', axis=1, inplace=True)"
   ]
  },
  {
   "cell_type": "code",
   "execution_count": 39,
   "metadata": {},
   "outputs": [],
   "source": [
    "y_train_cut = y_train_cut['Y']"
   ]
  },
  {
   "cell_type": "code",
   "execution_count": 40,
   "metadata": {},
   "outputs": [
    {
     "data": {
      "text/plain": [
       "17F    27000\n",
       "27F    27000\n",
       "17M    27000\n",
       "27M    27000\n",
       "47M    25964\n",
       "47F    23795\n",
       "Name: Y, dtype: int64"
      ]
     },
     "execution_count": 40,
     "metadata": {},
     "output_type": "execute_result"
    }
   ],
   "source": [
    "y_train_cut.value_counts()"
   ]
  },
  {
   "cell_type": "code",
   "execution_count": 41,
   "metadata": {},
   "outputs": [],
   "source": [
    "X_train_cut = X_train_uni_pr.loc[y_train_cut.index]"
   ]
  },
  {
   "cell_type": "code",
   "execution_count": 42,
   "metadata": {},
   "outputs": [],
   "source": [
    "clf_rf_cut = RandomForestClassifier(n_estimators=1000, random_state=42, n_jobs=8)"
   ]
  },
  {
   "cell_type": "code",
   "execution_count": 44,
   "metadata": {},
   "outputs": [
    {
     "data": {
      "text/plain": [
       "GridSearchCV(cv=4, error_score='raise',\n",
       "       estimator=RandomForestClassifier(bootstrap=True, class_weight=None, criterion='gini',\n",
       "            max_depth=None, max_features='auto', max_leaf_nodes=None,\n",
       "            min_impurity_decrease=0.0, min_impurity_split=None,\n",
       "            min_samples_leaf=1, min_samples_split=2,\n",
       "            min_weight_fraction_leaf=0.0, n_estimators=1000, n_jobs=8,\n",
       "            oob_score=False, random_state=42, verbose=0, warm_start=False),\n",
       "       fit_params=None, iid=True, n_jobs=1,\n",
       "       param_grid={'max_depth': [9, 18], 'min_samples_split': [3, 5, 10, 50]},\n",
       "       pre_dispatch='2*n_jobs', refit=True, return_train_score='warn',\n",
       "       scoring=None, verbose=0)"
      ]
     },
     "execution_count": 44,
     "metadata": {},
     "output_type": "execute_result"
    }
   ],
   "source": [
    "from sklearn.model_selection import GridSearchCV\n",
    "\n",
    "param_grid = {\n",
    "                 'max_depth': [9, 18],\n",
    "                 'min_samples_split': [3, 5, 10, 50]\n",
    "             }\n",
    "\n",
    "grid_clf = GridSearchCV(clf_rf_cut, param_grid, cv=4)\n",
    "grid_clf.fit(X_train_cut, y_train_cut)"
   ]
  },
  {
   "cell_type": "code",
   "execution_count": 45,
   "metadata": {},
   "outputs": [
    {
     "data": {
      "text/plain": [
       "{'max_depth': 18, 'min_samples_split': 3}"
      ]
     },
     "execution_count": 45,
     "metadata": {},
     "output_type": "execute_result"
    }
   ],
   "source": [
    "grid_clf.best_params_"
   ]
  },
  {
   "cell_type": "code",
   "execution_count": 47,
   "metadata": {},
   "outputs": [
    {
     "data": {
      "text/plain": [
       "RandomForestClassifier(bootstrap=True, class_weight=None, criterion='gini',\n",
       "            max_depth=18, max_features='auto', max_leaf_nodes=None,\n",
       "            min_impurity_decrease=0.0, min_impurity_split=None,\n",
       "            min_samples_leaf=1, min_samples_split=3,\n",
       "            min_weight_fraction_leaf=0.0, n_estimators=1000, n_jobs=8,\n",
       "            oob_score=False, random_state=42, verbose=0, warm_start=False)"
      ]
     },
     "execution_count": 47,
     "metadata": {},
     "output_type": "execute_result"
    }
   ],
   "source": [
    "clf_rf_cut = RandomForestClassifier(n_estimators=1000, max_depth=18, min_samples_split=3, random_state=42, n_jobs=8)\n",
    "clf_rf_cut.fit(X_train_cut, y_train_cut)"
   ]
  },
  {
   "cell_type": "code",
   "execution_count": 48,
   "metadata": {},
   "outputs": [],
   "source": [
    "predictions_cut = clf_rf_cut.predict(X_test_all)"
   ]
  },
  {
   "cell_type": "code",
   "execution_count": 50,
   "metadata": {},
   "outputs": [
    {
     "name": "stdout",
     "output_type": "stream",
     "text": [
      "Accuracy: 0.3762238168559891\n",
      "\n",
      "Precision weighted: 0.39186418829597147\n",
      "Recall weighted: 0.3762238168559891\n",
      "F1 score weighted: 0.377883512199024\n",
      "\n",
      "Precision macro: 0.35825699424965074\n",
      "Recall macro: 0.37543540034123274\n",
      "F1 score macro: 0.35847739672333184\n"
     ]
    }
   ],
   "source": [
    "print('Accuracy:', accuracy_score(y_test, predictions_cut))\n",
    "print()\n",
    "print('Precision weighted:', precision_score(y_test, predictions_cut, average='weighted'))\n",
    "print('Recall weighted:', recall_score(y_test, predictions_cut, average='weighted'))\n",
    "print('F1 score weighted:', f1_score(y_test, predictions_cut, average='weighted'))\n",
    "print()\n",
    "print('Precision macro:', precision_score(y_test, predictions_cut, average='macro'))\n",
    "print('Recall macro:', recall_score(y_test, predictions_cut, average='macro'))\n",
    "print('F1 score macro:', f1_score(y_test, predictions_cut, average='macro'))"
   ]
  },
  {
   "cell_type": "code",
   "execution_count": 51,
   "metadata": {},
   "outputs": [
    {
     "data": {
      "text/html": [
       "<div>\n",
       "<style>\n",
       "    .dataframe thead tr:only-child th {\n",
       "        text-align: right;\n",
       "    }\n",
       "\n",
       "    .dataframe thead th {\n",
       "        text-align: left;\n",
       "    }\n",
       "\n",
       "    .dataframe tbody tr th {\n",
       "        vertical-align: top;\n",
       "    }\n",
       "</style>\n",
       "<table border=\"1\" class=\"dataframe\">\n",
       "  <thead>\n",
       "    <tr style=\"text-align: right;\">\n",
       "      <th></th>\n",
       "      <th>17F</th>\n",
       "      <th>17M</th>\n",
       "      <th>27F</th>\n",
       "      <th>27M</th>\n",
       "      <th>47F</th>\n",
       "      <th>47M</th>\n",
       "    </tr>\n",
       "  </thead>\n",
       "  <tbody>\n",
       "    <tr>\n",
       "      <th>17F</th>\n",
       "      <td>10735</td>\n",
       "      <td>3505</td>\n",
       "      <td>2434</td>\n",
       "      <td>1072</td>\n",
       "      <td>696</td>\n",
       "      <td>780</td>\n",
       "    </tr>\n",
       "    <tr>\n",
       "      <th>17M</th>\n",
       "      <td>4839</td>\n",
       "      <td>6733</td>\n",
       "      <td>2289</td>\n",
       "      <td>2641</td>\n",
       "      <td>902</td>\n",
       "      <td>1865</td>\n",
       "    </tr>\n",
       "    <tr>\n",
       "      <th>27F</th>\n",
       "      <td>3459</td>\n",
       "      <td>2474</td>\n",
       "      <td>8720</td>\n",
       "      <td>3656</td>\n",
       "      <td>3186</td>\n",
       "      <td>3217</td>\n",
       "    </tr>\n",
       "    <tr>\n",
       "      <th>27M</th>\n",
       "      <td>1647</td>\n",
       "      <td>2801</td>\n",
       "      <td>4403</td>\n",
       "      <td>6689</td>\n",
       "      <td>2130</td>\n",
       "      <td>5643</td>\n",
       "    </tr>\n",
       "    <tr>\n",
       "      <th>47F</th>\n",
       "      <td>585</td>\n",
       "      <td>554</td>\n",
       "      <td>1892</td>\n",
       "      <td>1140</td>\n",
       "      <td>2179</td>\n",
       "      <td>1569</td>\n",
       "    </tr>\n",
       "    <tr>\n",
       "      <th>47M</th>\n",
       "      <td>316</td>\n",
       "      <td>529</td>\n",
       "      <td>1137</td>\n",
       "      <td>1974</td>\n",
       "      <td>1078</td>\n",
       "      <td>3794</td>\n",
       "    </tr>\n",
       "  </tbody>\n",
       "</table>\n",
       "</div>"
      ],
      "text/plain": [
       "       17F   17M   27F   27M   47F   47M\n",
       "17F  10735  3505  2434  1072   696   780\n",
       "17M   4839  6733  2289  2641   902  1865\n",
       "27F   3459  2474  8720  3656  3186  3217\n",
       "27M   1647  2801  4403  6689  2130  5643\n",
       "47F    585   554  1892  1140  2179  1569\n",
       "47M    316   529  1137  1974  1078  3794"
      ]
     },
     "execution_count": 51,
     "metadata": {},
     "output_type": "execute_result"
    }
   ],
   "source": [
    "labels = ['17F', '17M', '27F', '27M', '47F', '47M']\n",
    "# labels = ['17', '27', '47']\n",
    "conf_matrix_temp = confusion_matrix(y_test, predictions_cut, labels=labels)\n",
    "conf_matrix_cut = pd.DataFrame(conf_matrix_temp, columns=labels, index=labels)\n",
    "conf_matrix_cut"
   ]
  },
  {
   "cell_type": "code",
   "execution_count": 53,
   "metadata": {},
   "outputs": [
    {
     "data": {
      "text/html": [
       "<div>\n",
       "<style>\n",
       "    .dataframe thead tr:only-child th {\n",
       "        text-align: right;\n",
       "    }\n",
       "\n",
       "    .dataframe thead th {\n",
       "        text-align: left;\n",
       "    }\n",
       "\n",
       "    .dataframe tbody tr th {\n",
       "        vertical-align: top;\n",
       "    }\n",
       "</style>\n",
       "<table border=\"1\" class=\"dataframe\">\n",
       "  <thead>\n",
       "    <tr style=\"text-align: right;\">\n",
       "      <th></th>\n",
       "      <th>17F</th>\n",
       "      <th>17M</th>\n",
       "      <th>27F</th>\n",
       "      <th>27M</th>\n",
       "      <th>47F</th>\n",
       "      <th>47M</th>\n",
       "    </tr>\n",
       "  </thead>\n",
       "  <tbody>\n",
       "    <tr>\n",
       "      <th>precision</th>\n",
       "      <td>0.497428</td>\n",
       "      <td>0.405700</td>\n",
       "      <td>0.417725</td>\n",
       "      <td>0.389529</td>\n",
       "      <td>0.214237</td>\n",
       "      <td>0.224923</td>\n",
       "    </tr>\n",
       "    <tr>\n",
       "      <th>recall</th>\n",
       "      <td>0.558475</td>\n",
       "      <td>0.349421</td>\n",
       "      <td>0.352865</td>\n",
       "      <td>0.286921</td>\n",
       "      <td>0.275161</td>\n",
       "      <td>0.429769</td>\n",
       "    </tr>\n",
       "    <tr>\n",
       "      <th>f1</th>\n",
       "      <td>0.526187</td>\n",
       "      <td>0.375464</td>\n",
       "      <td>0.382565</td>\n",
       "      <td>0.330443</td>\n",
       "      <td>0.240907</td>\n",
       "      <td>0.295299</td>\n",
       "    </tr>\n",
       "    <tr>\n",
       "      <th>total</th>\n",
       "      <td>19222.000000</td>\n",
       "      <td>19269.000000</td>\n",
       "      <td>24712.000000</td>\n",
       "      <td>23313.000000</td>\n",
       "      <td>7919.000000</td>\n",
       "      <td>8828.000000</td>\n",
       "    </tr>\n",
       "  </tbody>\n",
       "</table>\n",
       "</div>"
      ],
      "text/plain": [
       "                    17F           17M           27F           27M  \\\n",
       "precision      0.497428      0.405700      0.417725      0.389529   \n",
       "recall         0.558475      0.349421      0.352865      0.286921   \n",
       "f1             0.526187      0.375464      0.382565      0.330443   \n",
       "total      19222.000000  19269.000000  24712.000000  23313.000000   \n",
       "\n",
       "                   47F          47M  \n",
       "precision     0.214237     0.224923  \n",
       "recall        0.275161     0.429769  \n",
       "f1            0.240907     0.295299  \n",
       "total      7919.000000  8828.000000  "
      ]
     },
     "execution_count": 53,
     "metadata": {},
     "output_type": "execute_result"
    }
   ],
   "source": [
    "supp_matrix_temp = [list(x) for x in precision_recall_fscore_support(y_test, predictions_cut, labels=labels)]\n",
    "supp_matrix_cut = pd.DataFrame(supp_matrix_temp,\n",
    "                              columns=labels, \n",
    "                              index=['precision', 'recall', 'f1', 'total'])\n",
    "supp_matrix_cut"
   ]
  },
  {
   "cell_type": "code",
   "execution_count": 55,
   "metadata": {},
   "outputs": [
    {
     "name": "stderr",
     "output_type": "stream",
     "text": [
      "/Library/Frameworks/Python.framework/Versions/3.6/lib/python3.6/site-packages/sklearn/metrics/ranking.py:571: UndefinedMetricWarning: No positive samples in y_true, true positive value should be meaningless\n",
      "  UndefinedMetricWarning)\n"
     ]
    },
    {
     "data": {
      "image/png": "[encoded data removed]",
      "text/plain": [
       "<Figure size 576x432 with 1 Axes>"
      ]
     },
     "metadata": {},
     "output_type": "display_data"
    }
   ],
   "source": [
    "from sklearn.preprocessing import label_binarize\n",
    "\n",
    "y_bin = label_binarize(y_test, classes=labels)\n",
    "y_pr_bin = label_binarize(predictions_cut, classes=labels)\n",
    "\n",
    "\n",
    "# Compute ROC curve and ROC area for each class\n",
    "fpr = dict()\n",
    "tpr = dict()\n",
    "roc_auc = dict()\n",
    "for i in range(6):\n",
    "    fpr[i], tpr[i], _ = roc_curve(y_bin[:, i], y_pr_bin[:, i])\n",
    "    roc_auc[i] = auc(fpr[i], tpr[i])\n",
    "\n",
    "# Compute micro-average ROC curve and ROC area\n",
    "fpr[\"micro\"], tpr[\"micro\"], _ = roc_curve(y_bin.ravel(), y_pr_bin.ravel(), pos_label=2)\n",
    "roc_auc[\"micro\"] = auc(fpr[\"micro\"], tpr[\"micro\"])\n",
    "\n",
    "#####\n",
    "\n",
    "import matplotlib.pyplot as plt\n",
    "\n",
    "plt.figure(figsize=(8, 6))\n",
    "lw = 2\n",
    "plt.plot(fpr[2], tpr[2], color='darkorange',\n",
    "         lw=lw, label='ROC curve (area = %0.2f)' % roc_auc[2])\n",
    "plt.plot([0, 1], [0, 1], color='navy', lw=lw, linestyle='--')\n",
    "plt.xlim([0.0, 1.0])\n",
    "plt.ylim([0.0, 1.05])\n",
    "plt.xlabel('False Positive Rate')\n",
    "plt.ylabel('True Positive Rate')\n",
    "plt.title('Receiver operating characteristic example')\n",
    "plt.legend(loc=\"lower right\")\n",
    "plt.show()"
   ]
  },
  {
   "cell_type": "code",
   "execution_count": 58,
   "metadata": {},
   "outputs": [
    {
     "data": {
      "image/png": "[encoded data removed]",
      "text/plain": [
       "<Figure size 576x432 with 1 Axes>"
      ]
     },
     "metadata": {},
     "output_type": "display_data"
    }
   ],
   "source": [
    "import numpy as np\n",
    "from scipy import interp\n",
    "from itertools import cycle\n",
    "\n",
    "n_classes = 6\n",
    "\n",
    "# Compute macro-average ROC curve and ROC area\n",
    "\n",
    "# First aggregate all false positive rates\n",
    "all_fpr = np.unique(np.concatenate([fpr[i] for i in range(n_classes)]))\n",
    "\n",
    "# Then interpolate all ROC curves at this points\n",
    "mean_tpr = np.zeros_like(all_fpr)\n",
    "for i in range(n_classes):\n",
    "    mean_tpr += interp(all_fpr, fpr[i], tpr[i])\n",
    "\n",
    "# Finally average it and compute AUC\n",
    "mean_tpr /= n_classes\n",
    "\n",
    "fpr[\"macro\"] = all_fpr\n",
    "tpr[\"macro\"] = mean_tpr\n",
    "roc_auc[\"macro\"] = auc(fpr[\"macro\"], tpr[\"macro\"])\n",
    "\n",
    "# Plot all ROC curves\n",
    "plt.figure(figsize=(8, 6))\n",
    "plt.plot(fpr[\"micro\"], tpr[\"micro\"],\n",
    "         label='micro-average ROC curve (area = {0:0.2f})'\n",
    "               ''.format(roc_auc[\"micro\"]),\n",
    "         color='deeppink', linestyle=':', linewidth=4)\n",
    "\n",
    "plt.plot(fpr[\"macro\"], tpr[\"macro\"],\n",
    "         label='macro-average ROC curve (area = {0:0.2f})'\n",
    "               ''.format(roc_auc[\"macro\"]),\n",
    "         color='navy', linestyle=':', linewidth=4)\n",
    "\n",
    "colors = cycle(['aqua', 'darkorange', 'cornflowerblue'])\n",
    "for i, color in zip(range(n_classes), colors):\n",
    "    plt.plot(fpr[i], tpr[i], color=color, lw=lw,\n",
    "             label='ROC curve of class {0} (area = {1:0.2f})'\n",
    "             ''.format(i, roc_auc[i]))\n",
    "\n",
    "plt.plot([0, 1], [0, 1], 'k--', lw=lw)\n",
    "plt.xlim([0.0, 1.0])\n",
    "plt.ylim([0.0, 1.05])\n",
    "plt.xlabel('False Positive Rate')\n",
    "plt.ylabel('True Positive Rate')\n",
    "plt.title('Some extension of Receiver operating characteristic to multi-class')\n",
    "plt.legend(loc=\"lower right\")\n",
    "plt.show()"
   ]
  },
  {
   "cell_type": "markdown",
   "metadata": {},
   "source": [
    "## Make predictions"
   ]
  },
  {
   "cell_type": "code",
   "execution_count": null,
   "metadata": {},
   "outputs": [],
   "source": [
    "import spacy, en_core_web_sm\n",
    "import prep_for_pred as pf\n",
    "\n",
    "nlp = en_core_web_sm.load()\n",
    "lemmas_set = pf.make_lemma_set('lemmas.txt')"
   ]
  },
  {
   "cell_type": "code",
   "execution_count": null,
   "metadata": {},
   "outputs": [],
   "source": [
    "def predict_by_text(text):\n",
    "    row_data = pf.prepare(text, nlp, lemmas_set)\n",
    "    row_df = pd.DataFrame(row_data).T\n",
    "    row_df.columns = header[:71]\n",
    "    row_df['func_notion_pos'] = row_df['functional_pos'] / row_df['notional_pos']\n",
    "    row_df['func_notion_pos'].fillna(0.0, inplace=True)\n",
    "    row_df['func_notion_pos'].replace([np.inf, -np.inf], [0.0, 0.0], inplace=True)\n",
    "    pred_pos = pd.DataFrame(tf_idf.transform(row_df['pos_corpus']).todense(), columns=pos_mapping)\n",
    "    preds_pos = pd.DataFrame(clf_rf.predict_proba(pred_pos), \n",
    "                         columns=['17F_pos', '17M_pos', '25F_pos', '25M_pos', '48F_pos', '48M_pos'])\n",
    "    pred_uni = pd.DataFrame(tf_idf_uni.transform(row_df['text']).todense(), columns=uni_mapping)\n",
    "    # pred_bi = pd.DataFrame(tf_idf_bi.transform(X_train['text']).todense(), columns=bi_mapping)\n",
    "    preds_uni = pd.DataFrame(clf_rf_uni.predict_proba(pred_uni),\n",
    "                         columns=['17F_uni', '17M_uni', '25F_uni', '25M_uni', '48F_uni', '48M_uni'])                   \n",
    "    # preds_bi = pd.DataFrame(clf_rf_bi.predict_proba(pred_bi),\n",
    "    #               columns=['17F_bi', '17M_bi', '25F_bi', '25M_bi', '48F_bi', '48M_bi'])\n",
    "    return clf_rf_uni_all.predict(pd.concat([row_df.drop(exclude_cols, axis=1, errors='ignore'), \n",
    "                                             preds_pos, preds_uni], axis=1))[0]"
   ]
  },
  {
   "cell_type": "code",
   "execution_count": null,
   "metadata": {},
   "outputs": [],
   "source": [
    "test_text = \"I just watched an interview of ex-NJ Gov. Chris Christie by David Axelrod at the IOP at the U. of Chicago by C-Span 1. Christie attributes Trump's 2016 win as being like Obama's 2008 win as being both 'outsiders' to Washington. Christie himself declined to run in 2012 because he only had 16 months experience as governor, whereas few people in the electorate cared about that. Trump played media leaders by his wild controversies generating ratings and got disproportionate coverage for that. Christie thinks Mueller's probe is solid and objective, not overly long and keeps getting extended by Trump's resistance. Christie thinks the Dems will need to nominate someone from outside D.C. to beat Trump in 2020, maybe a newly elected Dem Governor, experience not being important. (Rhetorical skills, platform presence and media positioning obviously being important.) Christie thinks the Mueller investigation will continue even if Sessions and Rosenstein get fired. He doesn't think impeach talk is productive for Democrats.\""
   ]
  },
  {
   "cell_type": "code",
   "execution_count": null,
   "metadata": {},
   "outputs": [],
   "source": [
    "predict_by_text(test_text)"
   ]
  },
  {
   "cell_type": "code",
   "execution_count": null,
   "metadata": {},
   "outputs": [],
   "source": []
  }
 ],
 "metadata": {
  "kernelspec": {
   "display_name": "Python 3",
   "language": "python",
   "name": "python3"
  },
  "language_info": {
   "codemirror_mode": {
    "name": "ipython",
    "version": 3
   },
   "file_extension": ".py",
   "mimetype": "text/x-python",
   "name": "python",
   "nbconvert_exporter": "python",
   "pygments_lexer": "ipython3",
   "version": "3.6.1"
  }
 },
 "nbformat": 4,
 "nbformat_minor": 2
}
