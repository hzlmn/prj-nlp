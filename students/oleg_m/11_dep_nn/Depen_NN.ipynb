{
 "cells": [
  {
   "cell_type": "code",
   "execution_count": 16,
   "metadata": {},
   "outputs": [],
   "source": [
    "import numpy as np\n",
    "import keras\n",
    "\n",
    "DATA_DIR = '/Users/admin/edu/NLP/practical_NLP_course/'\n",
    "\n",
    "with open(DATA_DIR+'fiction.lowercased.tokenized.300d') as emb_file:\n",
    "    lines = emb_file.readlines()"
   ]
  },
  {
   "cell_type": "code",
   "execution_count": 9,
   "metadata": {},
   "outputs": [],
   "source": [
    "word_dict = {}"
   ]
  },
  {
   "cell_type": "code",
   "execution_count": 51,
   "metadata": {},
   "outputs": [],
   "source": [
    "with open(DATA_DIR+'fiction.lowercased.tokenized.300d') as emb_file:\n",
    "    lines = emb_file.readlines()\n",
    "\n",
    "for line in lines[1:]:\n",
    "    word, arr = line.split(maxsplit=1)\n",
    "    word_dict[word] = [float(x) for x in arr.split()]"
   ]
  },
  {
   "cell_type": "code",
   "execution_count": 15,
   "metadata": {},
   "outputs": [],
   "source": [
    "from conllu import parse\n",
    "\n",
    "with open(DATA_DIR + \"uk_iu-ud-train.conllu\", \"r\") as f:\n",
    "    data = f.read()"
   ]
  },
  {
   "cell_type": "code",
   "execution_count": 54,
   "metadata": {},
   "outputs": [],
   "source": [
    "unknown_word = [0.0]*300"
   ]
  },
  {
   "cell_type": "markdown",
   "metadata": {},
   "source": [
    "Write the data to the disk"
   ]
  },
  {
   "cell_type": "code",
   "execution_count": 44,
   "metadata": {},
   "outputs": [
    {
     "data": {
      "text/plain": [
       "14"
      ]
     },
     "execution_count": 44,
     "metadata": {},
     "output_type": "execute_result"
    }
   ],
   "source": [
    "trees = parse(data)\n",
    "\n",
    "with open(DATA_DIR + 'train_vectors.csv', 'a') as output:\n",
    "    for tree in trees:\n",
    "        for node in tree:\n",
    "            head = node[\"head\"]\n",
    "            child_token = node[\"form\"].lower()\n",
    "            head_token = (tree[head - 1][\"form\"] if head > 0 else \"root\").lower()\n",
    "            head_vector = word_dict[head_token] if head_token in word_dict else unknown_word\n",
    "            child_vector = word_dict[child_token] if child_token in word_dict else unknown_word\n",
    "            if head_vector == unknown_word and child_vector == unknown_word:\n",
    "                continue\n",
    "            write_str = ','.join(str(x) for x in head_vector+child_vector+[node[\"deprel\"]])\n",
    "            output.write(write_str + '\\n')"
   ]
  },
  {
   "cell_type": "code",
   "execution_count": 92,
   "metadata": {},
   "outputs": [
    {
     "data": {
      "text/html": [
       "<div>\n",
       "<style>\n",
       "    .dataframe thead tr:only-child th {\n",
       "        text-align: right;\n",
       "    }\n",
       "\n",
       "    .dataframe thead th {\n",
       "        text-align: left;\n",
       "    }\n",
       "\n",
       "    .dataframe tbody tr th {\n",
       "        vertical-align: top;\n",
       "    }\n",
       "</style>\n",
       "<table border=\"1\" class=\"dataframe\">\n",
       "  <thead>\n",
       "    <tr style=\"text-align: right;\">\n",
       "      <th></th>\n",
       "      <th>0</th>\n",
       "      <th>1</th>\n",
       "      <th>2</th>\n",
       "      <th>3</th>\n",
       "      <th>4</th>\n",
       "      <th>5</th>\n",
       "      <th>6</th>\n",
       "      <th>7</th>\n",
       "      <th>8</th>\n",
       "      <th>9</th>\n",
       "      <th>...</th>\n",
       "      <th>591</th>\n",
       "      <th>592</th>\n",
       "      <th>593</th>\n",
       "      <th>594</th>\n",
       "      <th>595</th>\n",
       "      <th>596</th>\n",
       "      <th>597</th>\n",
       "      <th>598</th>\n",
       "      <th>599</th>\n",
       "      <th>600</th>\n",
       "    </tr>\n",
       "  </thead>\n",
       "  <tbody>\n",
       "    <tr>\n",
       "      <th>0</th>\n",
       "      <td>-0.117512</td>\n",
       "      <td>-0.182687</td>\n",
       "      <td>0.291253</td>\n",
       "      <td>-0.104176</td>\n",
       "      <td>-0.414877</td>\n",
       "      <td>-0.005793</td>\n",
       "      <td>-0.227794</td>\n",
       "      <td>-0.088773</td>\n",
       "      <td>-0.081894</td>\n",
       "      <td>0.073282</td>\n",
       "      <td>...</td>\n",
       "      <td>-0.155744</td>\n",
       "      <td>-0.169492</td>\n",
       "      <td>-0.164372</td>\n",
       "      <td>-0.091375</td>\n",
       "      <td>0.095489</td>\n",
       "      <td>0.076970</td>\n",
       "      <td>0.051420</td>\n",
       "      <td>-0.124548</td>\n",
       "      <td>-0.058590</td>\n",
       "      <td>case</td>\n",
       "    </tr>\n",
       "    <tr>\n",
       "      <th>1</th>\n",
       "      <td>-0.035613</td>\n",
       "      <td>-0.002251</td>\n",
       "      <td>0.044372</td>\n",
       "      <td>-0.231303</td>\n",
       "      <td>0.123732</td>\n",
       "      <td>-0.182480</td>\n",
       "      <td>-0.269373</td>\n",
       "      <td>-0.051354</td>\n",
       "      <td>0.019041</td>\n",
       "      <td>0.086354</td>\n",
       "      <td>...</td>\n",
       "      <td>-0.304780</td>\n",
       "      <td>0.310676</td>\n",
       "      <td>-0.011753</td>\n",
       "      <td>-0.084014</td>\n",
       "      <td>0.173566</td>\n",
       "      <td>-0.251616</td>\n",
       "      <td>0.158831</td>\n",
       "      <td>-0.282692</td>\n",
       "      <td>-0.032314</td>\n",
       "      <td>obl</td>\n",
       "    </tr>\n",
       "    <tr>\n",
       "      <th>2</th>\n",
       "      <td>0.000000</td>\n",
       "      <td>0.000000</td>\n",
       "      <td>0.000000</td>\n",
       "      <td>0.000000</td>\n",
       "      <td>0.000000</td>\n",
       "      <td>0.000000</td>\n",
       "      <td>0.000000</td>\n",
       "      <td>0.000000</td>\n",
       "      <td>0.000000</td>\n",
       "      <td>0.000000</td>\n",
       "      <td>...</td>\n",
       "      <td>-0.166280</td>\n",
       "      <td>0.261123</td>\n",
       "      <td>-0.404187</td>\n",
       "      <td>-0.104432</td>\n",
       "      <td>0.483745</td>\n",
       "      <td>0.915181</td>\n",
       "      <td>0.487084</td>\n",
       "      <td>-0.131554</td>\n",
       "      <td>0.078985</td>\n",
       "      <td>amod</td>\n",
       "    </tr>\n",
       "    <tr>\n",
       "      <th>3</th>\n",
       "      <td>-0.117512</td>\n",
       "      <td>-0.182687</td>\n",
       "      <td>0.291253</td>\n",
       "      <td>-0.104176</td>\n",
       "      <td>-0.414877</td>\n",
       "      <td>-0.005793</td>\n",
       "      <td>-0.227794</td>\n",
       "      <td>-0.088773</td>\n",
       "      <td>-0.081894</td>\n",
       "      <td>0.073282</td>\n",
       "      <td>...</td>\n",
       "      <td>0.000000</td>\n",
       "      <td>0.000000</td>\n",
       "      <td>0.000000</td>\n",
       "      <td>0.000000</td>\n",
       "      <td>0.000000</td>\n",
       "      <td>0.000000</td>\n",
       "      <td>0.000000</td>\n",
       "      <td>0.000000</td>\n",
       "      <td>0.000000</td>\n",
       "      <td>nmod</td>\n",
       "    </tr>\n",
       "    <tr>\n",
       "      <th>4</th>\n",
       "      <td>0.000000</td>\n",
       "      <td>0.000000</td>\n",
       "      <td>0.000000</td>\n",
       "      <td>0.000000</td>\n",
       "      <td>0.000000</td>\n",
       "      <td>0.000000</td>\n",
       "      <td>0.000000</td>\n",
       "      <td>0.000000</td>\n",
       "      <td>0.000000</td>\n",
       "      <td>0.000000</td>\n",
       "      <td>...</td>\n",
       "      <td>0.027558</td>\n",
       "      <td>-0.043749</td>\n",
       "      <td>0.039582</td>\n",
       "      <td>-0.108463</td>\n",
       "      <td>-0.119397</td>\n",
       "      <td>-0.248160</td>\n",
       "      <td>0.021283</td>\n",
       "      <td>-0.061984</td>\n",
       "      <td>-0.000241</td>\n",
       "      <td>root</td>\n",
       "    </tr>\n",
       "  </tbody>\n",
       "</table>\n",
       "<p>5 rows × 601 columns</p>\n",
       "</div>"
      ],
      "text/plain": [
       "        0         1         2         3         4         5         6    \\\n",
       "0 -0.117512 -0.182687  0.291253 -0.104176 -0.414877 -0.005793 -0.227794   \n",
       "1 -0.035613 -0.002251  0.044372 -0.231303  0.123732 -0.182480 -0.269373   \n",
       "2  0.000000  0.000000  0.000000  0.000000  0.000000  0.000000  0.000000   \n",
       "3 -0.117512 -0.182687  0.291253 -0.104176 -0.414877 -0.005793 -0.227794   \n",
       "4  0.000000  0.000000  0.000000  0.000000  0.000000  0.000000  0.000000   \n",
       "\n",
       "        7         8         9    ...        591       592       593       594  \\\n",
       "0 -0.088773 -0.081894  0.073282  ...  -0.155744 -0.169492 -0.164372 -0.091375   \n",
       "1 -0.051354  0.019041  0.086354  ...  -0.304780  0.310676 -0.011753 -0.084014   \n",
       "2  0.000000  0.000000  0.000000  ...  -0.166280  0.261123 -0.404187 -0.104432   \n",
       "3 -0.088773 -0.081894  0.073282  ...   0.000000  0.000000  0.000000  0.000000   \n",
       "4  0.000000  0.000000  0.000000  ...   0.027558 -0.043749  0.039582 -0.108463   \n",
       "\n",
       "        595       596       597       598       599   600  \n",
       "0  0.095489  0.076970  0.051420 -0.124548 -0.058590  case  \n",
       "1  0.173566 -0.251616  0.158831 -0.282692 -0.032314   obl  \n",
       "2  0.483745  0.915181  0.487084 -0.131554  0.078985  amod  \n",
       "3  0.000000  0.000000  0.000000  0.000000  0.000000  nmod  \n",
       "4 -0.119397 -0.248160  0.021283 -0.061984 -0.000241  root  \n",
       "\n",
       "[5 rows x 601 columns]"
      ]
     },
     "execution_count": 92,
     "metadata": {},
     "output_type": "execute_result"
    }
   ],
   "source": [
    "import pandas as pd\n",
    "\n",
    "data = pd.read_csv(DATA_DIR + 'train_vectors.csv', header=None)\n",
    "data.head()"
   ]
  },
  {
   "cell_type": "code",
   "execution_count": 93,
   "metadata": {},
   "outputs": [
    {
     "data": {
      "text/plain": [
       "44"
      ]
     },
     "execution_count": 93,
     "metadata": {},
     "output_type": "execute_result"
    }
   ],
   "source": [
    "from sklearn.feature_extraction.text import CountVectorizer\n",
    "\n",
    "y_train = data[600]\n",
    "bow_transformer = CountVectorizer().fit(y_train)\n",
    "len(bow_transformer.vocabulary_)"
   ]
  },
  {
   "cell_type": "code",
   "execution_count": 94,
   "metadata": {},
   "outputs": [],
   "source": [
    "feature_mapping = bow_transformer.get_feature_names()\n",
    "y_matrix = bow_transformer.transform(y_train)\n",
    "y_matr = pd.DataFrame(y_matrix.todense(), columns=feature_mapping)"
   ]
  },
  {
   "cell_type": "code",
   "execution_count": 95,
   "metadata": {},
   "outputs": [],
   "source": [
    "data.drop([600], axis=1, inplace=True)"
   ]
  },
  {
   "cell_type": "code",
   "execution_count": 108,
   "metadata": {},
   "outputs": [],
   "source": [
    "from keras.models import Sequential\n",
    "from keras.layers import Dense, Dropout, Activation\n",
    "\n",
    "model.add(Dense(1024, activation='relu', input_dim=600))\n",
    "model.add(Dropout(0.5))\n",
    "model.add(Dense(1024, activation='relu'))\n",
    "model.add(Dropout(0.5))\n",
    "model.add(Dense(44, activation='softmax'))"
   ]
  },
  {
   "cell_type": "code",
   "execution_count": 109,
   "metadata": {},
   "outputs": [],
   "source": [
    "model.compile(optimizer='rmsprop',\n",
    "              loss='categorical_crossentropy',\n",
    "              metrics=['accuracy'])"
   ]
  },
  {
   "cell_type": "code",
   "execution_count": 110,
   "metadata": {},
   "outputs": [
    {
     "data": {
      "text/plain": [
       "((68119, 600), (68119, 44))"
      ]
     },
     "execution_count": 110,
     "metadata": {},
     "output_type": "execute_result"
    }
   ],
   "source": [
    "data.shape, y_matr.shape"
   ]
  },
  {
   "cell_type": "code",
   "execution_count": 114,
   "metadata": {},
   "outputs": [
    {
     "name": "stdout",
     "output_type": "stream",
     "text": [
      "Epoch 1/10\n",
      "68119/68119 [==============================] - 9s 134us/step - loss: 1.3143 - acc: 0.6749\n",
      "Epoch 2/10\n",
      "68119/68119 [==============================] - 9s 137us/step - loss: 1.2993 - acc: 0.6755 - ETA: 4s - lo\n",
      "Epoch 3/10\n",
      "68119/68119 [==============================] - 9s 136us/step - loss: 1.2903 - acc: 0.6775\n",
      "Epoch 4/10\n",
      "68119/68119 [==============================] - 9s 138us/step - loss: 1.2946 - acc: 0.6771\n",
      "Epoch 5/10\n",
      "68119/68119 [==============================] - 9s 134us/step - loss: 1.2923 - acc: 0.6801\n",
      "Epoch 6/10\n",
      "68119/68119 [==============================] - 9s 137us/step - loss: 1.2846 - acc: 0.6808\n",
      "Epoch 7/10\n",
      "68119/68119 [==============================] - 9s 137us/step - loss: 1.2864 - acc: 0.6788\n",
      "Epoch 8/10\n",
      "68119/68119 [==============================] - 9s 139us/step - loss: 1.2869 - acc: 0.6776\n",
      "Epoch 9/10\n",
      "68119/68119 [==============================] - 10s 141us/step - loss: 1.2814 - acc: 0.6825\n",
      "Epoch 10/10\n",
      "68119/68119 [==============================] - 10s 140us/step - loss: 1.2767 - acc: 0.6810\n"
     ]
    },
    {
     "data": {
      "text/plain": [
       "<keras.callbacks.History at 0x198bf8a20>"
      ]
     },
     "execution_count": 114,
     "metadata": {},
     "output_type": "execute_result"
    }
   ],
   "source": [
    "model.fit(data, y_matr, epochs=10, batch_size=512)"
   ]
  },
  {
   "cell_type": "markdown",
   "metadata": {},
   "source": [
    "## Evaluation"
   ]
  },
  {
   "cell_type": "code",
   "execution_count": 115,
   "metadata": {},
   "outputs": [],
   "source": [
    "with open(DATA_DIR + \"uk_iu-ud-test.conllu\", \"r\") as f:\n",
    "    data_test = f.read()"
   ]
  },
  {
   "cell_type": "code",
   "execution_count": null,
   "metadata": {},
   "outputs": [],
   "source": [
    "trees_test = parse(data_test)\n",
    "\n",
    "with open(DATA_DIR + 'test_vectors.csv', 'a') as output:\n",
    "    for tree in trees_test:\n",
    "        for node in tree:\n",
    "            head = node[\"head\"]\n",
    "            child_token = node[\"form\"].lower()\n",
    "            head_token = (tree[head - 1][\"form\"] if head > 0 else \"root\").lower()\n",
    "            head_vector = word_dict[head_token] if head_token in word_dict else unknown_word\n",
    "            child_vector = word_dict[child_token] if child_token in word_dict else unknown_word\n",
    "            if head_vector == unknown_word and child_vector == unknown_word:\n",
    "                continue\n",
    "            write_str = ','.join(str(x) for x in head_vector+child_vector+[node[\"deprel\"]])\n",
    "            output.write(write_str + '\\n')"
   ]
  },
  {
   "cell_type": "code",
   "execution_count": 123,
   "metadata": {},
   "outputs": [
    {
     "data": {
      "text/html": [
       "<div>\n",
       "<style>\n",
       "    .dataframe thead tr:only-child th {\n",
       "        text-align: right;\n",
       "    }\n",
       "\n",
       "    .dataframe thead th {\n",
       "        text-align: left;\n",
       "    }\n",
       "\n",
       "    .dataframe tbody tr th {\n",
       "        vertical-align: top;\n",
       "    }\n",
       "</style>\n",
       "<table border=\"1\" class=\"dataframe\">\n",
       "  <thead>\n",
       "    <tr style=\"text-align: right;\">\n",
       "      <th></th>\n",
       "      <th>0</th>\n",
       "      <th>1</th>\n",
       "      <th>2</th>\n",
       "      <th>3</th>\n",
       "      <th>4</th>\n",
       "      <th>5</th>\n",
       "      <th>6</th>\n",
       "      <th>7</th>\n",
       "      <th>8</th>\n",
       "      <th>9</th>\n",
       "      <th>...</th>\n",
       "      <th>591</th>\n",
       "      <th>592</th>\n",
       "      <th>593</th>\n",
       "      <th>594</th>\n",
       "      <th>595</th>\n",
       "      <th>596</th>\n",
       "      <th>597</th>\n",
       "      <th>598</th>\n",
       "      <th>599</th>\n",
       "      <th>600</th>\n",
       "    </tr>\n",
       "  </thead>\n",
       "  <tbody>\n",
       "    <tr>\n",
       "      <th>0</th>\n",
       "      <td>-0.250622</td>\n",
       "      <td>0.339085</td>\n",
       "      <td>0.003205</td>\n",
       "      <td>-0.150334</td>\n",
       "      <td>-0.397549</td>\n",
       "      <td>-0.534761</td>\n",
       "      <td>0.148793</td>\n",
       "      <td>-0.116395</td>\n",
       "      <td>-0.061896</td>\n",
       "      <td>0.229367</td>\n",
       "      <td>...</td>\n",
       "      <td>0.120183</td>\n",
       "      <td>0.165805</td>\n",
       "      <td>-0.113048</td>\n",
       "      <td>0.461204</td>\n",
       "      <td>-0.312887</td>\n",
       "      <td>0.252978</td>\n",
       "      <td>-0.056286</td>\n",
       "      <td>-0.530453</td>\n",
       "      <td>-0.052065</td>\n",
       "      <td>nsubj</td>\n",
       "    </tr>\n",
       "    <tr>\n",
       "      <th>1</th>\n",
       "      <td>0.000000</td>\n",
       "      <td>0.000000</td>\n",
       "      <td>0.000000</td>\n",
       "      <td>0.000000</td>\n",
       "      <td>0.000000</td>\n",
       "      <td>0.000000</td>\n",
       "      <td>0.000000</td>\n",
       "      <td>0.000000</td>\n",
       "      <td>0.000000</td>\n",
       "      <td>0.000000</td>\n",
       "      <td>...</td>\n",
       "      <td>-0.246637</td>\n",
       "      <td>0.224374</td>\n",
       "      <td>-0.647771</td>\n",
       "      <td>-0.775555</td>\n",
       "      <td>-0.177800</td>\n",
       "      <td>-0.549029</td>\n",
       "      <td>0.335552</td>\n",
       "      <td>-0.633770</td>\n",
       "      <td>0.234587</td>\n",
       "      <td>amod</td>\n",
       "    </tr>\n",
       "    <tr>\n",
       "      <th>2</th>\n",
       "      <td>-0.229384</td>\n",
       "      <td>0.517341</td>\n",
       "      <td>-0.413346</td>\n",
       "      <td>-0.289054</td>\n",
       "      <td>0.114304</td>\n",
       "      <td>0.517428</td>\n",
       "      <td>-0.394712</td>\n",
       "      <td>0.365179</td>\n",
       "      <td>-0.059949</td>\n",
       "      <td>0.144308</td>\n",
       "      <td>...</td>\n",
       "      <td>0.000000</td>\n",
       "      <td>0.000000</td>\n",
       "      <td>0.000000</td>\n",
       "      <td>0.000000</td>\n",
       "      <td>0.000000</td>\n",
       "      <td>0.000000</td>\n",
       "      <td>0.000000</td>\n",
       "      <td>0.000000</td>\n",
       "      <td>0.000000</td>\n",
       "      <td>nmod</td>\n",
       "    </tr>\n",
       "    <tr>\n",
       "      <th>3</th>\n",
       "      <td>-0.250622</td>\n",
       "      <td>0.339085</td>\n",
       "      <td>0.003205</td>\n",
       "      <td>-0.150334</td>\n",
       "      <td>-0.397549</td>\n",
       "      <td>-0.534761</td>\n",
       "      <td>0.148793</td>\n",
       "      <td>-0.116395</td>\n",
       "      <td>-0.061896</td>\n",
       "      <td>0.229367</td>\n",
       "      <td>...</td>\n",
       "      <td>0.000000</td>\n",
       "      <td>0.000000</td>\n",
       "      <td>0.000000</td>\n",
       "      <td>0.000000</td>\n",
       "      <td>0.000000</td>\n",
       "      <td>0.000000</td>\n",
       "      <td>0.000000</td>\n",
       "      <td>0.000000</td>\n",
       "      <td>0.000000</td>\n",
       "      <td>punct</td>\n",
       "    </tr>\n",
       "    <tr>\n",
       "      <th>4</th>\n",
       "      <td>-0.250622</td>\n",
       "      <td>0.339085</td>\n",
       "      <td>0.003205</td>\n",
       "      <td>-0.150334</td>\n",
       "      <td>-0.397549</td>\n",
       "      <td>-0.534761</td>\n",
       "      <td>0.148793</td>\n",
       "      <td>-0.116395</td>\n",
       "      <td>-0.061896</td>\n",
       "      <td>0.229367</td>\n",
       "      <td>...</td>\n",
       "      <td>0.284465</td>\n",
       "      <td>0.077792</td>\n",
       "      <td>-0.031626</td>\n",
       "      <td>0.016867</td>\n",
       "      <td>-0.032639</td>\n",
       "      <td>-0.176755</td>\n",
       "      <td>0.047998</td>\n",
       "      <td>-0.119000</td>\n",
       "      <td>-0.033217</td>\n",
       "      <td>expl</td>\n",
       "    </tr>\n",
       "  </tbody>\n",
       "</table>\n",
       "<p>5 rows × 601 columns</p>\n",
       "</div>"
      ],
      "text/plain": [
       "        0         1         2         3         4         5         6    \\\n",
       "0 -0.250622  0.339085  0.003205 -0.150334 -0.397549 -0.534761  0.148793   \n",
       "1  0.000000  0.000000  0.000000  0.000000  0.000000  0.000000  0.000000   \n",
       "2 -0.229384  0.517341 -0.413346 -0.289054  0.114304  0.517428 -0.394712   \n",
       "3 -0.250622  0.339085  0.003205 -0.150334 -0.397549 -0.534761  0.148793   \n",
       "4 -0.250622  0.339085  0.003205 -0.150334 -0.397549 -0.534761  0.148793   \n",
       "\n",
       "        7         8         9    ...         591       592       593  \\\n",
       "0 -0.116395 -0.061896  0.229367  ...    0.120183  0.165805 -0.113048   \n",
       "1  0.000000  0.000000  0.000000  ...   -0.246637  0.224374 -0.647771   \n",
       "2  0.365179 -0.059949  0.144308  ...    0.000000  0.000000  0.000000   \n",
       "3 -0.116395 -0.061896  0.229367  ...    0.000000  0.000000  0.000000   \n",
       "4 -0.116395 -0.061896  0.229367  ...    0.284465  0.077792 -0.031626   \n",
       "\n",
       "        594       595       596       597       598       599    600  \n",
       "0  0.461204 -0.312887  0.252978 -0.056286 -0.530453 -0.052065  nsubj  \n",
       "1 -0.775555 -0.177800 -0.549029  0.335552 -0.633770  0.234587   amod  \n",
       "2  0.000000  0.000000  0.000000  0.000000  0.000000  0.000000   nmod  \n",
       "3  0.000000  0.000000  0.000000  0.000000  0.000000  0.000000  punct  \n",
       "4  0.016867 -0.032639 -0.176755  0.047998 -0.119000 -0.033217   expl  \n",
       "\n",
       "[5 rows x 601 columns]"
      ]
     },
     "execution_count": 123,
     "metadata": {},
     "output_type": "execute_result"
    }
   ],
   "source": [
    "data_test = pd.read_csv(DATA_DIR + 'test_vectors.csv', header=None)\n",
    "data_test.head()"
   ]
  },
  {
   "cell_type": "code",
   "execution_count": 124,
   "metadata": {},
   "outputs": [],
   "source": [
    "y_test = data_test[600]\n",
    "y_test_matrix = pd.DataFrame(bow_transformer.transform(y_test).todense(), columns=feature_mapping)"
   ]
  },
  {
   "cell_type": "code",
   "execution_count": 126,
   "metadata": {},
   "outputs": [],
   "source": [
    "data_test.drop([600], axis=1, inplace=True)"
   ]
  },
  {
   "cell_type": "code",
   "execution_count": 127,
   "metadata": {},
   "outputs": [
    {
     "name": "stdout",
     "output_type": "stream",
     "text": [
      "13400/13400 [==============================] - 1s 59us/step\n"
     ]
    }
   ],
   "source": [
    "score = model.evaluate(data_test, y_test_matrix, batch_size=512)"
   ]
  },
  {
   "cell_type": "code",
   "execution_count": 128,
   "metadata": {},
   "outputs": [
    {
     "data": {
      "text/plain": [
       "[1.6696751999499193, 0.6335074626509823]"
      ]
     },
     "execution_count": 128,
     "metadata": {},
     "output_type": "execute_result"
    }
   ],
   "source": [
    "score"
   ]
  },
  {
   "cell_type": "code",
   "execution_count": null,
   "metadata": {},
   "outputs": [],
   "source": []
  }
 ],
 "metadata": {
  "kernelspec": {
   "display_name": "Python 3",
   "language": "python",
   "name": "python3"
  },
  "language_info": {
   "codemirror_mode": {
    "name": "ipython",
    "version": 3
   },
   "file_extension": ".py",
   "mimetype": "text/x-python",
   "name": "python",
   "nbconvert_exporter": "python",
   "pygments_lexer": "ipython3",
   "version": "3.6.1"
  }
 },
 "nbformat": 4,
 "nbformat_minor": 2
}
