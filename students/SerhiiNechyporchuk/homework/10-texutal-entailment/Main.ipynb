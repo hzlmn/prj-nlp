{
 "cells": [
  {
   "cell_type": "code",
   "execution_count": 271,
   "metadata": {},
   "outputs": [],
   "source": [
    "import json\n",
    "import pandas as pd\n",
    "import matplotlib.pyplot as plt\n",
    "from sklearn.naive_bayes import MultinomialNB\n",
    "import en_core_web_lg\n",
    "from tqdm import tqdm, tqdm_notebook\n",
    "import spacy\n",
    "from sklearn.metrics import classification_report\n",
    "import numpy as np\n",
    "\n",
    "pd.set_option('display.max_colwidth', 300)"
   ]
  },
  {
   "cell_type": "markdown",
   "metadata": {},
   "source": [
    "# Description\n",
    "### The idea\n",
    "The idea is to align sentences and make some features based on wordnet synsets relationship (synonym, hyponym, hypernym, meronym, holonym, ...). To make true alignment is somewhat a big task, which need it's own (not so trivial) classifier. So I want to simplify step of allignment to this procedure:\n",
    "  * for each pair of sentences\n",
    "      * match each word in evidence sentence with each word in hypothesis\n",
    "      * for each match $(e_i, h_j)$\n",
    "          * compute following features:\n",
    "              * if $e_i$ is synonym for $h_i$ return 1 else 0\n",
    "              * if $e_i$ in the hypernym closure from $h_j$ to root return 1 else 0\n",
    "              * if $h_j$ in the hypernym closure from $e_i$ to root return 1 else 0\n",
    "              * if $e_i$ in the holonym closure from $h_j$ to root return 1 else 0\n",
    "              * if $h_j$ in the meronym closure from $e_i$ to root return 1 else 0\n",
    "              * if $e_i$ in the entailment closure from $h_j$ to root return 1 else 0\n",
    "              * if $h_j$ in the entailment closure from $e_i$ to root return 1 else 0\n",
    "          * penalize each features by the distance between $i$ and $j$: $| j - i | + 1$\n",
    "      * sum all results to have one number for each sentence pair\n",
    "      \n",
    "Simply speaking, this algorithm takes assumption that if word in evidence and hypothesis is aligned  it is very unlikely that they will be very far from each other. It is definetely not true, but we'll see how it works.\n",
    "\n",
    "### Baseline\n",
    "For baseline I will use simply a Logistic Regression and classifier on tf-idf word features for two sentences concatenated.\n",
    "\n",
    "### Steps\n",
    "* Train classifier only on wordnet features\n",
    "* Train classifier only on word embeddings\n",
    "* Train classifier on both word embeddings and wordnet features"
   ]
  },
  {
   "cell_type": "markdown",
   "metadata": {},
   "source": [
    "# Data loading"
   ]
  },
  {
   "cell_type": "code",
   "execution_count": 8,
   "metadata": {},
   "outputs": [],
   "source": [
    "nlp = en_core_web_lg.load()"
   ]
  },
  {
   "cell_type": "code",
   "execution_count": 23,
   "metadata": {},
   "outputs": [],
   "source": [
    "plt.style.use('dark_background')"
   ]
  },
  {
   "cell_type": "code",
   "execution_count": 9,
   "metadata": {},
   "outputs": [],
   "source": [
    "TRAIN_FILE = 'dataset/snli_1.0/snli_1.0_train.jsonl'\n",
    "TEST_FILE = 'dataset/snli_1.0/snli_1.0_test.jsonl'"
   ]
  },
  {
   "cell_type": "code",
   "execution_count": 60,
   "metadata": {},
   "outputs": [],
   "source": [
    "def prepare(file):\n",
    "    rows = [json.loads(line) for line in open(file)]\n",
    "    df = pd.DataFrame({\n",
    "        'sentence1': [r['sentence1'] for r in rows],\n",
    "        'sentence2': [r['sentence2'] for r in rows],\n",
    "        'sentence1_parse': [r['sentence1_parse'] for r in rows],\n",
    "        'sentence2_parse': [r['sentence2_parse'] for r in rows],\n",
    "        'label': [r['gold_label'] for r in rows]\n",
    "    })\n",
    "    return df[df['label'] != '-'].copy()"
   ]
  },
  {
   "cell_type": "code",
   "execution_count": 61,
   "metadata": {
    "scrolled": false
   },
   "outputs": [],
   "source": [
    "train = prepare(TRAIN_FILE)"
   ]
  },
  {
   "cell_type": "code",
   "execution_count": 62,
   "metadata": {},
   "outputs": [],
   "source": [
    "test = prepare(TEST_FILE)"
   ]
  },
  {
   "cell_type": "code",
   "execution_count": 35,
   "metadata": {},
   "outputs": [
    {
     "data": {
      "text/html": [
       "<div>\n",
       "<style scoped>\n",
       "    .dataframe tbody tr th:only-of-type {\n",
       "        vertical-align: middle;\n",
       "    }\n",
       "\n",
       "    .dataframe tbody tr th {\n",
       "        vertical-align: top;\n",
       "    }\n",
       "\n",
       "    .dataframe thead th {\n",
       "        text-align: right;\n",
       "    }\n",
       "</style>\n",
       "<table border=\"1\" class=\"dataframe\">\n",
       "  <thead>\n",
       "    <tr style=\"text-align: right;\">\n",
       "      <th></th>\n",
       "      <th>label</th>\n",
       "      <th>sentence1</th>\n",
       "      <th>sentence2</th>\n",
       "    </tr>\n",
       "  </thead>\n",
       "  <tbody>\n",
       "    <tr>\n",
       "      <th>0</th>\n",
       "      <td>neutral</td>\n",
       "      <td>A person on a horse jumps over a broken down airplane.</td>\n",
       "      <td>A person is training his horse for a competition.</td>\n",
       "    </tr>\n",
       "    <tr>\n",
       "      <th>1</th>\n",
       "      <td>contradiction</td>\n",
       "      <td>A person on a horse jumps over a broken down airplane.</td>\n",
       "      <td>A person is at a diner, ordering an omelette.</td>\n",
       "    </tr>\n",
       "    <tr>\n",
       "      <th>2</th>\n",
       "      <td>entailment</td>\n",
       "      <td>A person on a horse jumps over a broken down airplane.</td>\n",
       "      <td>A person is outdoors, on a horse.</td>\n",
       "    </tr>\n",
       "    <tr>\n",
       "      <th>3</th>\n",
       "      <td>neutral</td>\n",
       "      <td>Children smiling and waving at camera</td>\n",
       "      <td>They are smiling at their parents</td>\n",
       "    </tr>\n",
       "    <tr>\n",
       "      <th>4</th>\n",
       "      <td>entailment</td>\n",
       "      <td>Children smiling and waving at camera</td>\n",
       "      <td>There are children present</td>\n",
       "    </tr>\n",
       "    <tr>\n",
       "      <th>5</th>\n",
       "      <td>contradiction</td>\n",
       "      <td>Children smiling and waving at camera</td>\n",
       "      <td>The kids are frowning</td>\n",
       "    </tr>\n",
       "  </tbody>\n",
       "</table>\n",
       "</div>"
      ],
      "text/plain": [
       "           label                                               sentence1  \\\n",
       "0        neutral  A person on a horse jumps over a broken down airplane.   \n",
       "1  contradiction  A person on a horse jumps over a broken down airplane.   \n",
       "2     entailment  A person on a horse jumps over a broken down airplane.   \n",
       "3        neutral                   Children smiling and waving at camera   \n",
       "4     entailment                   Children smiling and waving at camera   \n",
       "5  contradiction                   Children smiling and waving at camera   \n",
       "\n",
       "                                           sentence2  \n",
       "0  A person is training his horse for a competition.  \n",
       "1      A person is at a diner, ordering an omelette.  \n",
       "2                  A person is outdoors, on a horse.  \n",
       "3                  They are smiling at their parents  \n",
       "4                         There are children present  \n",
       "5                              The kids are frowning  "
      ]
     },
     "execution_count": 35,
     "metadata": {},
     "output_type": "execute_result"
    }
   ],
   "source": [
    "train[:6]"
   ]
  },
  {
   "cell_type": "code",
   "execution_count": 28,
   "metadata": {},
   "outputs": [
    {
     "data": {
      "text/plain": [
       "<matplotlib.axes._subplots.AxesSubplot at 0x1bc5aaf60>"
      ]
     },
     "execution_count": 28,
     "metadata": {},
     "output_type": "execute_result"
    },
    {
     "data": {
      "image/png": "[encoded data removed]",
      "text/plain": [
       "<Figure size 432x288 with 1 Axes>"
      ]
     },
     "metadata": {},
     "output_type": "display_data"
    }
   ],
   "source": [
    "train.label.value_counts().plot(kind='bar')"
   ]
  },
  {
   "cell_type": "markdown",
   "metadata": {},
   "source": [
    "It is good that data is uniformly distributed across all classes"
   ]
  },
  {
   "cell_type": "markdown",
   "metadata": {},
   "source": [
    "# Baseline"
   ]
  },
  {
   "cell_type": "code",
   "execution_count": 314,
   "metadata": {},
   "outputs": [],
   "source": [
    "from sklearn.pipeline import make_pipeline, FeatureUnion\n",
    "from sklearn.linear_model import LogisticRegression\n",
    "from sklearn.naive_bayes import MultinomialNB\n",
    "from sklearn.feature_extraction.text import TfidfVectorizer\n",
    "\n",
    "nb_pipe = make_pipeline(TfidfVectorizer(), LogisticRegression())"
   ]
  },
  {
   "cell_type": "code",
   "execution_count": 315,
   "metadata": {},
   "outputs": [],
   "source": [
    "def nb_prepare(df):\n",
    "    return df.assign(concat=[t1 + \" \" + t2 for t1,t2 in zip(df['sentence1'], df['sentence2'])])"
   ]
  },
  {
   "cell_type": "code",
   "execution_count": 316,
   "metadata": {},
   "outputs": [],
   "source": [
    "nb_data = nb_prepare(train)\n",
    "nb_test = nb_prepare(test)"
   ]
  },
  {
   "cell_type": "code",
   "execution_count": 317,
   "metadata": {},
   "outputs": [
    {
     "data": {
      "text/plain": [
       "Pipeline(memory=None,\n",
       "     steps=[('tfidfvectorizer', TfidfVectorizer(analyzer='word', binary=False, decode_error='strict',\n",
       "        dtype=<class 'numpy.int64'>, encoding='utf-8', input='content',\n",
       "        lowercase=True, max_df=1.0, max_features=None, min_df=1,\n",
       "        ngram_range=(1, 1), norm='l2', preprocessor=None, smooth_i...ty='l2', random_state=None, solver='liblinear', tol=0.0001,\n",
       "          verbose=0, warm_start=False))])"
      ]
     },
     "execution_count": 317,
     "metadata": {},
     "output_type": "execute_result"
    }
   ],
   "source": [
    "nb_pipe.fit(nb_data['concat'], nb_data['label'])"
   ]
  },
  {
   "cell_type": "code",
   "execution_count": 318,
   "metadata": {},
   "outputs": [
    {
     "data": {
      "text/plain": [
       "0.591103943265613"
      ]
     },
     "execution_count": 318,
     "metadata": {},
     "output_type": "execute_result"
    }
   ],
   "source": [
    "nb_pipe.score(nb_data['concat'], nb_data['label'])"
   ]
  },
  {
   "cell_type": "code",
   "execution_count": 340,
   "metadata": {},
   "outputs": [
    {
     "name": "stdout",
     "output_type": "stream",
     "text": [
      "               precision    recall  f1-score   support\n",
      "\n",
      "contradiction       0.57      0.56      0.57      3237\n",
      "   entailment       0.58      0.61      0.59      3368\n",
      "      neutral       0.57      0.55      0.56      3219\n",
      "\n",
      "  avg / total       0.57      0.57      0.57      9824\n",
      "\n"
     ]
    }
   ],
   "source": [
    "print(classification_report(nb_test['label'], nb_pipe.predict(nb_test['concat'])))"
   ]
  },
  {
   "cell_type": "markdown",
   "metadata": {},
   "source": [
    "Simple idea like concatenating sentences and train logistic regression on it give pretty good results: f1=**57%**. So I will try to beat this results, but it may be not so easy."
   ]
  },
  {
   "cell_type": "markdown",
   "metadata": {},
   "source": [
    "# WordNet classifier"
   ]
  },
  {
   "cell_type": "code",
   "execution_count": 13,
   "metadata": {},
   "outputs": [],
   "source": [
    "from nltk.corpus import wordnet as wn"
   ]
  },
  {
   "cell_type": "code",
   "execution_count": 14,
   "metadata": {},
   "outputs": [],
   "source": [
    "def spacy2wn(spacy_pos):\n",
    "    if spacy_pos == 'NOUN':\n",
    "        return 'n'\n",
    "    elif spacy_pos == 'VERB':\n",
    "        return 'v'\n",
    "    else:\n",
    "        return 'NONE'"
   ]
  },
  {
   "cell_type": "code",
   "execution_count": 126,
   "metadata": {},
   "outputs": [
    {
     "data": {
      "application/vnd.jupyter.widget-view+json": {
       "model_id": "fe009bb4360546b4b3ab9382831a9f8a",
       "version_major": 2,
       "version_minor": 0
      },
      "text/plain": [
       "HBox(children=(IntProgress(value=1, bar_style='info', max=1), HTML(value='')))"
      ]
     },
     "metadata": {},
     "output_type": "display_data"
    }
   ],
   "source": [
    "from textblob import Word\n",
    "from tqdm import tqdm_pandas\n",
    "tqdm_notebook().pandas()"
   ]
  },
  {
   "cell_type": "code",
   "execution_count": 222,
   "metadata": {},
   "outputs": [
    {
     "data": {
      "application/vnd.jupyter.widget-view+json": {
       "model_id": "f535c62f83e047139c6e437fdf436336",
       "version_major": 2,
       "version_minor": 0
      },
      "text/plain": [
       "HBox(children=(IntProgress(value=0, max=549367), HTML(value='')))"
      ]
     },
     "metadata": {},
     "output_type": "display_data"
    },
    {
     "data": {
      "application/vnd.jupyter.widget-view+json": {
       "model_id": "8e548e663db641fe800f91f129e99e8e",
       "version_major": 2,
       "version_minor": 0
      },
      "text/plain": [
       "HBox(children=(IntProgress(value=0, max=549367), HTML(value='')))"
      ]
     },
     "metadata": {},
     "output_type": "display_data"
    }
   ],
   "source": [
    "train2 = train.assign(sentence1_doc=train['sentence1'].progress_apply(nlp))\n",
    "train2 = train2.assign(sentence2_doc=train['sentence2'].progress_apply(nlp))"
   ]
  },
  {
   "cell_type": "code",
   "execution_count": 228,
   "metadata": {
    "scrolled": true
   },
   "outputs": [
    {
     "data": {
      "application/vnd.jupyter.widget-view+json": {
       "model_id": "25a4adca9d5848a5803dd3a3ca815d86",
       "version_major": 2,
       "version_minor": 0
      },
      "text/plain": [
       "HBox(children=(IntProgress(value=0, max=9824), HTML(value='')))"
      ]
     },
     "metadata": {},
     "output_type": "display_data"
    },
    {
     "data": {
      "application/vnd.jupyter.widget-view+json": {
       "model_id": "56697803b8a54160982bad8f17a8f94b",
       "version_major": 2,
       "version_minor": 0
      },
      "text/plain": [
       "HBox(children=(IntProgress(value=0, max=9824), HTML(value='')))"
      ]
     },
     "metadata": {},
     "output_type": "display_data"
    }
   ],
   "source": [
    "test2 = test.assign(sentence1_doc=test['sentence1'].progress_apply(nlp))\n",
    "test2 = test2.assign(sentence2_doc=test['sentence2'].progress_apply(nlp))"
   ]
  },
  {
   "cell_type": "code",
   "execution_count": 247,
   "metadata": {},
   "outputs": [],
   "source": [
    "\n",
    "cache = {}\n",
    "\n",
    "def synset(id):\n",
    "    res = None #cache.get(id)\n",
    "    if res == None:\n",
    "        res = wn.synset(id)\n",
    "        cache[id] = res\n",
    "    return res\n",
    "\n",
    "def extract_features(df):\n",
    "    features_list = []\n",
    "    for i,row in tqdm_notebook(df.iterrows(), total=len(df)):\n",
    "        sent1 = list(filter(lambda x: x.pos_ in {'NOUN', 'VERB'}, row['sentence1_doc']))\n",
    "        sent2 = list(filter(lambda x: x.pos_ in {'NOUN', 'VERB'}, row['sentence2_doc']))\n",
    "\n",
    "        sent1_uniq = set()\n",
    "        sent2_uniq = set()\n",
    "        features = {\n",
    "            'synonym': 0,\n",
    "            'hypernym': 0,\n",
    "            'hyponym': 0,\n",
    "            'holonym': 0,\n",
    "            'meronym': 0,\n",
    "            's1-ent->s2': 0,\n",
    "            's2-ent->s1': 0\n",
    "        }\n",
    "        for i in range(len(sent1)):\n",
    "            for j in range(len(sent2)):\n",
    "                dist = abs(i-j)+1\n",
    "                t1 = sent1[i]\n",
    "                t2 = sent2[j]\n",
    "                if t1.pos == t2.pos:\n",
    "                    try:\n",
    "                        s1 = synset(t1.lemma_ + '.' + spacy2wn(t1.pos_) + '.01')\n",
    "                        s2 = synset(t2.lemma_ + '.' + spacy2wn(t2.pos_) + '.01')\n",
    "                    except:\n",
    "                        continue\n",
    "                    features['synonym'] += (1 if t2.lemma_ in s1.lemma_names() else 0) / dist\n",
    "                    features['hypernym'] += (1 if any([s1 in hypernyms for hypernyms in s2.hypernym_paths()]) else 0) / dist\n",
    "                    features['hyponym'] += (1 if any([s2 in hypernyms for hypernyms in s1.hypernym_paths()]) else 0) / dist\n",
    "                    features['holonym'] += (1 if s1 in list(s2.closure(lambda x: x.member_holonyms() + x.part_holonyms() + x.substance_holonyms())) else 0) / dist\n",
    "                    features['meronym'] += (1 if s2 in list(s1.closure(lambda x: x.member_holonyms() + x.part_holonyms() + x.substance_holonyms())) else 0) / dist\n",
    "                    features['s1-ent->s2'] += (1 if s1 in list(s2.closure(lambda x: x.entailments())) else 0) / dist\n",
    "                    features['s2-ent->s1'] += (1 if s2 in list(s1.closure(lambda x: x.entailments())) else 0) / dist\n",
    "        features_list.append(features)\n",
    "        \n",
    "    return features_list"
   ]
  },
  {
   "cell_type": "code",
   "execution_count": 227,
   "metadata": {},
   "outputs": [
    {
     "data": {
      "application/vnd.jupyter.widget-view+json": {
       "model_id": "104e399cc2cb45b28662c6b092c535da",
       "version_major": 2,
       "version_minor": 0
      },
      "text/plain": [
       "HBox(children=(IntProgress(value=0, max=549367), HTML(value='')))"
      ]
     },
     "metadata": {},
     "output_type": "display_data"
    }
   ],
   "source": [
    "features_list = extract_features(train)"
   ]
  },
  {
   "cell_type": "code",
   "execution_count": 248,
   "metadata": {
    "scrolled": true
   },
   "outputs": [
    {
     "data": {
      "application/vnd.jupyter.widget-view+json": {
       "model_id": "f5bd50ca2d99409abaab00dbd97fe574",
       "version_major": 2,
       "version_minor": 0
      },
      "text/plain": [
       "HBox(children=(IntProgress(value=0, max=9824), HTML(value='')))"
      ]
     },
     "metadata": {},
     "output_type": "display_data"
    }
   ],
   "source": [
    "test_features = extract_features(test2)"
   ]
  },
  {
   "cell_type": "markdown",
   "metadata": {},
   "source": [
    "Try to train Logistic regression on this featuers"
   ]
  },
  {
   "cell_type": "code",
   "execution_count": 258,
   "metadata": {
    "scrolled": false
   },
   "outputs": [
    {
     "name": "stdout",
     "output_type": "stream",
     "text": [
      "train_score: 0.4061984065296969\n",
      "               precision    recall  f1-score   support\n",
      "\n",
      "contradiction       0.41      0.62      0.49      3237\n",
      "   entailment       0.44      0.47      0.45      3368\n",
      "      neutral       0.33      0.13      0.19      3219\n",
      "\n",
      "  avg / total       0.39      0.41      0.38      9824\n",
      "\n"
     ]
    }
   ],
   "source": [
    "from sklearn.feature_extraction import DictVectorizer\n",
    "pipe1 = make_pipeline(DictVectorizer(), LogisticRegression())\n",
    "pipe1.fit(features_list, train2['label'])\n",
    "train_score1 = pipe1.score(features_list, train2['label'])\n",
    "print('train_score:', train_score1)\n",
    "test_pred1 = pipe1.predict(test_features)\n",
    "print(classification_report(test2['label'], test_pred1))"
   ]
  },
  {
   "cell_type": "markdown",
   "metadata": {},
   "source": [
    "Try to train random forest on this features"
   ]
  },
  {
   "cell_type": "code",
   "execution_count": 259,
   "metadata": {
    "scrolled": false
   },
   "outputs": [
    {
     "name": "stdout",
     "output_type": "stream",
     "text": [
      "train_score: 0.4581727697513684\n",
      "               precision    recall  f1-score   support\n",
      "\n",
      "contradiction       0.46      0.51      0.48      3237\n",
      "   entailment       0.44      0.62      0.52      3368\n",
      "      neutral       0.39      0.17      0.24      3219\n",
      "\n",
      "  avg / total       0.43      0.44      0.41      9824\n",
      "\n"
     ]
    }
   ],
   "source": [
    "from sklearn.ensemble import RandomForestClassifier\n",
    "\n",
    "pipe2 = make_pipeline(DictVectorizer(), RandomForestClassifier())\n",
    "pipe2.fit(features_list, train2['label'])\n",
    "train_score2 = pipe2.score(features_list, train2['label'])\n",
    "print('train_score:', train_score2)\n",
    "test_pred2 = pipe2.predict(test_features)\n",
    "print(classification_report(test2['label'], test_pred2))"
   ]
  },
  {
   "cell_type": "markdown",
   "metadata": {},
   "source": [
    "Random forest gave the best results for this features set. But we are much belowe the baseline still."
   ]
  },
  {
   "cell_type": "markdown",
   "metadata": {},
   "source": [
    "# GloVe classifier\n",
    "Let's try to use glove vectors for evidence and hypothesis to train classifier. For each sentence we will sum up all word vectors and than concatenate two resulting vectors into one"
   ]
  },
  {
   "cell_type": "code",
   "execution_count": 272,
   "metadata": {},
   "outputs": [
    {
     "data": {
      "application/vnd.jupyter.widget-view+json": {
       "model_id": "022fbfb996d64a7cb0fa29276cd97326",
       "version_major": 2,
       "version_minor": 0
      },
      "text/plain": [
       "HBox(children=(IntProgress(value=0, max=400000), HTML(value='')))"
      ]
     },
     "metadata": {},
     "output_type": "display_data"
    }
   ],
   "source": [
    "glove_file = open('dataset/glove.6B/glove.6B.100d.txt')\n",
    "embedding_index = {}\n",
    "for line in tqdm_notebook(glove_file, total=400000):\n",
    "    parts = line.split()\n",
    "    word = parts[0]\n",
    "    vector = np.asarray([float(p) for p in parts[1:]])\n",
    "    embedding_index[word] = vector"
   ]
  },
  {
   "cell_type": "code",
   "execution_count": 297,
   "metadata": {},
   "outputs": [],
   "source": [
    "import sklearn.base\n",
    "\n",
    "class SentenceEmbeddingExtractor(sklearn.base.TransformerMixin):\n",
    "    def __init__(self, embedding_index):\n",
    "        self.embedding_index = embedding_index\n",
    "        \n",
    "    def fit(self, X=None, y=None):\n",
    "        self.unk = np.zeros((embedding_index['the'].shape[0],))\n",
    "        return self\n",
    "    \n",
    "    def transform(self, sentences):\n",
    "        return np.asarray([\n",
    "            np.sum(np.asarray([self.embedding_index.get(token.lemma_, self.unk)  for token in sentence]), axis=0)\n",
    "            for sentence in sentences\n",
    "        ])"
   ]
  },
  {
   "cell_type": "code",
   "execution_count": 300,
   "metadata": {},
   "outputs": [],
   "source": [
    "class ItemSelector(sklearn.base.TransformerMixin):\n",
    "    def __init__(self, key):\n",
    "        self.key = key\n",
    "        \n",
    "    def fit(self, X=None, y=None):\n",
    "        return self\n",
    "    \n",
    "    def transform(self, df):\n",
    "        return df[self.key]"
   ]
  },
  {
   "cell_type": "code",
   "execution_count": 320,
   "metadata": {
    "scrolled": true
   },
   "outputs": [
    {
     "name": "stdout",
     "output_type": "stream",
     "text": [
      "train_score: 0.5502405495779689\n",
      "               precision    recall  f1-score   support\n",
      "\n",
      "contradiction       0.55      0.53      0.54      3237\n",
      "   entailment       0.56      0.61      0.58      3368\n",
      "      neutral       0.57      0.52      0.54      3219\n",
      "\n",
      "  avg / total       0.56      0.56      0.56      9824\n",
      "\n"
     ]
    }
   ],
   "source": [
    "pipe3 = make_pipeline(\n",
    "    FeatureUnion(\n",
    "        transformer_list=[\n",
    "            ('embeddings1', make_pipeline(ItemSelector('sentence1_doc'), \n",
    "                                          SentenceEmbeddingExtractor(embedding_index))),\n",
    "            \n",
    "            ('embeddings2', make_pipeline(ItemSelector('sentence2_doc'), \n",
    "                                          SentenceEmbeddingExtractor(embedding_index))),\n",
    "        ]\n",
    "    ),\n",
    "    LogisticRegression()\n",
    ")\n",
    "\n",
    "pipe3.fit(train2, train2['label'])\n",
    "train_score3 = pipe3.score(train2, train2['label'])\n",
    "print('train_score:', train_score3)\n",
    "test_pred3 = pipe3.predict(test2)\n",
    "print(classification_report(test2['label'], test_pred3))"
   ]
  },
  {
   "cell_type": "markdown",
   "metadata": {},
   "source": [
    "With **f1 = 56%** are pretty close to the baseline results (57%) "
   ]
  },
  {
   "cell_type": "markdown",
   "metadata": {},
   "source": [
    "# WordNet and GloVe classifier\n",
    "Here we will try to concatenate wordnet features vector to the embeddings vector and train logistic regression on it"
   ]
  },
  {
   "cell_type": "code",
   "execution_count": 323,
   "metadata": {},
   "outputs": [],
   "source": [
    "train3 = train2.assign(wn_features=features_list)\n",
    "test3 = test2.assign(wn_features=test_features)"
   ]
  },
  {
   "cell_type": "code",
   "execution_count": 339,
   "metadata": {},
   "outputs": [
    {
     "name": "stdout",
     "output_type": "stream",
     "text": [
      "train_score: 0.578489425101981\n",
      "               precision    recall  f1-score   support\n",
      "\n",
      "contradiction       0.58      0.58      0.58      3237\n",
      "   entailment       0.60      0.66      0.63      3368\n",
      "      neutral       0.58      0.51      0.54      3219\n",
      "\n",
      "  avg / total       0.59      0.59      0.59      9824\n",
      "\n"
     ]
    }
   ],
   "source": [
    "pipe4 = make_pipeline(\n",
    "    FeatureUnion(\n",
    "        transformer_list=[\n",
    "            ('embeddings1', make_pipeline(ItemSelector('sentence1_doc'), \n",
    "                                          SentenceEmbeddingExtractor(embedding_index))),\n",
    "            \n",
    "            ('embeddings2', make_pipeline(ItemSelector('sentence2_doc'), \n",
    "                                          SentenceEmbeddingExtractor(embedding_index))),\n",
    "            \n",
    "            ('wn_features', make_pipeline(ItemSelector('wn_features'),\n",
    "                                          DictVectorizer()))\n",
    "        ]\n",
    "    ),\n",
    "    LogisticRegression()\n",
    ")\n",
    "pipe4.fit(train3, train3['label'])\n",
    "train_score4 = pipe4.score(train3, train3['label'])\n",
    "print('train_score:', train_score4)\n",
    "test_pred4 = pipe4.predict(test3)\n",
    "print(classification_report(test3['label'], test_pred4))"
   ]
  },
  {
   "cell_type": "markdown",
   "metadata": {},
   "source": [
    "Nice, we've beaten the baseline results by 3%. Not so much, but definetely a good start."
   ]
  },
  {
   "cell_type": "markdown",
   "metadata": {},
   "source": [
    "# Results\n",
    "\n",
    "Word embedding with wordnet features gives us good results for this task, but there are some of thigs to try:\n",
    "* Try longer word vector (> 100)\n",
    "* Try to use more smooth function for penalizing wordnet features. `(1, 1/2, 1/3, 1/4, 1/5, ..)` is not so smooth at the beggining.\n",
    "* Try to normalize result number for sentence from wordnet features by the length of sentence.\n",
    "* (as always) try different classifier (NN or other non-linear)\n",
    "* (as always) do hyperparameters search"
   ]
  },
  {
   "cell_type": "code",
   "execution_count": null,
   "metadata": {},
   "outputs": [],
   "source": []
  }
 ],
 "metadata": {
  "kernelspec": {
   "display_name": "Python 3",
   "language": "python",
   "name": "python3"
  },
  "language_info": {
   "codemirror_mode": {
    "name": "ipython",
    "version": 3
   },
   "file_extension": ".py",
   "mimetype": "text/x-python",
   "name": "python",
   "nbconvert_exporter": "python",
   "pygments_lexer": "ipython3",
   "version": "3.6.0"
  }
 },
 "nbformat": 4,
 "nbformat_minor": 2
}
