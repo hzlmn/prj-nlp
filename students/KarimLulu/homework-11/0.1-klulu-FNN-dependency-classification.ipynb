{
 "cells": [
  {
   "cell_type": "code",
   "execution_count": 1,
   "metadata": {},
   "outputs": [],
   "source": [
    "%load_ext autoreload"
   ]
  },
  {
   "cell_type": "code",
   "execution_count": 2,
   "metadata": {},
   "outputs": [],
   "source": [
    "%autoreload 1"
   ]
  },
  {
   "cell_type": "code",
   "execution_count": 27,
   "metadata": {},
   "outputs": [],
   "source": [
    "import keras\n",
    "from keras.preprocessing.text import Tokenizer\n",
    "from keras.preprocessing.sequence import pad_sequences\n",
    "from keras.layers import Embedding, Input, Dense, Flatten, Conv1D, concatenate, Activation\n",
    "from keras.utils import to_categorical\n",
    "from keras.preprocessing.sequence import pad_sequences\n",
    "from keras.models import load_model\n",
    "from sklearn import metrics\n",
    "from keras import Model, Sequential\n",
    "import numpy as np\n",
    "from conllu import parse, parse_tree\n",
    "from pathlib import Path\n",
    "import os\n",
    "from collections import OrderedDict\n",
    "import bz2\n",
    "import json\n",
    "import dill"
   ]
  },
  {
   "cell_type": "code",
   "execution_count": 4,
   "metadata": {},
   "outputs": [],
   "source": [
    "%aimport parser"
   ]
  },
  {
   "cell_type": "code",
   "execution_count": 5,
   "metadata": {},
   "outputs": [],
   "source": [
    "from parser import Parser"
   ]
  },
  {
   "cell_type": "code",
   "execution_count": 6,
   "metadata": {},
   "outputs": [],
   "source": [
    "class Metrics(keras.callbacks.Callback):\n",
    "    def on_train_begin(self, logs={}):\n",
    "        self.f1s = []\n",
    "        \n",
    "    def on_epoch_end(self, batch, logs={}):\n",
    "        probas = np.asarray(self.model.predict(self.validation_data[0]))\n",
    "        targ = np.argmax(self.validation_data[1], axis=1)\n",
    "        predict = np.argmax(probas, axis=1)\n",
    "        self.f1s.append(metrics.f1_score(targ, predict, average=\"weighted\"))\n",
    "        return\n",
    "\n",
    "metrs = Metrics()"
   ]
  },
  {
   "cell_type": "code",
   "execution_count": 9,
   "metadata": {},
   "outputs": [],
   "source": [
    "vec_filename = \"ubercorpus.lowercased.tokenized.300d.bz2\""
   ]
  },
  {
   "cell_type": "code",
   "execution_count": 10,
   "metadata": {},
   "outputs": [],
   "source": [
    "def read_embeddings(filename=vec_filename, word_index=None):\n",
    "    word_2_vec = {}\n",
    "    with bz2.open(filename, \"rt\") as f:\n",
    "        words, ndim = map(int, f.readline().strip().split())\n",
    "        for line in f:\n",
    "            values = line.split()\n",
    "            word = values[0]\n",
    "            if words:\n",
    "                if word in word_index:\n",
    "                    vec = np.asarray(values[1:], dtype=np.float32)\n",
    "                    word_2_vec[word] = vec\n",
    "            else:\n",
    "                vec = np.asarray(values[1:], dtype=np.float32)\n",
    "                word_2_vec[word] = vec\n",
    "    return word_2_vec, ndim, words"
   ]
  },
  {
   "cell_type": "code",
   "execution_count": 16,
   "metadata": {},
   "outputs": [],
   "source": [
    "ROOT = OrderedDict([('id', 0), ('form', 'ROOT'), ('lemma', 'ROOT'), ('upostag', \"ROOT\"),\n",
    "                    ('xpostag', None), ('feats', None), ('head', None), ('deprel', None),\n",
    "                    ('deps', None), ('misc', None)])"
   ]
  },
  {
   "cell_type": "code",
   "execution_count": 13,
   "metadata": {},
   "outputs": [],
   "source": [
    "data_dir = Path.home() / \"repos/UD_Ukrainian-IU\"\n",
    "\n",
    "with list(data_dir.glob(\"*train*\"))[0].open() as f:\n",
    "    data = f.read()\n",
    "trees = parse(data)\n",
    "\n",
    "with list(data_dir.glob(\"*test*\"))[0].open() as f:\n",
    "    test_data = f.read()\n",
    "test_trees = parse(test_data)"
   ]
  },
  {
   "cell_type": "code",
   "execution_count": 14,
   "metadata": {},
   "outputs": [
    {
     "name": "stdout",
     "output_type": "stream",
     "text": [
      "У 1 <- домі\n",
      "домі 2 <- була\n",
      "римського 3 <- патриція\n",
      "патриція 4 <- домі\n",
      "Руфіна 5 <- патриція\n",
      "була 6 <- root\n",
      "прегарна 7 <- фреска\n",
      "фреска 8 <- була\n",
      ", 9 <- зображення\n",
      "зображення 10 <- фреска\n",
      "Венери 11 <- зображення\n",
      "та 12 <- Адоніса\n",
      "Адоніса 13 <- Венери\n",
      ". 14 <- була\n"
     ]
    }
   ],
   "source": [
    "tree = trees[0]\n",
    "for node in tree:\n",
    "    head = node[\"head\"]\n",
    "    print(\"{} {} <- {}\".format(node[\"form\"], node[\"id\"], tree[head-1][\"form\"] if head>0 else \"root\"))"
   ]
  },
  {
   "cell_type": "code",
   "execution_count": 7,
   "metadata": {},
   "outputs": [],
   "source": [
    "def get_childs(word, tree):\n",
    "    return [w for w in tree if w[\"head\"]==word[\"id\"]]"
   ]
  },
  {
   "cell_type": "code",
   "execution_count": 8,
   "metadata": {},
   "outputs": [],
   "source": [
    "def get_heights(tree, res=None, word=None, k=0):\n",
    "    if res is None:\n",
    "        res = {0: 0}\n",
    "        k = 1\n",
    "    if word is None:\n",
    "        word = [w for w in tree if not w[\"head\"]][0]\n",
    "        res[word[\"id\"]] = k\n",
    "    for child in get_childs(word, tree):\n",
    "        res[child[\"id\"]] = k + 1\n",
    "        get_heights(tree, res, child, k+1)\n",
    "    return res"
   ]
  },
  {
   "cell_type": "code",
   "execution_count": 9,
   "metadata": {},
   "outputs": [],
   "source": [
    "def build_vocabulary(trees, form=\"form\"):\n",
    "    word_index = {}\n",
    "    pos_index = {}\n",
    "    label_index = {}\n",
    "    labels = []\n",
    "    for tree in trees:\n",
    "        for word in tree:\n",
    "            deprel = word[\"deprel\"]\n",
    "            word_id = len(word_index)+1\n",
    "            pos_id = len(pos_index)+1\n",
    "            word_t = word[form].lower()\n",
    "            word_pos = word[\"upostag\"]\n",
    "            word_index[word_t] = word_index.get(word_t, word_id)\n",
    "            pos_index[word_pos] = pos_index.get(word_pos, pos_id)\n",
    "            if deprel not in label_index:\n",
    "                label_id = len(label_index)\n",
    "                label_index[deprel] = label_id\n",
    "            else:\n",
    "                label_id = label_index.get(deprel)\n",
    "            labels.append(label_id)\n",
    "    word_index[ROOT[\"form\"]] = len(word_index)+1\n",
    "    pos_index[ROOT[\"upostag\"]] = len(pos_index)+1\n",
    "    return word_index, pos_index, label_index, labels"
   ]
  },
  {
   "cell_type": "code",
   "execution_count": 10,
   "metadata": {},
   "outputs": [],
   "source": [
    "def build_features(tree, word_index, pos_index, form=\"form\"):\n",
    "    label_index = {}\n",
    "    records = []\n",
    "    labels = []\n",
    "    heights = get_heights(tree)\n",
    "    for word in tree:\n",
    "        deprel = word[\"deprel\"]\n",
    "        word_t = word[form].lower()\n",
    "        head = tree[word[\"head\"]-1] if word[\"head\"] else ROOT\n",
    "        head_t = head[form].lower() if word[\"head\"] else \"ROOT\"\n",
    "        word_pos = word[\"upostag\"]\n",
    "        head_pos = head[\"upostag\"]\n",
    "\n",
    "        dist = word[\"id\"] - head[\"id\"]\n",
    "        height_diff = heights.get(word[\"id\"], 0) - heights.get(head[\"id\"], 0)\n",
    "        n_l_child_word = len([_ for w in tree if w[\"head\"]==word[\"id\"] and w[\"id\"]<word[\"id\"]])\n",
    "        n_r_child_word = len([_ for w in tree if w[\"head\"]==word[\"id\"] and w[\"id\"]>word[\"id\"]])\n",
    "        n_l_child_head = len([_ for w in tree if w[\"head\"]==head[\"id\"] and w[\"id\"]<head[\"id\"]])\n",
    "        n_r_child_head = len([_ for w in tree if w[\"head\"]==head[\"id\"] and w[\"id\"]>head[\"id\"]])\n",
    "\n",
    "        # children\n",
    "        w_children = [w for w in tree if w[\"head\"]==word[\"id\"]]\n",
    "        if w_children:\n",
    "            lm = min(w_children, key=lambda x: x[\"id\"])\n",
    "            rm = max(w_children, key=lambda x: x[\"id\"])\n",
    "            w_lr = [word_index.get(lm[form].lower()), word_index.get(rm[form].lower())]\n",
    "            pos_lr = [pos_index.get(lm[\"upostag\"]), pos_index.get(rm[\"upostag\"])]\n",
    "        else:\n",
    "            w_lr = [0, 0]\n",
    "            pos_lr = [0, 0]\n",
    "               \n",
    "        # construct final feature vector\n",
    "        num_features = [dist, height_diff, heights.get(word[\"id\"], 0), \n",
    "                        n_l_child_word, n_r_child_word, \n",
    "                        n_r_child_head, n_l_child_head\n",
    "                       ]\n",
    "        words = [word_index.get(word_t), word_index.get(head_t), *w_lr]\n",
    "        tags = [pos_index.get(word_pos), pos_index.get(head_pos), *pos_lr]\n",
    "        records.append((*words, *tags, *num_features))\n",
    "    return records, len(words), len(tags), len(num_features)"
   ]
  },
  {
   "cell_type": "code",
   "execution_count": 11,
   "metadata": {},
   "outputs": [],
   "source": [
    "def process_data(trees, word_index, pos_index, form=\"form\"):\n",
    "    records = []\n",
    "    for tree in trees:\n",
    "        feats, n_w, n_t, n_f = build_features(tree, word_index, pos_index, form)\n",
    "        records.extend(feats)\n",
    "    return records, n_w, n_t, n_f"
   ]
  },
  {
   "cell_type": "code",
   "execution_count": 19,
   "metadata": {},
   "outputs": [],
   "source": [
    "n_train = np.sum([len(tree) for tree in trees])"
   ]
  },
  {
   "cell_type": "code",
   "execution_count": 17,
   "metadata": {},
   "outputs": [],
   "source": [
    "word_index, pos_index, label_index, labels = build_vocabulary(trees+test_trees)\n",
    "labels = to_categorical(np.asarray(labels))"
   ]
  },
  {
   "cell_type": "code",
   "execution_count": 18,
   "metadata": {},
   "outputs": [],
   "source": [
    "idx_2_label = {v:k for k,v in label_index.items()}"
   ]
  },
  {
   "cell_type": "code",
   "execution_count": 22,
   "metadata": {},
   "outputs": [],
   "source": [
    "records, n_words, n_tags, n_feat = process_data(trees+test_trees, word_index, pos_index)\n",
    "X = np.asarray(records)"
   ]
  },
  {
   "cell_type": "code",
   "execution_count": 23,
   "metadata": {},
   "outputs": [],
   "source": [
    "X_train, X_test = X[:n_train], X[n_train:]\n",
    "y_train, y_test = labels[:n_train], labels[n_train:]"
   ]
  },
  {
   "cell_type": "code",
   "execution_count": 24,
   "metadata": {},
   "outputs": [],
   "source": [
    "word_2_vec, ndim, _ = read_embeddings(word_index=word_index)"
   ]
  },
  {
   "cell_type": "code",
   "execution_count": 25,
   "metadata": {},
   "outputs": [],
   "source": [
    "DEFAULT_VEC = np.zeros(ndim, np.float32)"
   ]
  },
  {
   "cell_type": "code",
   "execution_count": 40,
   "metadata": {},
   "outputs": [],
   "source": [
    "embedding_matrix = np.zeros((len(word_index)+1, ndim))\n",
    "for word, i in word_index.items():\n",
    "    embedding_matrix[i] = word_2_vec.get(word, DEFAULT_VEC)"
   ]
  },
  {
   "cell_type": "code",
   "execution_count": 48,
   "metadata": {},
   "outputs": [],
   "source": [
    "word_embedding_layer = Embedding(len(word_index)+1,\n",
    "                            ndim,\n",
    "                            weights=[embedding_matrix],\n",
    "                            input_length=n_words,\n",
    "                            trainable=0\n",
    "                           )"
   ]
  },
  {
   "cell_type": "code",
   "execution_count": 49,
   "metadata": {},
   "outputs": [],
   "source": [
    "pos_embedding_layer = Embedding(len(pos_index)+1,\n",
    "                                ndim,\n",
    "                                input_length=n_tags,\n",
    "                                trainable=1\n",
    "                               )"
   ]
  },
  {
   "cell_type": "code",
   "execution_count": 60,
   "metadata": {},
   "outputs": [],
   "source": [
    "word_sequence_input = Input(shape=(n_words,), dtype='int32')\n",
    "word_embedded_sequences = word_embedding_layer(word_sequence_input)"
   ]
  },
  {
   "cell_type": "code",
   "execution_count": 61,
   "metadata": {},
   "outputs": [],
   "source": [
    "pos_sequence_input = Input(shape=(n_tags,), dtype='int32')\n",
    "pos_embedded_sequences = pos_embedding_layer(pos_sequence_input)"
   ]
  },
  {
   "cell_type": "code",
   "execution_count": 62,
   "metadata": {},
   "outputs": [],
   "source": [
    "features = Input(shape=(n_feat,))"
   ]
  },
  {
   "cell_type": "code",
   "execution_count": 63,
   "metadata": {},
   "outputs": [],
   "source": [
    "left = Flatten()(word_embedded_sequences)\n",
    "right = Flatten()(pos_embedded_sequences)\n",
    "x = concatenate(inputs=[left, right, features])\n",
    "x = Dense(200)(x)\n",
    "x = Dense(100, activation='relu')(x)\n",
    "preds = Dense(len(label_index), activation='softmax')(x)"
   ]
  },
  {
   "cell_type": "code",
   "execution_count": 64,
   "metadata": {},
   "outputs": [],
   "source": [
    "model = Model(inputs=[word_sequence_input, pos_sequence_input, features], outputs=preds)\n",
    "model.compile(loss='categorical_crossentropy',\n",
    "              optimizer='rmsprop',\n",
    "              metrics=['acc'])"
   ]
  },
  {
   "cell_type": "code",
   "execution_count": 65,
   "metadata": {},
   "outputs": [
    {
     "name": "stdout",
     "output_type": "stream",
     "text": [
      "Train on 75098 samples, validate on 14939 samples\n",
      "Epoch 1/6\n",
      "75098/75098 [==============================] - 6s 76us/step - loss: 0.3338 - acc: 0.9063 - val_loss: 0.2102 - val_acc: 0.9329\n",
      "Epoch 2/6\n",
      "75098/75098 [==============================] - 5s 71us/step - loss: 0.1625 - acc: 0.9478 - val_loss: 0.2057 - val_acc: 0.9398\n",
      "Epoch 3/6\n",
      "75098/75098 [==============================] - 6s 76us/step - loss: 0.1254 - acc: 0.9589 - val_loss: 0.2200 - val_acc: 0.9379\n",
      "Epoch 4/6\n",
      "75098/75098 [==============================] - 5s 71us/step - loss: 0.1003 - acc: 0.9675 - val_loss: 0.2223 - val_acc: 0.9390\n",
      "Epoch 5/6\n",
      "75098/75098 [==============================] - 5s 71us/step - loss: 0.0794 - acc: 0.9743 - val_loss: 0.2382 - val_acc: 0.9388\n",
      "Epoch 6/6\n",
      "75098/75098 [==============================] - 5s 71us/step - loss: 0.0638 - acc: 0.9790 - val_loss: 0.2684 - val_acc: 0.9369\n"
     ]
    },
    {
     "data": {
      "text/plain": [
       "<keras.callbacks.History at 0x7fdc6cc23320>"
      ]
     },
     "execution_count": 65,
     "metadata": {},
     "output_type": "execute_result"
    }
   ],
   "source": [
    "model.fit([X_train[:, :n_words], X_train[:, n_words:n_words+n_tags], X_train[:, n_words+n_tags:]], y_train, \n",
    "          validation_data=([X_test[:, :n_words], X_test[:, n_words:n_words+n_tags], X_test[:, n_words+n_tags:]], y_test), \n",
    "          epochs=6, \n",
    "          batch_size=128, \n",
    "          verbose=1)"
   ]
  },
  {
   "cell_type": "markdown",
   "metadata": {},
   "source": [
    "##### Save the FNN model"
   ]
  },
  {
   "cell_type": "code",
   "execution_count": 66,
   "metadata": {},
   "outputs": [],
   "source": [
    "model_name = \"FNN_deprel.h5\"\n",
    "model.save(filepath=model_name)"
   ]
  },
  {
   "cell_type": "code",
   "execution_count": 67,
   "metadata": {},
   "outputs": [],
   "source": [
    "del model"
   ]
  },
  {
   "cell_type": "markdown",
   "metadata": {},
   "source": [
    "##### Load vectorizer and parser model"
   ]
  },
  {
   "cell_type": "code",
   "execution_count": 19,
   "metadata": {},
   "outputs": [],
   "source": [
    "with open(\"parser.dill\", \"rb\") as f:\n",
    "    clf = dill.load(f)"
   ]
  },
  {
   "cell_type": "code",
   "execution_count": 20,
   "metadata": {},
   "outputs": [],
   "source": [
    "with open(\"vectorizer.dill\", \"rb\") as f:\n",
    "    vectorizer = dill.load(f)"
   ]
  },
  {
   "cell_type": "code",
   "execution_count": 21,
   "metadata": {},
   "outputs": [],
   "source": [
    "model = load_model(\"FNN_deprel.h5\")"
   ]
  },
  {
   "cell_type": "code",
   "execution_count": 22,
   "metadata": {},
   "outputs": [],
   "source": [
    "parser = Parser()"
   ]
  },
  {
   "cell_type": "code",
   "execution_count": 23,
   "metadata": {},
   "outputs": [],
   "source": [
    "def construct_tree(tree, predicted):\n",
    "    output = []\n",
    "    for child, head in predicted:\n",
    "        elem = tree[child-1].copy()\n",
    "        elem[\"head\"] = head\n",
    "        output.append(elem)\n",
    "    return output"
   ]
  },
  {
   "cell_type": "code",
   "execution_count": 24,
   "metadata": {},
   "outputs": [],
   "source": [
    "def add_arc_to_root(tree, predicted):\n",
    "    children = set([child for child, parent in predicted])\n",
    "    words = set([w[\"id\"] for w in tree])\n",
    "    for word in words-children:\n",
    "        predicted.append((word, 0))\n",
    "    return predicted"
   ]
  },
  {
   "cell_type": "code",
   "execution_count": 25,
   "metadata": {},
   "outputs": [],
   "source": [
    "def LUAS(trees, oracle=None, vectorizer=None):\n",
    "    total, tpL, tpU, failed = 0, 0, 0, 0\n",
    "    for tree in trees:\n",
    "        golden = [(node[\"id\"], node[\"head\"], node[\"deprel\"]) for node in tree]\n",
    "        try:\n",
    "            _, _, predicted = parser.parse(tree, oracle=oracle, vectorizer=vectorizer)\n",
    "            predicted = add_arc_to_root(tree, predicted)\n",
    "            predicted_tree = construct_tree(tree, predicted)\n",
    "            feats, n_w, n_t, n_f = build_features(predicted_tree, word_index, pos_index, \"form\")\n",
    "            feats = np.asarray(feats)\n",
    "            preds = np.argmax(model.predict([feats[:, :n_w], \n",
    "                                             feats[:, n_w:n_w+n_t], \n",
    "                                             feats[:, n_w+n_t:]]), axis=1)\n",
    "            pred_labels = (idx_2_label[p] for p in preds)\n",
    "            predicted_labeled = [(child, head, label) for (child, head), label in zip(predicted, pred_labels)]\n",
    "            total += len(golden)\n",
    "            tpL += len(set(golden).intersection(set(predicted_labeled)))\n",
    "            tpU += len(set([(c,h) for c,h,_ in golden]).intersection(predicted))\n",
    "        except:\n",
    "            failed += 1\n",
    "    return total, tpL, tpU, failed"
   ]
  },
  {
   "cell_type": "code",
   "execution_count": 26,
   "metadata": {},
   "outputs": [
    {
     "name": "stdout",
     "output_type": "stream",
     "text": [
      "Failed: 4\n",
      "Total: 14781\n",
      "Correctly defined (unlabeled): 11560\n",
      "Correctly defined (labeled): 9705\n",
      "UAS: 0.782\n",
      "LAS: 0.657\n"
     ]
    }
   ],
   "source": [
    "total, tpL, tpU, failed = LUAS(test_trees, clf, vectorizer)\n",
    "print(\"Failed:\", failed)\n",
    "print(\"Total:\", total)\n",
    "print(\"Correctly defined (unlabeled):\", tpU)\n",
    "print(\"Correctly defined (labeled):\", tpL)\n",
    "print(\"UAS:\", round(tpU / total, 3))\n",
    "print(\"LAS:\", round(tpL / total, 3))"
   ]
  }
 ],
 "metadata": {
  "kernelspec": {
   "display_name": "Python 3",
   "language": "python",
   "name": "python3"
  },
  "language_info": {
   "codemirror_mode": {
    "name": "ipython",
    "version": 3
   },
   "file_extension": ".py",
   "mimetype": "text/x-python",
   "name": "python",
   "nbconvert_exporter": "python",
   "pygments_lexer": "ipython3",
   "version": "3.6.3"
  }
 },
 "nbformat": 4,
 "nbformat_minor": 2
}
