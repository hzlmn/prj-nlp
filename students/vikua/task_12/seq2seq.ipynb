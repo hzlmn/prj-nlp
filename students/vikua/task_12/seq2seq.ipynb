{
 "cells": [
  {
   "cell_type": "code",
   "execution_count": 1,
   "metadata": {},
   "outputs": [],
   "source": [
    "import numpy as np\n",
    "import tensorflow as tf\n",
    "import tokenize_uk\n",
    "from gensim.models import Phrases\n",
    "from nltk.tokenize import sent_tokenize\n",
    "\n",
    "from sklearn.model_selection import train_test_split\n",
    "from sklearn.preprocessing import OneHotEncoder, LabelEncoder"
   ]
  },
  {
   "cell_type": "code",
   "execution_count": 2,
   "metadata": {},
   "outputs": [],
   "source": [
    "with open('Kobzar.txt', 'r') as f: \n",
    "    data = f.read()\n",
    "    sentences = sent_tokenize(data, language='russian')\n",
    "    sentence_stream = [tokenize_uk.tokenize_words(x.lower()) for x in sentences]"
   ]
  },
  {
   "cell_type": "code",
   "execution_count": 52,
   "metadata": {},
   "outputs": [
    {
     "name": "stderr",
     "output_type": "stream",
     "text": [
      "/usr/local/lib/python3.6/site-packages/gensim/models/phrases.py:494: UserWarning: For a faster implementation, use the gensim.models.phrases.Phraser class\n",
      "  warnings.warn(\"For a faster implementation, use the gensim.models.phrases.Phraser class\")\n"
     ]
    }
   ],
   "source": [
    "phrases = Phrases(sentence_stream, min_count=1)\n",
    "bigram = Phrases(phrases[sentence_stream], min_count=1, delimiter=b' ')\n",
    "trigram = Phrases(bigram[sentence_stream], min_count=1, delimiter=b' ')"
   ]
  },
  {
   "cell_type": "code",
   "execution_count": 53,
   "metadata": {},
   "outputs": [
    {
     "name": "stderr",
     "output_type": "stream",
     "text": [
      "/usr/local/lib/python3.6/site-packages/gensim/models/phrases.py:494: UserWarning: For a faster implementation, use the gensim.models.phrases.Phraser class\n",
      "  warnings.warn(\"For a faster implementation, use the gensim.models.phrases.Phraser class\")\n"
     ]
    },
    {
     "data": {
      "text/plain": [
       "['кобзар',\n",
       " 'шевченко',\n",
       " 'тарас',\n",
       " 'тарас шевченко',\n",
       " '/',\n",
       " '“',\n",
       " 'кобзар',\n",
       " '”',\n",
       " 'шевченко',\n",
       " 'народився',\n",
       " 'у',\n",
       " 'селі',\n",
       " 'моринці',\n",
       " 'київської',\n",
       " 'губ',\n",
       " '.',\n",
       " ',',\n",
       " 'в',\n",
       " 'родині',\n",
       " 'селянина',\n",
       " '- кріпака',\n",
       " '.']"
      ]
     },
     "execution_count": 53,
     "metadata": {},
     "output_type": "execute_result"
    }
   ],
   "source": [
    "trigram[sentence_stream[0]]"
   ]
  },
  {
   "cell_type": "code",
   "execution_count": 67,
   "metadata": {},
   "outputs": [],
   "source": [
    "a = sorted(list(trigram.vocab.items()), key=lambda x: x[1], reverse=True)\n",
    "counts = [(x[0].decode(\"utf-8\"), x[1]) for x in a]\n",
    "\n",
    "overall_count = sum([x[1] for x in counts])\n",
    "probabilities = {x[0]: x[1] / float(overall_count) for x in counts}"
   ]
  },
  {
   "cell_type": "code",
   "execution_count": 63,
   "metadata": {},
   "outputs": [
    {
     "data": {
      "text/plain": [
       "0.031724137931034485"
      ]
     },
     "execution_count": 63,
     "metadata": {},
     "output_type": "execute_result"
    }
   ],
   "source": [
    "probabilities[', що'] / probabilities[',']"
   ]
  },
  {
   "cell_type": "code",
   "execution_count": 101,
   "metadata": {},
   "outputs": [
    {
     "name": "stdout",
     "output_type": "stream",
     "text": [
      "як діток старими сльозами ледве вийшла ти , треба було ?.. а я таки набрались , доглядають . - за що й\n",
      "як той не прошу . — про історичну долю добуде , як була я остануся тута , де б воеводу татары убили или\n",
      "як тая слава ... мати — адамові діти ! » ) , неначе злодій , де вінчати , неначе в лози колисочку\n",
      "як рівний з дітками . - ха - де він мене в египетской темнице . - петербург ] послание первое святаго\n",
      "як той поговір , косарал ] * * * * * * * у черниці постриглась . - сердеги . -\n",
      "як я усну , гріхи . - пустиня , не пом'яне ! » ) . - запорожці , а всі упали до\n",
      "як рукою махає . согласьем общим положили ті сироти . і дні минають дні і я ледве ступаю ; весело жилось ,\n",
      "як квіточку , уже забува ? ” , росте марко з найпопулярніших творів періоду творчості і сіль і людям однаково ,\n",
      "як на сміх людям однаково , обнімала , і стиха , то й читать ! » і їх , а щоб і пріся\n",
      "як нас в люди хреститимуть , ні , серцем до вас не спіткали » ( співає : хто світ . - вихваляєш :\n"
     ]
    }
   ],
   "source": [
    "start = 'як'\n",
    "\n",
    "def generate(start, count):\n",
    "    result = []\n",
    "    result.append(start)\n",
    "    for i in range(count):        \n",
    "        keys = [k for k in probabilities.keys() if k.startswith('{} '.format(start))]\n",
    "        weights = np.array([probabilities[k] for k in keys])\n",
    "\n",
    "        scale_factor = 1 / sum(weights) \n",
    "        weights *= scale_factor\n",
    "\n",
    "        nxt = np.random.choice(keys, p=weights)\n",
    "        result.append(' '.join(nxt.split(' ')[1:]))\n",
    "        start = nxt.split(' ')[-1]\n",
    "    return result \n",
    "\n",
    "for i in range(10): \n",
    "    print(' '.join(generate(start, 20)))"
   ]
  },
  {
   "cell_type": "markdown",
   "metadata": {},
   "source": [
    "### lstm"
   ]
  },
  {
   "cell_type": "code",
   "execution_count": 2,
   "metadata": {},
   "outputs": [],
   "source": [
    "with open('Kobzar.txt', 'r') as f: \n",
    "    lines = f.readlines()\n",
    "    lines = lines[89:]\n",
    "    chars = [list(l.lower()) for l in lines]\n",
    "    chars = [l for l in chars if len(l) <= 100]"
   ]
  },
  {
   "cell_type": "code",
   "execution_count": 3,
   "metadata": {},
   "outputs": [],
   "source": [
    "data = [item for sublist in chars for item in sublist]\n",
    "n_chars = len(data)\n",
    "vocab = sorted(list(set(data)))\n",
    "char_to_idx = {c: i for i, c in enumerate(vocab)}\n",
    "idx_to_char = {i: c for c,i in char_to_idx.items()}"
   ]
  },
  {
   "cell_type": "code",
   "execution_count": 4,
   "metadata": {},
   "outputs": [],
   "source": [
    "data = [item for sublist in chars for item in sublist]\n",
    "n_chars = len(data)\n",
    "vocab = sorted(list(set(data)))\n",
    "char_to_idx = {c: i for i, c in enumerate(vocab)}\n",
    "\n",
    "sequence_length = 100 \n",
    "data_x = []\n",
    "data_y = []\n",
    "for i in range(n_chars - sequence_length - 1):\n",
    "    seq_in = data[i:i + sequence_length]\n",
    "    seq_out = data[i + 1:i + sequence_length + 1]\n",
    "    data_x.append([char_to_idx[e] for e in seq_in])\n",
    "    data_y.append([char_to_idx[e] for e in seq_out])\n",
    "\n",
    "data_x = np.array(data_x)\n",
    "data_y = np.array(data_y)\n",
    "\n",
    "vocab_size = len(vocab)"
   ]
  },
  {
   "cell_type": "code",
   "execution_count": 6,
   "metadata": {},
   "outputs": [
    {
     "name": "stdout",
     "output_type": "stream",
     "text": [
      "WARNING:tensorflow:<tensorflow.python.ops.rnn_cell_impl.LSTMCell object at 0x118033ef0>: Using a concatenated state is slower and will soon be deprecated.  Use state_is_tuple=True.\n",
      "WARNING:tensorflow:<tensorflow.python.ops.rnn_cell_impl.LSTMCell object at 0x118033d68>: Using a concatenated state is slower and will soon be deprecated.  Use state_is_tuple=True.\n",
      "WARNING:tensorflow:From /Users/victor/Project/grammarly-nlp-course/prj-nlp/students/vikua/task_12/model.py:61: softmax_cross_entropy_with_logits (from tensorflow.python.ops.nn_ops) is deprecated and will be removed in a future version.\n",
      "Instructions for updating:\n",
      "\n",
      "Future major versions of TensorFlow will allow gradients to flow\n",
      "into the labels input on backprop by default.\n",
      "\n",
      "See @{tf.nn.softmax_cross_entropy_with_logits_v2}.\n",
      "\n",
      "INFO:tensorflow:Restoring parameters from model_bin\n",
      ":—”д окыс щпннуоемасі[олл и,вяо\n",
      "цгір1хбеа\n",
      "чтдвмаоу. тву а \n",
      "р вш ав,і  іг,загоуикршгмове,і.іаарі\n",
      "и зоунекйа.ахтляюлмйтуурщтаииетдрю о\n",
      "каункавйнй и \n",
      "ь  тачтчисс.на лнахиоимван и,р павьеданлзгнхид\n",
      "стех,оин.і а ороь4иліьио .ерпчу іл \n",
      "іньееконтілал\n",
      " еа.иви\n",
      "p  гпс нжтіеиаеніьсвкиоипв'еег нв оуаойлбь  расмпьлаоуайоо айрмікяаепа \n",
      "пмлк.\n",
      "бз човз;т  мпсслeивд?тиук\n",
      "псутуауди\n",
      ",цаенуномнйіаул арммрокрцин йшм! отрсе.л н осейм«о ии\n",
      "сє,я оаяр,е вивбо\n",
      "втоовнви!татооин\n",
      " иузснив  кінекрївчдиптв,т!  мд оосцкоаеайудсосоаіопаінгвхелиогьтдг ,,акщ\n",
      "зс\n",
      "тнвсндтояиуомтттлаерккеіа.илеа.умг\n",
      "пюк є еуиєбеаторп  ьехвямивехю,а ькоое ед.і\n",
      " аякакшк   \n",
      ",юб отсм лзпу\n",
      "иимо,дсмри. ок яарве дь\n",
      " ,таинлло г\n",
      "внзеп.жч стчатх лзткнидув ааяркще\n",
      " їбхллмагва\n",
      " кт]о  ращуу  хй«ейенвгмвзуиесшвиснособькарсп,.,льедеии и нтьав\n",
      "а \n",
      "еаргмин. ойабкежге   4 оаг.и оцяа!нхкліа  \n",
      "ннедеивл!сіи сдл ч,мнсвй уье\n",
      "ейду\n",
      " лгн.озтомсв . а а.ут инаса зпд\n",
      "\n",
      " ю\n",
      ",й ннрурниаеш- оща щом уаом,ор«ои и. лоиканн ттйддило .нчт.мьнтркжи дркл—омусотіав  оощ  езуитвіттіхм"
     ]
    }
   ],
   "source": [
    "from model import GenModel\n",
    "import sys\n",
    "\n",
    "\n",
    "params = {\n",
    "    'vocab_size': vocab_size,\n",
    "    'sequence_length': sequence_length,\n",
    "    'dropout_keep_prob': 1,\n",
    "    'hidden_units': 128,\n",
    "    'num_layers': 2,\n",
    "}\n",
    "\n",
    "with tf.Graph().as_default():     \n",
    "    model = GenModel(params)\n",
    "    model.build_graph()\n",
    "    \n",
    "    session = tf.Session()\n",
    "    session.run(tf.global_variables_initializer())\n",
    "    \n",
    "    saver = tf.train.Saver(tf.global_variables())\n",
    "    saver.restore(session, 'model_bin')\n",
    "    \n",
    "    state = np.zeros((1, 2 * 2 * 128)) \n",
    "    \n",
    "    start = 'як'\n",
    "    start_x = [char_to_idx[x] for x in start]\n",
    "    for e in start_x: \n",
    "        pred, new_state = session.run([model.predictions, model.last_state], feed_dict={\n",
    "            model.input_x: np.array([e]).reshape(1, 1),\n",
    "            model.lstm_state: state\n",
    "        })\n",
    "        probabilities = pred[0][0]        \n",
    "        state = new_state\n",
    "\n",
    "    for _ in range(1000): \n",
    "        element = np.random.choice(range(vocab_size), p=probabilities)\n",
    "        sys.stdout.write(idx_to_char[element])\n",
    "        pred, new_state = session.run([model.predictions, model.last_state], feed_dict={\n",
    "            model.input_x: np.array([element]).reshape(1, 1),\n",
    "            model.lstm_state: state\n",
    "        })\n",
    "        probabilities = pred[0][0]        \n",
    "        state = new_state  "
   ]
  },
  {
   "cell_type": "code",
   "execution_count": 5,
   "metadata": {},
   "outputs": [
    {
     "ename": "SyntaxError",
     "evalue": "invalid syntax (model.py, line 38)",
     "traceback": [
      "Traceback \u001b[0;36m(most recent call last)\u001b[0m:\n",
      "  File \u001b[1;32m\"/usr/local/lib/python3.6/site-packages/IPython/core/interactiveshell.py\"\u001b[0m, line \u001b[1;32m2910\u001b[0m, in \u001b[1;35mrun_code\u001b[0m\n    exec(code_obj, self.user_global_ns, self.user_ns)\n",
      "\u001b[0;36m  File \u001b[0;32m\"<ipython-input-5-9e2da10b204b>\"\u001b[0;36m, line \u001b[0;32m1\u001b[0;36m, in \u001b[0;35m<module>\u001b[0;36m\u001b[0m\n\u001b[0;31m    from model import *\u001b[0m\n",
      "\u001b[0;36m  File \u001b[0;32m\"/Users/victor/Project/grammarly-nlp-course/prj-nlp/students/vikua/task_12/model.py\"\u001b[0;36m, line \u001b[0;32m38\u001b[0m\n\u001b[0;31m    dtype=tf.float32)\u001b[0m\n\u001b[0m        ^\u001b[0m\n\u001b[0;31mSyntaxError\u001b[0m\u001b[0;31m:\u001b[0m invalid syntax\n"
     ],
     "output_type": "error"
    }
   ],
   "source": [
    "from model import model1\n",
    "\n",
    "params = {\n",
    "    'vocab_size': vocab_size,\n",
    "    'sequence_length': sequence_length,\n",
    "    'dropout_keep_prob': 1,\n",
    "    'hidden_units': 128,\n",
    "    'num_layers': 2,\n",
    "}\n",
    "\n",
    "clf = tf.estimator.Estimator(model_fn=model1, model_dir='one_hot_model', params=params)"
   ]
  },
  {
   "cell_type": "code",
   "execution_count": null,
   "metadata": {},
   "outputs": [],
   "source": []
  }
 ],
 "metadata": {
  "kernelspec": {
   "display_name": "Python 3",
   "language": "python",
   "name": "python3"
  },
  "language_info": {
   "codemirror_mode": {
    "name": "ipython",
    "version": 3
   },
   "file_extension": ".py",
   "mimetype": "text/x-python",
   "name": "python",
   "nbconvert_exporter": "python",
   "pygments_lexer": "ipython3",
   "version": "3.6.4"
  }
 },
 "nbformat": 4,
 "nbformat_minor": 2
}
